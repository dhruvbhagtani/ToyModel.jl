{
 "cells": [
  {
   "cell_type": "code",
   "execution_count": 1,
   "id": "257444e2-ac12-4cfe-b093-604ba6c085fa",
   "metadata": {},
   "outputs": [
    {
     "name": "stdout",
     "output_type": "stream",
     "text": [
      "\u001b[32m\u001b[1m  Activating\u001b[22m\u001b[39m environment at `~/Desktop/PhD/Codes/julia_package/ToyModel.jl/Project.toml`\n",
      "\u001b[32m\u001b[1m    Updating\u001b[22m\u001b[39m git-repo `https://github.com/ClimateFluidPhysics-ANU/MixedLayerThermoclineDynamics.jl`\n",
      "\u001b[32m\u001b[1m    Updating\u001b[22m\u001b[39m registry at `~/.julia/registries/General`\n",
      "\u001b[32m\u001b[1m   Resolving\u001b[22m\u001b[39m package versions...\n",
      "\u001b[32m\u001b[1m  No Changes\u001b[22m\u001b[39m to `~/Desktop/PhD/Codes/julia_package/ToyModel.jl/Project.toml`\n",
      "\u001b[32m\u001b[1m  No Changes\u001b[22m\u001b[39m to `~/Desktop/PhD/Codes/julia_package/ToyModel.jl/Manifest.toml`\n"
     ]
    }
   ],
   "source": [
    "using Pkg\n",
    "using Plots\n",
    "using BenchmarkTools\n",
    "using CircularArrays\n",
    "\n",
    "Pkg.DEFAULT_IO[] = stdout\n",
    "Pkg.activate(\"../.\")\n",
    "\n",
    "Pkg.add(url=\"https://github.com/ClimateFluidPhysics-ANU/MixedLayerThermoclineDynamics.jl\", rev=\"master\")"
   ]
  },
  {
   "cell_type": "code",
   "execution_count": 2,
   "id": "b88b52f9-d172-4214-acc5-d89a0ca5a939",
   "metadata": {},
   "outputs": [
    {
     "data": {
      "text/plain": [
       "adv_x_Euler! (generic function with 1 method)"
      ]
     },
     "execution_count": 2,
     "metadata": {},
     "output_type": "execute_result"
    }
   ],
   "source": [
    "using MixedLayerThermoclineDynamics\n",
    "\n",
    "include(\"../Staggered/Grid/Periodic_avg.jl\")\n",
    "include(\"../Staggered/Advection/Periodic_1D.jl\")"
   ]
  },
  {
   "cell_type": "code",
   "execution_count": 3,
   "id": "c2fe627a-9917-4555-a2bf-a0d2d26e6317",
   "metadata": {},
   "outputs": [
    {
     "ename": "LoadError",
     "evalue": "UndefVarError: Grid not defined",
     "output_type": "error",
     "traceback": [
      "UndefVarError: Grid not defined",
      "",
      "Stacktrace:",
      " [1] top-level scope",
      "   @ In[3]:5",
      " [2] eval",
      "   @ ./boot.jl:360 [inlined]",
      " [3] include_string(mapexpr::typeof(REPL.softscope), mod::Module, code::String, filename::String)",
      "   @ Base ./loading.jl:1094"
     ]
    }
   ],
   "source": [
    "g = 9.81\n",
    "\n",
    "Lx = 6\n",
    "nx = 100\n",
    "grid = Grid(nx, -Lx/2, Lx/2);"
   ]
  },
  {
   "cell_type": "code",
   "execution_count": 4,
   "id": "ff6b7904-8c3b-421b-876f-00fd772234b9",
   "metadata": {},
   "outputs": [
    {
     "data": {
      "text/plain": [
       "flow! (generic function with 1 method)"
      ]
     },
     "execution_count": 4,
     "metadata": {},
     "output_type": "execute_result"
    }
   ],
   "source": [
    "function flow!(flow_sign, U_old, grid)\n",
    "    nx = grid.nx\n",
    "    for i in 1:nx\n",
    "        if(U_old[i] != 0.0)\n",
    "            flow_sign[i] = U_old[i]/abs(U_old[i])\n",
    "        else\n",
    "            flow_sign[i] = 0.0\n",
    "        end\n",
    "    end\n",
    "end"
   ]
  },
  {
   "cell_type": "code",
   "execution_count": 5,
   "id": "6d2fbaa4-5e99-4c66-bec0-76fc6859b027",
   "metadata": {},
   "outputs": [
    {
     "ename": "LoadError",
     "evalue": "type #grid has no field xt",
     "output_type": "error",
     "traceback": [
      "type #grid has no field xt",
      "",
      "Stacktrace:",
      " [1] getproperty(x::Function, f::Symbol)",
      "   @ Base ./Base.jl:33",
      " [2] top-level scope",
      "   @ In[5]:2",
      " [3] eval",
      "   @ ./boot.jl:360 [inlined]",
      " [4] include_string(mapexpr::typeof(REPL.softscope), mod::Module, code::String, filename::String)",
      "   @ Base ./loading.jl:1094"
     ]
    }
   ],
   "source": [
    "#Initialising variables\n",
    "xt = grid.xt\n",
    "xu = grid.xu\n",
    "dx = grid.dx\n",
    "\n",
    "#Tracer and momentum variables\n",
    "h_old = zeros(nx)\n",
    "@. h_old = 1 + 0.01*exp(-5*xt^2)\n",
    "h_new = zeros(nx)\n",
    "U_old = zeros(nx)\n",
    "U_new = zeros(nx)\n",
    "\n",
    "#Equation variables, modified several times at every time step\n",
    "adv = zeros(nx)\n",
    "dUdx = zeros(nx)\n",
    "dhdx = zeros(nx)\n",
    "dhdx_no = zeros(nx)\n",
    "U_avg = zeros(nx)\n",
    "h_avg = zeros(nx)\n",
    "flow_sign = zeros(nx)\n",
    "\n",
    "#Time variables\n",
    "t_start = 0\n",
    "t_end = 2\n",
    "dt = 0.001\n",
    "\n",
    "#Needed for making animations\n",
    "n_steps = Int(t_end/dt)\n",
    "h_data = zeros(nx, n_steps+1)\n",
    "count = 1\n",
    "\n",
    "for t in t_start:dt:t_end\n",
    "    flow!(flow_sign, U_old, grid)\n",
    "    avg_val(U_old, h_old, U_avg, h_avg)\n",
    "    adv_x_Euler!(adv, dUdx, U_old.*U_old/h_avg, flow_sign, grid)\n",
    "    ∂xt_cd!(dhdx, h_old.*2, grid, true)\n",
    "    ∂xu_cd!(dUdx, U_old, grid, true)\n",
    "    \n",
    "    U_new = U_old - dt*adv - 0.5*dt*g*dhdx\n",
    "    h_new = h_old - dt*dUdx\n",
    "    \n",
    "    U_old = U_new\n",
    "    h_old = h_new\n",
    "    \n",
    "    h_data[:, count] = h_old\n",
    "    count = count+1\n",
    "end"
   ]
  },
  {
   "cell_type": "code",
   "execution_count": 6,
   "id": "10739c58-d62e-4bec-85e7-16f34e3e4e69",
   "metadata": {},
   "outputs": [
    {
     "ename": "LoadError",
     "evalue": "UndefVarError: n_steps not defined",
     "output_type": "error",
     "traceback": [
      "UndefVarError: n_steps not defined",
      "",
      "Stacktrace:",
      " [1] top-level scope",
      "   @ ~/.julia/packages/Plots/XCJgc/src/animation.jl:183",
      " [2] eval",
      "   @ ./boot.jl:360 [inlined]",
      " [3] include_string(mapexpr::typeof(REPL.softscope), mod::Module, code::String, filename::String)",
      "   @ Base ./loading.jl:1094"
     ]
    }
   ],
   "source": [
    "skip = Int(20)\n",
    "anim = @animate for i in 1:skip:n_steps\n",
    "    plot(xt, h_data[:, i])\n",
    "    plot!(ylims = (1 - 0.01, 1 + 0.01))\n",
    "end\n",
    " \n",
    "gif(anim, \"Staggered_Conservative.gif\", fps = 8)"
   ]
  }
 ],
 "metadata": {
  "kernelspec": {
   "display_name": "Julia 1.6.1",
   "language": "julia",
   "name": "julia-1.6"
  },
  "language_info": {
   "file_extension": ".jl",
   "mimetype": "application/julia",
   "name": "julia",
   "version": "1.6.1"
  }
 },
 "nbformat": 4,
 "nbformat_minor": 5
}
