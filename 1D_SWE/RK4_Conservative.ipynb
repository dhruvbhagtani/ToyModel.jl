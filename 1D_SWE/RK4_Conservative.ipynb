{
 "cells": [
  {
   "cell_type": "code",
   "execution_count": 1,
   "id": "823241e2-c58f-4dee-8911-efd104fbe7d4",
   "metadata": {},
   "outputs": [
    {
     "name": "stdout",
     "output_type": "stream",
     "text": [
      "\u001b[32m\u001b[1m  Activating\u001b[22m\u001b[39m environment at `~/Research/ToyModel.jl/Project.toml`\n",
      "\u001b[32m\u001b[1m      Status\u001b[22m\u001b[39m `~/Research/ToyModel.jl/Project.toml`\n",
      " \u001b[90m [6e4b80f9] \u001b[39mBenchmarkTools v1.1.0\n",
      " \u001b[90m [1d4a6882] \u001b[39mMixedLayerThermoclineDynamics v0.1.0 `https://github.com/ClimateFluidPhysics-ANU/MixedLayerThermoclineDynamics.jl#master`\n",
      " \u001b[90m [6fe1bfb0] \u001b[39mOffsetArrays v1.10.3\n",
      " \u001b[90m [91a5bcdd] \u001b[39mPlots v1.19.1\n",
      "\u001b[32m\u001b[1m    Updating\u001b[22m\u001b[39m git-repo `https://github.com/ClimateFluidPhysics-ANU/MixedLayerThermoclineDynamics.jl`\n",
      "\u001b[32m\u001b[1m    Updating\u001b[22m\u001b[39m registry at `~/.julia/registries/General`\n",
      "\u001b[32m\u001b[1m    Updating\u001b[22m\u001b[39m git-repo `https://github.com/JuliaRegistries/General.git`\n",
      "\u001b[32m\u001b[1m   Resolving\u001b[22m\u001b[39m package versions...\n",
      "\u001b[32m\u001b[1m  No Changes\u001b[22m\u001b[39m to `~/Research/ToyModel.jl/Project.toml`\n",
      "\u001b[32m\u001b[1m  No Changes\u001b[22m\u001b[39m to `~/Research/ToyModel.jl/Manifest.toml`\n"
     ]
    }
   ],
   "source": [
    "using Pkg\n",
    "Pkg.DEFAULT_IO[] = stdout\n",
    "Pkg.activate(\"..\");\n",
    "Pkg.status()\n",
    "\n",
    "# this makes sure that the latest version of MixedLayerThermoclineDynamics.jl#master is pulled\n",
    "Pkg.add(url=\"https://github.com/ClimateFluidPhysics-ANU/MixedLayerThermoclineDynamics.jl\", rev=\"master\")"
   ]
  },
  {
   "cell_type": "code",
   "execution_count": 2,
   "id": "bbc2cd25-8b9f-47a5-bf13-af80927e4253",
   "metadata": {},
   "outputs": [],
   "source": [
    "using Plots\n",
    "using MixedLayerThermoclineDynamics"
   ]
  },
  {
   "cell_type": "code",
   "execution_count": null,
   "id": "26b8cd24-a5f7-49c7-9cdb-2b786cbca9e0",
   "metadata": {},
   "outputs": [],
   "source": [
    "include(\"../Staggered/Grid/Periodic_avg.jl\")\n",
    "include(\"../Staggered/Advection/Periodic_1D.jl\")"
   ]
  },
  {
   "cell_type": "code",
   "execution_count": null,
   "id": "67c9c46b-b95f-4793-8031-de4f39773579",
   "metadata": {},
   "outputs": [],
   "source": [
    "g = 9.81\n",
    "\n",
    "Lx = 5\n",
    "nx = 100\n",
    "grid = Grid1D(nx, -Lx/2, Lx/2);"
   ]
  },
  {
   "cell_type": "code",
   "execution_count": null,
   "id": "490d015c-1ad7-4979-b52a-afc1d72485d2",
   "metadata": {},
   "outputs": [],
   "source": [
    "#Initialising variables\n",
    "xt = grid.xC\n",
    "xu = grid.xF\n",
    "dx = grid.dx\n",
    "\n",
    "#Tracer and momentum variables\n",
    "h_old = zeros(nx)\n",
    "@. h_old = 1 + 0.01*exp(-2*(xt-1)^2)\n",
    "h_new = zeros(nx)\n",
    "U_old = zeros(nx)\n",
    "U_new = zeros(nx)\n",
    "\n",
    "#Equation variables, modified several times at every time step\n",
    "adv = zeros(nx)\n",
    "dUdx = zeros(nx)\n",
    "dhdx = zeros(nx)\n",
    "U_avg = zeros(nx)\n",
    "h_avg = zeros(nx)\n",
    "flow_sign = zeros(nx)\n",
    "\n",
    "k1U = zeros(nx)\n",
    "k2U = zeros(nx)\n",
    "k3U = zeros(nx)\n",
    "k4U = zeros(nx)\n",
    "k1h = zeros(nx)\n",
    "k2h = zeros(nx)\n",
    "k3h = zeros(nx)\n",
    "k4h = zeros(nx)\n",
    "U_temp = zeros(nx)\n",
    "h_temp = zeros(nx)\n",
    "\n",
    "U_right = zeros(nx)\n",
    "h_right = zeros(nx)\n",
    "\n",
    "#Time variables\n",
    "t_start = 0\n",
    "t_end = 2\n",
    "dt = 0.0001\n",
    "\n",
    "#Needed for making animations\n",
    "n_steps = Int(t_end/dt)\n",
    "h_data = zeros(nx, n_steps+1)\n",
    "U_data = zeros(nx, n_steps+1)\n",
    "count = 1"
   ]
  },
  {
   "cell_type": "code",
   "execution_count": null,
   "id": "f695537f-858a-41e7-a624-d1cec0e7bea6",
   "metadata": {},
   "outputs": [],
   "source": [
    "function RHS!(U_right, h_right, U, h, U_avg, h_avg, adv, dUdx, dhdx, flow_sign, grid, g)\n",
    "    @. flow_sign = sign(U)\n",
    "    avg_val(U, h, U_avg, h_avg, grid)\n",
    "    adv_x_Euler!(adv, dUdx, U.*U./h_avg, flow_sign, grid)\n",
    "    ∂xt_cd!(dhdx, h.^2, grid, true)\n",
    "    ∂xu_cd!(dUdx, U, grid, true)\n",
    "    \n",
    "    @. U_right = - adv - 0.5*g*dhdx\n",
    "    @. h_right = - dUdx\n",
    "end\n",
    "\n",
    "function RK4(dt, U, h, k1U, k2U, k3U, k4U, k1h, k2h, k3h, k4h, U_right, h_right, U_avg, h_avg, adv, dUdx, dhdx, flow_sign, grid, g)\n",
    "    \n",
    "    #Step 1\n",
    "    RHS!(k1U, k1h, U, h, U_avg, h_avg, adv, dUdx, dhdx, flow_sign, grid, g)\n",
    "    \n",
    "    #Step 2\n",
    "    @. U_temp = U + dt/2*k1U\n",
    "    @. h_temp = h + dt/2*k1h\n",
    "    RHS!(k2U, k2h, U_temp, h_temp, U_avg, h_avg, adv, dUdx, dhdx, flow_sign, grid, g)\n",
    "    \n",
    "    #Step 3\n",
    "    @. U_temp = U + dt/2*k2U\n",
    "    @. h_temp = h + dt/2*k2h\n",
    "    RHS!(k3U, k3h, U_temp, h_temp, U_avg, h_avg, adv, dUdx, dhdx, flow_sign, grid, g)\n",
    "    \n",
    "    #Step 4\n",
    "    @. U_temp = U + dt*k3U\n",
    "    @. h_temp = h + dt*k3h\n",
    "    RHS!(k4U, k4h, U_temp, h_temp, U_avg, h_avg, adv, dUdx, dhdx, flow_sign, grid, g)\n",
    "    \n",
    "    #Doing weighted average\n",
    "    @. U = U + dt/6*(k1U + 2*k2U + 2*k3U + k4U)\n",
    "    @. h = h + dt/6*(k1h + 2*k2h + 2*k3h + k4h)\n",
    "end"
   ]
  },
  {
   "cell_type": "code",
   "execution_count": null,
   "id": "81914c04-43da-4ddb-951f-7885a2c376ce",
   "metadata": {},
   "outputs": [],
   "source": [
    "for t in t_start:dt:t_end\n",
    "    \n",
    "    RK4(dt, U_old, h_old, k1U, k2U, k3U, k4U, k1h, k2h, k3h, k4h, U_right, h_right, U_avg, h_avg, adv, dUdx, dhdx, flow_sign, grid, g)\n",
    "    \n",
    "    h_data[:, count] = h_old\n",
    "    U_data[:, count] = U_old\n",
    "    count = count+1\n",
    "end"
   ]
  },
  {
   "cell_type": "code",
   "execution_count": null,
   "id": "74bd6f15-deb4-4c43-be59-9150e1e02c99",
   "metadata": {},
   "outputs": [],
   "source": [
    "skip = Int(50)\n",
    "anim = @animate for i in 1:skip:n_steps\n",
    "    plot(xt, h_data[:, i])\n",
    "    plot!(ylims = (1 - 0.01, 1 + 0.01))\n",
    "    title!(string(i*dt))\n",
    "end\n",
    "\n",
    "gif(anim, \"Staggered_Conservative.gif\", fps = 16)"
   ]
  }
 ],
 "metadata": {
  "kernelspec": {
   "display_name": "Julia 1.6.0",
   "language": "julia",
   "name": "julia-1.6"
  },
  "language_info": {
   "file_extension": ".jl",
   "mimetype": "application/julia",
   "name": "julia",
   "version": "1.6.2"
  }
 },
 "nbformat": 4,
 "nbformat_minor": 5
}
