{
 "cells": [
  {
   "cell_type": "code",
   "execution_count": 6,
   "id": "actual-calgary",
   "metadata": {},
   "outputs": [
    {
     "name": "stdout",
     "output_type": "stream",
     "text": [
      "\u001b[32m\u001b[1m  Activating\u001b[22m\u001b[39m environment at `~/Research/ToyModel.jl/Project.toml`\n"
     ]
    }
   ],
   "source": [
    "using Pkg; Pkg.DEFAULT_IO[] = stdout; Pkg.activate(\".\"); Pkg.instantiate();"
   ]
  },
  {
   "cell_type": "code",
   "execution_count": 15,
   "id": "d49aa994-4264-4686-bee0-863a485e7d2e",
   "metadata": {},
   "outputs": [
    {
     "name": "stdout",
     "output_type": "stream",
     "text": [
      "\u001b[32m\u001b[1m      Status\u001b[22m\u001b[39m `~/Research/ToyModel.jl/Project.toml`\n",
      " \u001b[90m [6e4b80f9] \u001b[39m\u001b[37mBenchmarkTools v1.1.0\u001b[39m\n",
      " \u001b[90m [91a5bcdd] \u001b[39m\u001b[37mPlots v1.16.7\u001b[39m\n"
     ]
    }
   ],
   "source": [
    "Pkg.status()"
   ]
  },
  {
   "cell_type": "code",
   "execution_count": 16,
   "id": "a6884ceb-dadb-4fd7-9840-1a24a9e34b5b",
   "metadata": {},
   "outputs": [],
   "source": [
    "using BenchmarkTools"
   ]
  },
  {
   "cell_type": "code",
   "execution_count": 17,
   "id": "cardiac-journey",
   "metadata": {},
   "outputs": [],
   "source": [
    "g = 9.81\n",
    "\n",
    "Lx = 100\n",
    "nx = 25\n",
    "dx = Lx/nx\n",
    "x = LinRange(0, Lx, nx+1)\n",
    "x_trunc = x[1:nx];"
   ]
  },
  {
   "cell_type": "code",
   "execution_count": 22,
   "id": "730bff5d-612d-4760-8e20-6dda455fb887",
   "metadata": {},
   "outputs": [],
   "source": [
    "function partial_x(f, dx)\n",
    "\n",
    "    nx, = size(phi_true)\n",
    "    dfdx = zeros(nx)\n",
    "    for i in 2:nx\n",
    "        dfdx[1] = 1/(dx) * (f[1] - f[nx])\n",
    "        dfdx[i] = 1/(dx) * (f[i]-f[i-1])\n",
    "    end\n",
    "    return dfdx\n",
    "end\n",
    "\n",
    "function adv_x_Euler(f1, a, dx)\n",
    "    nx, = size(phi_true)\n",
    "    f2 = zeros(nx)\n",
    "    f2 .= a .* partial_x(f1, dx)\n",
    "    return f2\n",
    "end;"
   ]
  },
  {
   "cell_type": "code",
   "execution_count": 28,
   "id": "present-conviction",
   "metadata": {},
   "outputs": [
    {
     "data": {
      "text/plain": [
       "stepforward_original (generic function with 1 method)"
      ]
     },
     "execution_count": 28,
     "metadata": {},
     "output_type": "execute_result"
    }
   ],
   "source": [
    "#Initialising variables\n",
    "\n",
    "phi_old = sin.(2*π*x/(Lx))\n",
    "phi_old = phi_old[1:nx]\n",
    "phi_new = zeros(nx)\n",
    "\n",
    "a = 1 #Speed of advection\n",
    "\n",
    "#Time variables\n",
    "t_start = 0\n",
    "t_end = 100\n",
    "dt = 1\n",
    "\n",
    "a = 1\n",
    "\n",
    "#True solution\n",
    "phi_true = sin.(2*π*x/(Lx))[1:nx]\n",
    "\n",
    "#Needed for making animations\n",
    "n_steps = Int(t_end/dt)\n",
    "phi_data = zeros(nx, n_steps + 1)\n",
    "phi_true_data = zeros(nx, n_steps + 1)\n",
    "\n",
    "#Advecting the variable for fixed number of time steps\n",
    "\n",
    "\n",
    "function stepforward_original(phi_old, t_start, t_end, dt)\n",
    "    count = 1\n",
    "    for t in t_start:dt:t_end\n",
    "        phi_new = phi_old - dt*adv_x_Euler(phi_old, a, dx)\n",
    "        @. phi_true = sin(2*π*(x_trunc - a*(t))/Lx)\n",
    "        phi_old = phi_new\n",
    "#         phi_data[:, count] = phi_old\n",
    "#         phi_true_data[:, count] = phi_true\n",
    "        count = count+1\n",
    "    end\n",
    "end"
   ]
  },
  {
   "cell_type": "code",
   "execution_count": 32,
   "id": "bca54c18-f8a8-4e78-b054-158ad1c1b1ba",
   "metadata": {},
   "outputs": [
    {
     "name": "stdout",
     "output_type": "stream",
     "text": [
      "  4.987 μs (268 allocations: 4.86 KiB)\n"
     ]
    }
   ],
   "source": [
    "@btime partial_x(phi_old, dx);"
   ]
  },
  {
   "cell_type": "code",
   "execution_count": 33,
   "id": "410368f1-f425-4e23-925f-6b102f44cd6a",
   "metadata": {},
   "outputs": [
    {
     "name": "stdout",
     "output_type": "stream",
     "text": [
      "  5.363 μs (273 allocations: 5.25 KiB)\n"
     ]
    }
   ],
   "source": [
    "@btime adv_x_Euler(phi_old, a, dx);"
   ]
  },
  {
   "cell_type": "code",
   "execution_count": 34,
   "id": "c83429a5-88fa-4e9b-9aee-9643a2fcb406",
   "metadata": {},
   "outputs": [
    {
     "name": "stdout",
     "output_type": "stream",
     "text": [
      "  789.414 μs (28785 allocations: 650.19 KiB)\n"
     ]
    }
   ],
   "source": [
    "@btime stepforward_original(phi_old, t_start, t_end, dt);"
   ]
  },
  {
   "cell_type": "markdown",
   "id": "a355d25b-7f4d-4d82-aa62-179fb626a32a",
   "metadata": {},
   "source": [
    "Now let's try to optimize."
   ]
  },
  {
   "cell_type": "code",
   "execution_count": 47,
   "id": "better-freeze",
   "metadata": {},
   "outputs": [],
   "source": [
    "function partial_x!(dfdx, f, dx, nx)\n",
    "    dfdx[1] = (f[1] - f[nx]) / dx\n",
    "    for i in 2:nx\n",
    "        dfdx[i] = (f[i] - f[i-1]) / dx\n",
    "    end\n",
    "end\n",
    "\n",
    "function adv_x_Euler!(u∇φ, dfdx, f, a, dx, nx)\n",
    "    partial_x!(dfdx, f, dx, nx)\n",
    "    @. u∇φ = a * dfdx\n",
    "end;"
   ]
  },
  {
   "cell_type": "code",
   "execution_count": 55,
   "id": "da5198c6-f3f6-4c13-8450-d9668350092d",
   "metadata": {},
   "outputs": [],
   "source": [
    "dφdx = similar(phi_old)\n",
    "u∇φ = similar(phi_old)\n",
    "φtrue = similar(phi_old);"
   ]
  },
  {
   "cell_type": "code",
   "execution_count": 49,
   "id": "celtic-fluid",
   "metadata": {},
   "outputs": [
    {
     "name": "stdout",
     "output_type": "stream",
     "text": [
      "  38.696 ns (0 allocations: 0 bytes)\n"
     ]
    }
   ],
   "source": [
    "@btime partial_x!(dφdx, phi_old, dx, nx);"
   ]
  },
  {
   "cell_type": "code",
   "execution_count": 50,
   "id": "secondary-politics",
   "metadata": {},
   "outputs": [
    {
     "name": "stdout",
     "output_type": "stream",
     "text": [
      "  51.153 ns (0 allocations: 0 bytes)\n"
     ]
    }
   ],
   "source": [
    "@btime adv_x_Euler!(u∇φ, dφdx, phi_old, a, dx, nx);"
   ]
  },
  {
   "cell_type": "code",
   "execution_count": 73,
   "id": "apparent-ceiling",
   "metadata": {},
   "outputs": [
    {
     "data": {
      "text/plain": [
       "stepforward_optimized! (generic function with 1 method)"
      ]
     },
     "execution_count": 73,
     "metadata": {},
     "output_type": "execute_result"
    }
   ],
   "source": [
    "function stepforward_optimized!(u∇φ, dφdx, phi_old, φtrue, t_start, t_end, dt, x_trunc, Lx, a)\n",
    "    for t in t_start:dt:t_end\n",
    "        adv_x_Euler!(u∇φ, dφdx, phi_old, a, dx, nx)\n",
    "        @. phi_old -= dt * u∇φ\n",
    "        @. φtrue = sin(2π * (x_trunc - a*t)/Lx)\n",
    "#         phi_data[:, count] = phi_old\n",
    "#         phi_true_data[:, count] = phi_true\n",
    "    end\n",
    "end"
   ]
  },
  {
   "cell_type": "code",
   "execution_count": 74,
   "id": "announced-screen",
   "metadata": {},
   "outputs": [
    {
     "name": "stdout",
     "output_type": "stream",
     "text": [
      "  33.920 μs (0 allocations: 0 bytes)\n"
     ]
    }
   ],
   "source": [
    "@btime stepforward_optimized!(u∇φ, dφdx, phi_old, φtrue, t_start, t_end, dt, x_trunc, Lx,  a)"
   ]
  }
 ],
 "metadata": {
  "kernelspec": {
   "display_name": "Julia 1.6.0",
   "language": "julia",
   "name": "julia-1.6"
  },
  "language_info": {
   "file_extension": ".jl",
   "mimetype": "application/julia",
   "name": "julia",
   "version": "1.6.1"
  }
 },
 "nbformat": 4,
 "nbformat_minor": 5
}
