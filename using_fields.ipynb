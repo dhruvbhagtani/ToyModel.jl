{
 "cells": [
  {
   "cell_type": "code",
   "execution_count": null,
   "id": "8b9d94bf-77ee-4fb6-8005-fa5e5cd7a569",
   "metadata": {},
   "outputs": [],
   "source": [
    "using Pkg; Pkg.DEFAULT_IO[] = stdout; Pkg.activate(\".\"); Pkg.instantiate();"
   ]
  },
  {
   "cell_type": "code",
   "execution_count": null,
   "id": "d9f88d22-911b-4a88-81c4-680c527e08d8",
   "metadata": {},
   "outputs": [],
   "source": [
    "Pkg.status()"
   ]
  },
  {
   "cell_type": "code",
   "execution_count": null,
   "id": "719e5e98-578a-4e19-b437-f18804750613",
   "metadata": {},
   "outputs": [],
   "source": [
    "using OffsetArrays\n",
    "\n",
    "L = 2.0\n",
    "n = 15\n",
    "dx = L/n\n",
    "\n",
    "# number of halo points\n",
    "nh = 2\n",
    "\n",
    "# a grid with periodic BC\n",
    "xᶠ = OffsetArray(-nh*dx:dx:L-dx+nh*dx, -nh)\n",
    "xᶜ = OffsetArray(-nh*dx+dx/2:dx:L-dx/2+nh*dx, -nh);"
   ]
  },
  {
   "cell_type": "code",
   "execution_count": null,
   "id": "8605efb3-4632-4b89-a1ab-e5e842174a33",
   "metadata": {},
   "outputs": [],
   "source": [
    "u₀(x) = sin(2π/L * x)\n",
    "h₀(x) = cos(4π/L * x);"
   ]
  },
  {
   "cell_type": "code",
   "execution_count": null,
   "id": "53c68a85-974c-4e29-8abd-0713b1627abf",
   "metadata": {},
   "outputs": [],
   "source": [
    "udata = u₀.(xᶠ)\n",
    "hdata = h₀.(xᶜ);"
   ]
  },
  {
   "cell_type": "code",
   "execution_count": null,
   "id": "8b4a7f3e-f86a-4c55-b03e-56f0477ce9ae",
   "metadata": {},
   "outputs": [],
   "source": [
    "∂udata_theoretical =   2π/L * cos.(2π/L * xᶜ)\n",
    "∂hdata_theoretical = - 4π/L * sin.(4π/L * xᶠ);"
   ]
  },
  {
   "cell_type": "code",
   "execution_count": null,
   "id": "3a21df86-77c0-4389-9ff5-ad65b30e7c52",
   "metadata": {},
   "outputs": [],
   "source": [
    "udata"
   ]
  },
  {
   "cell_type": "code",
   "execution_count": null,
   "id": "ef6cad4e-ea11-43d7-9d15-dc39bea1e401",
   "metadata": {},
   "outputs": [],
   "source": [
    "struct Grid\n",
    "    L\n",
    "    n\n",
    "    dx\n",
    "    xᶠ\n",
    "    xᶜ\n",
    "end\n",
    "\n",
    "grid = Grid(L, n, dx, xᶠ, xᶜ)"
   ]
  },
  {
   "cell_type": "code",
   "execution_count": null,
   "id": "6f6d9651-5b29-4433-855f-935dc6fbcb2b",
   "metadata": {},
   "outputs": [],
   "source": [
    "faces(grid::Grid) = grid.xᶠ[1:grid.n]\n",
    "cells(grid::Grid) = grid.xᶜ[1:grid.n];"
   ]
  },
  {
   "cell_type": "code",
   "execution_count": null,
   "id": "86b8a785-f973-42a3-bb2e-d72bfee34a9a",
   "metadata": {},
   "outputs": [],
   "source": [
    "struct BasicField\n",
    "    data::AbstractArray\n",
    "    location::AbstractArray\n",
    "end\n",
    "\n",
    "ufield = BasicField(udata, xᶠ)\n",
    "\n",
    "hfield = BasicField(hdata, xᶜ)"
   ]
  },
  {
   "cell_type": "code",
   "execution_count": null,
   "id": "83529710-97a3-445e-877d-7e0777d4ac04",
   "metadata": {},
   "outputs": [],
   "source": [
    "using Plots"
   ]
  },
  {
   "cell_type": "code",
   "execution_count": null,
   "id": "34aba7d5-7024-4f9a-9e2d-d59968127132",
   "metadata": {},
   "outputs": [],
   "source": [
    "plot(ufield.location, ufield.data, marker=:circle)\n",
    "plot!(hfield.location, hfield.data, marker=:square)"
   ]
  },
  {
   "cell_type": "markdown",
   "id": "acd892b1-b44b-43f9-9bb0-1601d491d906",
   "metadata": {},
   "source": [
    "Btw, we can add a method for `Plots.plot()` :)"
   ]
  },
  {
   "cell_type": "code",
   "execution_count": null,
   "id": "b601a1ff-cd03-4cff-89d3-37124a4d2400",
   "metadata": {},
   "outputs": [],
   "source": [
    "import Plots: plot, plot!\n",
    "Plots.plot(f::BasicField, args...; kwargs...) = plot(f.location, f.data, args...; kwargs...)\n",
    "Plots.plot!(f::BasicField, args...; kwargs...) = plot!(f.location, f.data, args...; kwargs...)"
   ]
  },
  {
   "cell_type": "code",
   "execution_count": null,
   "id": "01d97917-02aa-469a-9666-9b77b1bdc24c",
   "metadata": {},
   "outputs": [],
   "source": [
    "plot(ufield, marker=:circle)\n",
    "plot!(hfield, marker=:square)"
   ]
  },
  {
   "cell_type": "markdown",
   "id": "4a775094-20c2-46df-ac18-9986e9aed2f5",
   "metadata": {},
   "source": [
    "Let's make a better `Field` type that contains the location of the field as parameter."
   ]
  },
  {
   "cell_type": "code",
   "execution_count": null,
   "id": "5e5f775d-ac62-424a-ae75-71d01376af59",
   "metadata": {},
   "outputs": [],
   "source": [
    "abstract type AbstractLocation end"
   ]
  },
  {
   "cell_type": "code",
   "execution_count": null,
   "id": "27a8c832-f88a-4461-b2d4-3298cdfc2e39",
   "metadata": {},
   "outputs": [],
   "source": [
    "struct Cell <: AbstractLocation end \n",
    "struct Face <: AbstractLocation end "
   ]
  },
  {
   "cell_type": "code",
   "execution_count": null,
   "id": "7f2de97b-f6af-43e7-8735-a103b6c29681",
   "metadata": {},
   "outputs": [],
   "source": [
    "struct Field{L<:AbstractLocation}\n",
    "    data\n",
    "    grid\n",
    "end"
   ]
  },
  {
   "cell_type": "code",
   "execution_count": null,
   "id": "d8f3a6f2-e587-4194-94c0-8229c1ff5ec5",
   "metadata": {},
   "outputs": [],
   "source": [
    "import Plots: plot, plot!\n",
    "Plots.plot(f::Field{Face}, args...; kwargs...) = plot(f.grid.xᶠ, f.data, args...; kwargs...)\n",
    "Plots.plot(f::Field{Cell}, args...; kwargs...) = plot(f.grid.xᶜ, f.data, args...; kwargs...)\n",
    "Plots.plot!(f::Field{Face}, args...; kwargs...) = plot!(faces(f.grid), f.data, args...; kwargs...)\n",
    "Plots.plot!(f::Field{Cell}, args...; kwargs...) = plot!(cells(f.grid), f.data, args...; kwargs...)"
   ]
  },
  {
   "cell_type": "code",
   "execution_count": null,
   "id": "23586fc5-b51e-4e6a-bf4f-d73fe13fa111",
   "metadata": {},
   "outputs": [],
   "source": [
    "u = Field{Face}(udata, grid)\n",
    "h = Field{Cell}(hdata, grid)"
   ]
  },
  {
   "cell_type": "markdown",
   "id": "1a92d825-8990-4a76-af48-7de9d9a2cfe6",
   "metadata": {},
   "source": [
    "Now the types of the fields include information on whether the field lives on cell centers or interfaces. Thus we can write different function methods based on field type."
   ]
  },
  {
   "cell_type": "code",
   "execution_count": null,
   "id": "8b54ce5e-cd40-4a63-8336-2bd5016cb9f9",
   "metadata": {},
   "outputs": [],
   "source": [
    "typeof(u)"
   ]
  },
  {
   "cell_type": "code",
   "execution_count": null,
   "id": "8802eb67-9e75-4e52-a4af-0dcf07a53f0c",
   "metadata": {},
   "outputs": [],
   "source": [
    "typeof(h)"
   ]
  },
  {
   "cell_type": "markdown",
   "id": "bd5f2801-247d-4234-9009-2968da019ba4",
   "metadata": {},
   "source": [
    "Now let's compute derivatives of fields."
   ]
  },
  {
   "cell_type": "code",
   "execution_count": null,
   "id": "7e05febf-4e0f-460c-8ffa-1e3dfd4d58b7",
   "metadata": {},
   "outputs": [],
   "source": [
    "δᶜ(i, u) = u[i+1] - u[i]\n",
    "δᶠ(i, h) = h[i] - h[i-1];"
   ]
  },
  {
   "cell_type": "code",
   "execution_count": null,
   "id": "f7afd006-6fde-4982-a41f-e4df3d0bd788",
   "metadata": {},
   "outputs": [],
   "source": [
    "δ(i, f::Field{<:Cell}) = δᶠ(i, f.data)\n",
    "δ(i, f::Field{<:Face}) = δᶜ(i, f.data);"
   ]
  },
  {
   "cell_type": "code",
   "execution_count": null,
   "id": "30effe7d-a823-4879-8b68-d38438f3f44c",
   "metadata": {},
   "outputs": [],
   "source": [
    "using BenchmarkTools"
   ]
  },
  {
   "cell_type": "code",
   "execution_count": null,
   "id": "3025622e-a1a9-4aab-8381-517fd79027e7",
   "metadata": {},
   "outputs": [],
   "source": [
    "@btime δᶠ(3, h.data)"
   ]
  },
  {
   "cell_type": "code",
   "execution_count": null,
   "id": "3c3f791c-23f5-42fa-bf75-53d93f3d9d39",
   "metadata": {},
   "outputs": [],
   "source": [
    "@btime δ(3, h)"
   ]
  },
  {
   "cell_type": "code",
   "execution_count": null,
   "id": "d3f5b9ea-0eba-4a3e-bc97-6543de2ddd18",
   "metadata": {},
   "outputs": [],
   "source": [
    "∂(i, f::Field{<:Cell}) = δᶠ(i, f.data) / f.grid.dx\n",
    "∂(i, f::Field{<:Face}) = δᶜ(i, f.data) / f.grid.dx;"
   ]
  },
  {
   "cell_type": "code",
   "execution_count": null,
   "id": "91b26e32-f3f4-46eb-8a80-207839528971",
   "metadata": {},
   "outputs": [],
   "source": [
    "function ∂_arrays(i, ψ::AbstractArray, grid; location=\"face\")\n",
    "    if location == \"face\"\n",
    "        return δᶜ(i, ψ) / grid.dx\n",
    "    else\n",
    "        return δᶠ(i, ψ) / grid.dx\n",
    "    end\n",
    "    \n",
    "end"
   ]
  },
  {
   "cell_type": "code",
   "execution_count": null,
   "id": "1b6b8310-1bec-4c49-b0aa-a0970f9bef70",
   "metadata": {},
   "outputs": [],
   "source": [
    "∂udata = similar(udata)\n",
    "\n",
    "for i in 1:n\n",
    "    ∂udata[i] = ∂(i, u)\n",
    "end"
   ]
  },
  {
   "cell_type": "code",
   "execution_count": null,
   "id": "2efa5548-5bbd-4b10-9d30-0fc2db4ac065",
   "metadata": {},
   "outputs": [],
   "source": [
    "plot(xᶜ[1:n], ∂udata[1:n])\n",
    "plot!(xᶜ[1:n], ∂udata_theoretical[1:n])"
   ]
  },
  {
   "cell_type": "code",
   "execution_count": null,
   "id": "5ba46024-b8bb-43a2-ab2a-934bf1151038",
   "metadata": {},
   "outputs": [],
   "source": [
    "@btime ∂(10, h);"
   ]
  },
  {
   "cell_type": "code",
   "execution_count": null,
   "id": "4c32c32c-0f08-4c88-b4cb-d7830dbbe811",
   "metadata": {},
   "outputs": [],
   "source": [
    "@btime ∂_arrays(10, udata, grid; location=\"cell\");"
   ]
  },
  {
   "cell_type": "code",
   "execution_count": null,
   "id": "6c291bb4-ed64-4323-b362-0407351d6c19",
   "metadata": {},
   "outputs": [],
   "source": [
    "∂u = Field{Cell}(similar(u.data), grid)\n",
    "∂h = Field{Face}(similar(h.data), grid)"
   ]
  },
  {
   "cell_type": "code",
   "execution_count": null,
   "id": "af1231ac-2efe-4bb4-a88d-34ba5eb8bed5",
   "metadata": {},
   "outputs": [],
   "source": [
    "function ∂!(∂f::Field, f::Field)\n",
    "    @simd for i in 1:f.grid.n\n",
    "        ∂f.data[i] = ∂(i, f)\n",
    "    end\n",
    "end;"
   ]
  },
  {
   "cell_type": "code",
   "execution_count": null,
   "id": "edfc4ca8-f4b8-4237-9fa3-de1d842a00ff",
   "metadata": {},
   "outputs": [],
   "source": [
    "@btime ∂!(∂u, u)"
   ]
  },
  {
   "cell_type": "code",
   "execution_count": null,
   "id": "b86d1557-bf40-4420-a928-5ef8e40d5561",
   "metadata": {},
   "outputs": [],
   "source": [
    "@btime ∂!(∂h, h)"
   ]
  },
  {
   "cell_type": "code",
   "execution_count": null,
   "id": "3dbc3a8b-0d98-489d-8e23-33fcd7541c61",
   "metadata": {},
   "outputs": [],
   "source": [
    "plot(∂u, marker=:circle)\n",
    "plot!(xᶜ[1:n], ∂udata_theoretical[1:n])"
   ]
  },
  {
   "cell_type": "code",
   "execution_count": null,
   "id": "4ea3224b-9cf6-4081-ad0f-cb4976da1a24",
   "metadata": {},
   "outputs": [],
   "source": [
    "plot(∂h, marker=:circle)\n",
    "plot!(xᶠ[1:n], ∂hdata_theoretical[1:n])"
   ]
  }
 ],
 "metadata": {
  "kernelspec": {
   "display_name": "Julia 1.6.0",
   "language": "julia",
   "name": "julia-1.6"
  },
  "language_info": {
   "file_extension": ".jl",
   "mimetype": "application/julia",
   "name": "julia",
   "version": "1.6.1"
  }
 },
 "nbformat": 4,
 "nbformat_minor": 5
}
