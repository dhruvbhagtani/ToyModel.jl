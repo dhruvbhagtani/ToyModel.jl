{
 "cells": [
  {
   "cell_type": "code",
   "execution_count": 1,
   "id": "8b9d94bf-77ee-4fb6-8005-fa5e5cd7a569",
   "metadata": {},
   "outputs": [
    {
     "name": "stdout",
     "output_type": "stream",
     "text": [
      "\u001b[32m\u001b[1m  Activating\u001b[22m\u001b[39m environment at `~/Research/ToyModel.jl/Project.toml`\n"
     ]
    }
   ],
   "source": [
    "using Pkg; Pkg.DEFAULT_IO[] = stdout; Pkg.activate(\".\"); Pkg.instantiate();"
   ]
  },
  {
   "cell_type": "code",
   "execution_count": 2,
   "id": "d9f88d22-911b-4a88-81c4-680c527e08d8",
   "metadata": {},
   "outputs": [
    {
     "name": "stdout",
     "output_type": "stream",
     "text": [
      "\u001b[32m\u001b[1m      Status\u001b[22m\u001b[39m `~/Research/ToyModel.jl/Project.toml`\n",
      " \u001b[90m [6e4b80f9] \u001b[39m\u001b[37mBenchmarkTools v1.1.0\u001b[39m\n",
      " \u001b[90m [6fe1bfb0] \u001b[39m\u001b[37mOffsetArrays v1.10.2\u001b[39m\n",
      " \u001b[90m [91a5bcdd] \u001b[39m\u001b[37mPlots v1.16.7\u001b[39m\n"
     ]
    }
   ],
   "source": [
    "Pkg.status()"
   ]
  },
  {
   "cell_type": "code",
   "execution_count": 3,
   "id": "719e5e98-578a-4e19-b437-f18804750613",
   "metadata": {},
   "outputs": [],
   "source": [
    "using OffsetArrays\n",
    "\n",
    "L = 2.0\n",
    "n = 15\n",
    "dx = L/n\n",
    "\n",
    "# number of halo points\n",
    "nh = 2\n",
    "\n",
    "# a grid with periodic BC\n",
    "xᶠ = OffsetArray(-nh*dx:dx:L-dx+nh*dx, -nh)\n",
    "xᶜ = OffsetArray(-nh*dx+dx/2:dx:L-dx/2+nh*dx, -nh);"
   ]
  },
  {
   "cell_type": "code",
   "execution_count": 4,
   "id": "8605efb3-4632-4b89-a1ab-e5e842174a33",
   "metadata": {},
   "outputs": [],
   "source": [
    "u₀(x) = sin(2π/L * x)\n",
    "h₀(x) = cos(4π/L * x);"
   ]
  },
  {
   "cell_type": "code",
   "execution_count": 5,
   "id": "53c68a85-974c-4e29-8abd-0713b1627abf",
   "metadata": {},
   "outputs": [],
   "source": [
    "udata = u₀.(xᶠ)\n",
    "hdata = h₀.(xᶜ);"
   ]
  },
  {
   "cell_type": "code",
   "execution_count": 6,
   "id": "8b4a7f3e-f86a-4c55-b03e-56f0477ce9ae",
   "metadata": {},
   "outputs": [],
   "source": [
    "∂udata_theoretical =   2π/L * cos.(2π/L * xᶜ)\n",
    "∂hdata_theoretical = - 4π/L * sin.(4π/L * xᶠ);"
   ]
  },
  {
   "cell_type": "code",
   "execution_count": 7,
   "id": "3a21df86-77c0-4389-9ff5-ad65b30e7c52",
   "metadata": {},
   "outputs": [
    {
     "data": {
      "text/plain": [
       "19-element OffsetArray(::Vector{Float64}, -1:17) with eltype Float64 with indices -1:17:\n",
       " -0.7431448254773941\n",
       " -0.40673664307580015\n",
       "  0.0\n",
       "  0.40673664307580015\n",
       "  0.7431448254773941\n",
       "  0.9510565162951535\n",
       "  0.9945218953682734\n",
       "  0.8660254037844387\n",
       "  0.5877852522924732\n",
       "  0.20791169081775931\n",
       " -0.20791169081775907\n",
       " -0.587785252292473\n",
       " -0.8660254037844385\n",
       " -0.9945218953682733\n",
       " -0.9510565162951536\n",
       " -0.743144825477394\n",
       " -0.40673664307580015\n",
       " -2.4492935982947064e-16\n",
       "  0.4067366430757997"
      ]
     },
     "execution_count": 7,
     "metadata": {},
     "output_type": "execute_result"
    }
   ],
   "source": [
    "udata"
   ]
  },
  {
   "cell_type": "code",
   "execution_count": 8,
   "id": "ef6cad4e-ea11-43d7-9d15-dc39bea1e401",
   "metadata": {},
   "outputs": [
    {
     "data": {
      "text/plain": [
       "Grid(2.0, 15, 0.13333333333333333, -0.26666666666666666:0.13333333333333333:2.1333333333333333 with indices -1:17, -0.2:0.13333333333333333:2.2 with indices -1:17)"
      ]
     },
     "execution_count": 8,
     "metadata": {},
     "output_type": "execute_result"
    }
   ],
   "source": [
    "struct Grid\n",
    "    L\n",
    "    n\n",
    "    dx\n",
    "    xᶠ\n",
    "    xᶜ\n",
    "end\n",
    "\n",
    "grid = Grid(L, n, dx, xᶠ, xᶜ)"
   ]
  },
  {
   "cell_type": "code",
   "execution_count": 9,
   "id": "6f6d9651-5b29-4433-855f-935dc6fbcb2b",
   "metadata": {},
   "outputs": [],
   "source": [
    "faces(grid::Grid) = xᶠ[1:grid.n]\n",
    "cells(grid::Grid) = xᶜ[1:grid.n];"
   ]
  },
  {
   "cell_type": "code",
   "execution_count": 10,
   "id": "86b8a785-f973-42a3-bb2e-d72bfee34a9a",
   "metadata": {},
   "outputs": [
    {
     "data": {
      "text/plain": [
       "BasicField([0.30901699437494745, 0.9135454576426009, 0.9135454576426009, 0.30901699437494745, -0.4999999999999998, -0.9781476007338057, -0.8090169943749475, -0.10452846326765423, 0.6691306063588585, 1.0, 0.6691306063588589, -0.10452846326765287, -0.8090169943749472, -0.9781476007338055, -0.49999999999999983, 0.309016994374947, 0.9135454576426004, 0.9135454576426009, 0.30901699437494623], -0.2:0.13333333333333333:2.2 with indices -1:17)"
      ]
     },
     "execution_count": 10,
     "metadata": {},
     "output_type": "execute_result"
    }
   ],
   "source": [
    "struct BasicField\n",
    "    data::AbstractArray\n",
    "    location::AbstractArray\n",
    "end\n",
    "\n",
    "ufield = BasicField(udata, xᶠ)\n",
    "\n",
    "hfield = BasicField(hdata, xᶜ)"
   ]
  },
  {
   "cell_type": "code",
   "execution_count": 11,
   "id": "83529710-97a3-445e-877d-7e0777d4ac04",
   "metadata": {},
   "outputs": [
    {
     "name": "stderr",
     "output_type": "stream",
     "text": [
      "WARNING: using Plots.grid in module Main conflicts with an existing identifier.\n"
     ]
    }
   ],
   "source": [
    "using Plots"
   ]
  },
  {
   "cell_type": "code",
   "execution_count": 12,
   "id": "34aba7d5-7024-4f9a-9e2d-d59968127132",
   "metadata": {},
   "outputs": [
    {
     "data": {
      "image/svg+xml": [
       "<?xml version=\"1.0\" encoding=\"utf-8\"?>\n",
       "<svg xmlns=\"http://www.w3.org/2000/svg\" xmlns:xlink=\"http://www.w3.org/1999/xlink\" width=\"600\" height=\"400\" viewBox=\"0 0 2400 1600\">\n",
       "<defs>\n",
       "  <clipPath id=\"clip780\">\n",
       "    <rect x=\"0\" y=\"0\" width=\"2400\" height=\"1600\"/>\n",
       "  </clipPath>\n",
       "</defs>\n",
       "<path clip-path=\"url(#clip780)\" d=\"\n",
       "M0 1600 L2400 1600 L2400 0 L0 0  Z\n",
       "  \" fill=\"#ffffff\" fill-rule=\"evenodd\" fill-opacity=\"1\"/>\n",
       "<defs>\n",
       "  <clipPath id=\"clip781\">\n",
       "    <rect x=\"480\" y=\"0\" width=\"1681\" height=\"1600\"/>\n",
       "  </clipPath>\n",
       "</defs>\n",
       "<path clip-path=\"url(#clip780)\" d=\"\n",
       "M193.936 1486.45 L2352.76 1486.45 L2352.76 47.2441 L193.936 47.2441  Z\n",
       "  \" fill=\"#ffffff\" fill-rule=\"evenodd\" fill-opacity=\"1\"/>\n",
       "<defs>\n",
       "  <clipPath id=\"clip782\">\n",
       "    <rect x=\"193\" y=\"47\" width=\"2160\" height=\"1440\"/>\n",
       "  </clipPath>\n",
       "</defs>\n",
       "<polyline clip-path=\"url(#clip782)\" style=\"stroke:#000000; stroke-linecap:butt; stroke-linejoin:round; stroke-width:2; stroke-opacity:0.1; fill:none\" points=\"\n",
       "  475.21,1486.45 475.21,47.2441 \n",
       "  \"/>\n",
       "<polyline clip-path=\"url(#clip782)\" style=\"stroke:#000000; stroke-linecap:butt; stroke-linejoin:round; stroke-width:2; stroke-opacity:0.1; fill:none\" points=\"\n",
       "  888.039,1486.45 888.039,47.2441 \n",
       "  \"/>\n",
       "<polyline clip-path=\"url(#clip782)\" style=\"stroke:#000000; stroke-linecap:butt; stroke-linejoin:round; stroke-width:2; stroke-opacity:0.1; fill:none\" points=\"\n",
       "  1300.87,1486.45 1300.87,47.2441 \n",
       "  \"/>\n",
       "<polyline clip-path=\"url(#clip782)\" style=\"stroke:#000000; stroke-linecap:butt; stroke-linejoin:round; stroke-width:2; stroke-opacity:0.1; fill:none\" points=\"\n",
       "  1713.7,1486.45 1713.7,47.2441 \n",
       "  \"/>\n",
       "<polyline clip-path=\"url(#clip782)\" style=\"stroke:#000000; stroke-linecap:butt; stroke-linejoin:round; stroke-width:2; stroke-opacity:0.1; fill:none\" points=\"\n",
       "  2126.53,1486.45 2126.53,47.2441 \n",
       "  \"/>\n",
       "<polyline clip-path=\"url(#clip780)\" style=\"stroke:#000000; stroke-linecap:butt; stroke-linejoin:round; stroke-width:4; stroke-opacity:1; fill:none\" points=\"\n",
       "  193.936,1486.45 2352.76,1486.45 \n",
       "  \"/>\n",
       "<polyline clip-path=\"url(#clip780)\" style=\"stroke:#000000; stroke-linecap:butt; stroke-linejoin:round; stroke-width:4; stroke-opacity:1; fill:none\" points=\"\n",
       "  475.21,1486.45 475.21,1469.18 \n",
       "  \"/>\n",
       "<polyline clip-path=\"url(#clip780)\" style=\"stroke:#000000; stroke-linecap:butt; stroke-linejoin:round; stroke-width:4; stroke-opacity:1; fill:none\" points=\"\n",
       "  888.039,1486.45 888.039,1469.18 \n",
       "  \"/>\n",
       "<polyline clip-path=\"url(#clip780)\" style=\"stroke:#000000; stroke-linecap:butt; stroke-linejoin:round; stroke-width:4; stroke-opacity:1; fill:none\" points=\"\n",
       "  1300.87,1486.45 1300.87,1469.18 \n",
       "  \"/>\n",
       "<polyline clip-path=\"url(#clip780)\" style=\"stroke:#000000; stroke-linecap:butt; stroke-linejoin:round; stroke-width:4; stroke-opacity:1; fill:none\" points=\"\n",
       "  1713.7,1486.45 1713.7,1469.18 \n",
       "  \"/>\n",
       "<polyline clip-path=\"url(#clip780)\" style=\"stroke:#000000; stroke-linecap:butt; stroke-linejoin:round; stroke-width:4; stroke-opacity:1; fill:none\" points=\"\n",
       "  2126.53,1486.45 2126.53,1469.18 \n",
       "  \"/>\n",
       "<path clip-path=\"url(#clip780)\" d=\"M452.594 1515.64 Q448.983 1515.64 447.155 1519.2 Q445.349 1522.75 445.349 1529.87 Q445.349 1536.98 447.155 1540.55 Q448.983 1544.09 452.594 1544.09 Q456.229 1544.09 458.034 1540.55 Q459.863 1536.98 459.863 1529.87 Q459.863 1522.75 458.034 1519.2 Q456.229 1515.64 452.594 1515.64 M452.594 1511.93 Q458.405 1511.93 461.46 1516.54 Q464.539 1521.12 464.539 1529.87 Q464.539 1538.6 461.46 1543.21 Q458.405 1547.79 452.594 1547.79 Q446.784 1547.79 443.706 1543.21 Q440.65 1538.6 440.65 1529.87 Q440.65 1521.12 443.706 1516.54 Q446.784 1511.93 452.594 1511.93 Z\" fill=\"#000000\" fill-rule=\"evenodd\" fill-opacity=\"1\" /><path clip-path=\"url(#clip780)\" d=\"M472.756 1541.24 L477.641 1541.24 L477.641 1547.12 L472.756 1547.12 L472.756 1541.24 Z\" fill=\"#000000\" fill-rule=\"evenodd\" fill-opacity=\"1\" /><path clip-path=\"url(#clip780)\" d=\"M497.826 1515.64 Q494.215 1515.64 492.386 1519.2 Q490.58 1522.75 490.58 1529.87 Q490.58 1536.98 492.386 1540.55 Q494.215 1544.09 497.826 1544.09 Q501.46 1544.09 503.265 1540.55 Q505.094 1536.98 505.094 1529.87 Q505.094 1522.75 503.265 1519.2 Q501.46 1515.64 497.826 1515.64 M497.826 1511.93 Q503.636 1511.93 506.691 1516.54 Q509.77 1521.12 509.77 1529.87 Q509.77 1538.6 506.691 1543.21 Q503.636 1547.79 497.826 1547.79 Q492.016 1547.79 488.937 1543.21 Q485.881 1538.6 485.881 1529.87 Q485.881 1521.12 488.937 1516.54 Q492.016 1511.93 497.826 1511.93 Z\" fill=\"#000000\" fill-rule=\"evenodd\" fill-opacity=\"1\" /><path clip-path=\"url(#clip780)\" d=\"M865.921 1515.64 Q862.31 1515.64 860.481 1519.2 Q858.676 1522.75 858.676 1529.87 Q858.676 1536.98 860.481 1540.55 Q862.31 1544.09 865.921 1544.09 Q869.555 1544.09 871.361 1540.55 Q873.19 1536.98 873.19 1529.87 Q873.19 1522.75 871.361 1519.2 Q869.555 1515.64 865.921 1515.64 M865.921 1511.93 Q871.731 1511.93 874.787 1516.54 Q877.865 1521.12 877.865 1529.87 Q877.865 1538.6 874.787 1543.21 Q871.731 1547.79 865.921 1547.79 Q860.111 1547.79 857.032 1543.21 Q853.977 1538.6 853.977 1529.87 Q853.977 1521.12 857.032 1516.54 Q860.111 1511.93 865.921 1511.93 Z\" fill=\"#000000\" fill-rule=\"evenodd\" fill-opacity=\"1\" /><path clip-path=\"url(#clip780)\" d=\"M886.083 1541.24 L890.967 1541.24 L890.967 1547.12 L886.083 1547.12 L886.083 1541.24 Z\" fill=\"#000000\" fill-rule=\"evenodd\" fill-opacity=\"1\" /><path clip-path=\"url(#clip780)\" d=\"M901.199 1512.56 L919.555 1512.56 L919.555 1516.5 L905.481 1516.5 L905.481 1524.97 Q906.5 1524.62 907.518 1524.46 Q908.537 1524.27 909.555 1524.27 Q915.342 1524.27 918.722 1527.44 Q922.101 1530.62 922.101 1536.03 Q922.101 1541.61 918.629 1544.71 Q915.157 1547.79 908.837 1547.79 Q906.662 1547.79 904.393 1547.42 Q902.148 1547.05 899.74 1546.31 L899.74 1541.61 Q901.824 1542.74 904.046 1543.3 Q906.268 1543.86 908.745 1543.86 Q912.749 1543.86 915.087 1541.75 Q917.425 1539.64 917.425 1536.03 Q917.425 1532.42 915.087 1530.31 Q912.749 1528.21 908.745 1528.21 Q906.87 1528.21 904.995 1528.62 Q903.143 1529.04 901.199 1529.92 L901.199 1512.56 Z\" fill=\"#000000\" fill-rule=\"evenodd\" fill-opacity=\"1\" /><path clip-path=\"url(#clip780)\" d=\"M1268.02 1543.18 L1275.66 1543.18 L1275.66 1516.82 L1267.35 1518.49 L1267.35 1514.23 L1275.61 1512.56 L1280.29 1512.56 L1280.29 1543.18 L1287.93 1543.18 L1287.93 1547.12 L1268.02 1547.12 L1268.02 1543.18 Z\" fill=\"#000000\" fill-rule=\"evenodd\" fill-opacity=\"1\" /><path clip-path=\"url(#clip780)\" d=\"M1297.37 1541.24 L1302.26 1541.24 L1302.26 1547.12 L1297.37 1547.12 L1297.37 1541.24 Z\" fill=\"#000000\" fill-rule=\"evenodd\" fill-opacity=\"1\" /><path clip-path=\"url(#clip780)\" d=\"M1322.44 1515.64 Q1318.83 1515.64 1317 1519.2 Q1315.2 1522.75 1315.2 1529.87 Q1315.2 1536.98 1317 1540.55 Q1318.83 1544.09 1322.44 1544.09 Q1326.08 1544.09 1327.88 1540.55 Q1329.71 1536.98 1329.71 1529.87 Q1329.71 1522.75 1327.88 1519.2 Q1326.08 1515.64 1322.44 1515.64 M1322.44 1511.93 Q1328.25 1511.93 1331.31 1516.54 Q1334.39 1521.12 1334.39 1529.87 Q1334.39 1538.6 1331.31 1543.21 Q1328.25 1547.79 1322.44 1547.79 Q1316.63 1547.79 1313.55 1543.21 Q1310.5 1538.6 1310.5 1529.87 Q1310.5 1521.12 1313.55 1516.54 Q1316.63 1511.93 1322.44 1511.93 Z\" fill=\"#000000\" fill-rule=\"evenodd\" fill-opacity=\"1\" /><path clip-path=\"url(#clip780)\" d=\"M1681.35 1543.18 L1688.99 1543.18 L1688.99 1516.82 L1680.68 1518.49 L1680.68 1514.23 L1688.94 1512.56 L1693.62 1512.56 L1693.62 1543.18 L1701.25 1543.18 L1701.25 1547.12 L1681.35 1547.12 L1681.35 1543.18 Z\" fill=\"#000000\" fill-rule=\"evenodd\" fill-opacity=\"1\" /><path clip-path=\"url(#clip780)\" d=\"M1710.7 1541.24 L1715.58 1541.24 L1715.58 1547.12 L1710.7 1547.12 L1710.7 1541.24 Z\" fill=\"#000000\" fill-rule=\"evenodd\" fill-opacity=\"1\" /><path clip-path=\"url(#clip780)\" d=\"M1725.81 1512.56 L1744.17 1512.56 L1744.17 1516.5 L1730.1 1516.5 L1730.1 1524.97 Q1731.12 1524.62 1732.13 1524.46 Q1733.15 1524.27 1734.17 1524.27 Q1739.96 1524.27 1743.34 1527.44 Q1746.72 1530.62 1746.72 1536.03 Q1746.72 1541.61 1743.25 1544.71 Q1739.77 1547.79 1733.45 1547.79 Q1731.28 1547.79 1729.01 1547.42 Q1726.76 1547.05 1724.36 1546.31 L1724.36 1541.61 Q1726.44 1542.74 1728.66 1543.3 Q1730.88 1543.86 1733.36 1543.86 Q1737.37 1543.86 1739.7 1541.75 Q1742.04 1539.64 1742.04 1536.03 Q1742.04 1532.42 1739.7 1530.31 Q1737.37 1528.21 1733.36 1528.21 Q1731.49 1528.21 1729.61 1528.62 Q1727.76 1529.04 1725.81 1529.92 L1725.81 1512.56 Z\" fill=\"#000000\" fill-rule=\"evenodd\" fill-opacity=\"1\" /><path clip-path=\"url(#clip780)\" d=\"M2097.76 1543.18 L2114.08 1543.18 L2114.08 1547.12 L2092.14 1547.12 L2092.14 1543.18 Q2094.8 1540.43 2099.38 1535.8 Q2103.99 1531.15 2105.17 1529.81 Q2107.42 1527.28 2108.3 1525.55 Q2109.2 1523.79 2109.2 1522.1 Q2109.2 1519.34 2107.25 1517.61 Q2105.33 1515.87 2102.23 1515.87 Q2100.03 1515.87 2097.58 1516.63 Q2095.15 1517.4 2092.37 1518.95 L2092.37 1514.23 Q2095.19 1513.09 2097.65 1512.51 Q2100.1 1511.93 2102.14 1511.93 Q2107.51 1511.93 2110.7 1514.62 Q2113.9 1517.31 2113.9 1521.8 Q2113.9 1523.93 2113.09 1525.85 Q2112.3 1527.74 2110.19 1530.34 Q2109.62 1531.01 2106.51 1534.23 Q2103.41 1537.42 2097.76 1543.18 Z\" fill=\"#000000\" fill-rule=\"evenodd\" fill-opacity=\"1\" /><path clip-path=\"url(#clip780)\" d=\"M2123.9 1541.24 L2128.78 1541.24 L2128.78 1547.12 L2123.9 1547.12 L2123.9 1541.24 Z\" fill=\"#000000\" fill-rule=\"evenodd\" fill-opacity=\"1\" /><path clip-path=\"url(#clip780)\" d=\"M2148.97 1515.64 Q2145.36 1515.64 2143.53 1519.2 Q2141.72 1522.75 2141.72 1529.87 Q2141.72 1536.98 2143.53 1540.55 Q2145.36 1544.09 2148.97 1544.09 Q2152.6 1544.09 2154.41 1540.55 Q2156.24 1536.98 2156.24 1529.87 Q2156.24 1522.75 2154.41 1519.2 Q2152.6 1515.64 2148.97 1515.64 M2148.97 1511.93 Q2154.78 1511.93 2157.83 1516.54 Q2160.91 1521.12 2160.91 1529.87 Q2160.91 1538.6 2157.83 1543.21 Q2154.78 1547.79 2148.97 1547.79 Q2143.16 1547.79 2140.08 1543.21 Q2137.02 1538.6 2137.02 1529.87 Q2137.02 1521.12 2140.08 1516.54 Q2143.16 1511.93 2148.97 1511.93 Z\" fill=\"#000000\" fill-rule=\"evenodd\" fill-opacity=\"1\" /><polyline clip-path=\"url(#clip782)\" style=\"stroke:#000000; stroke-linecap:butt; stroke-linejoin:round; stroke-width:2; stroke-opacity:0.1; fill:none\" points=\"\n",
       "  193.936,1449.44 2352.76,1449.44 \n",
       "  \"/>\n",
       "<polyline clip-path=\"url(#clip782)\" style=\"stroke:#000000; stroke-linecap:butt; stroke-linejoin:round; stroke-width:2; stroke-opacity:0.1; fill:none\" points=\"\n",
       "  193.936,1109.08 2352.76,1109.08 \n",
       "  \"/>\n",
       "<polyline clip-path=\"url(#clip782)\" style=\"stroke:#000000; stroke-linecap:butt; stroke-linejoin:round; stroke-width:2; stroke-opacity:0.1; fill:none\" points=\"\n",
       "  193.936,768.711 2352.76,768.711 \n",
       "  \"/>\n",
       "<polyline clip-path=\"url(#clip782)\" style=\"stroke:#000000; stroke-linecap:butt; stroke-linejoin:round; stroke-width:2; stroke-opacity:0.1; fill:none\" points=\"\n",
       "  193.936,428.343 2352.76,428.343 \n",
       "  \"/>\n",
       "<polyline clip-path=\"url(#clip782)\" style=\"stroke:#000000; stroke-linecap:butt; stroke-linejoin:round; stroke-width:2; stroke-opacity:0.1; fill:none\" points=\"\n",
       "  193.936,87.9763 2352.76,87.9763 \n",
       "  \"/>\n",
       "<polyline clip-path=\"url(#clip780)\" style=\"stroke:#000000; stroke-linecap:butt; stroke-linejoin:round; stroke-width:4; stroke-opacity:1; fill:none\" points=\"\n",
       "  193.936,1486.45 193.936,47.2441 \n",
       "  \"/>\n",
       "<polyline clip-path=\"url(#clip780)\" style=\"stroke:#000000; stroke-linecap:butt; stroke-linejoin:round; stroke-width:4; stroke-opacity:1; fill:none\" points=\"\n",
       "  193.936,1449.44 219.842,1449.44 \n",
       "  \"/>\n",
       "<polyline clip-path=\"url(#clip780)\" style=\"stroke:#000000; stroke-linecap:butt; stroke-linejoin:round; stroke-width:4; stroke-opacity:1; fill:none\" points=\"\n",
       "  193.936,1109.08 219.842,1109.08 \n",
       "  \"/>\n",
       "<polyline clip-path=\"url(#clip780)\" style=\"stroke:#000000; stroke-linecap:butt; stroke-linejoin:round; stroke-width:4; stroke-opacity:1; fill:none\" points=\"\n",
       "  193.936,768.711 219.842,768.711 \n",
       "  \"/>\n",
       "<polyline clip-path=\"url(#clip780)\" style=\"stroke:#000000; stroke-linecap:butt; stroke-linejoin:round; stroke-width:4; stroke-opacity:1; fill:none\" points=\"\n",
       "  193.936,428.343 219.842,428.343 \n",
       "  \"/>\n",
       "<polyline clip-path=\"url(#clip780)\" style=\"stroke:#000000; stroke-linecap:butt; stroke-linejoin:round; stroke-width:4; stroke-opacity:1; fill:none\" points=\"\n",
       "  193.936,87.9763 219.842,87.9763 \n",
       "  \"/>\n",
       "<path clip-path=\"url(#clip780)\" d=\"M50.9921 1449.9 L80.6679 1449.9 L80.6679 1453.83 L50.9921 1453.83 L50.9921 1449.9 Z\" fill=\"#000000\" fill-rule=\"evenodd\" fill-opacity=\"1\" /><path clip-path=\"url(#clip780)\" d=\"M91.5706 1462.79 L99.2095 1462.79 L99.2095 1436.42 L90.8993 1438.09 L90.8993 1433.83 L99.1632 1432.16 L103.839 1432.16 L103.839 1462.79 L111.478 1462.79 L111.478 1466.72 L91.5706 1466.72 L91.5706 1462.79 Z\" fill=\"#000000\" fill-rule=\"evenodd\" fill-opacity=\"1\" /><path clip-path=\"url(#clip780)\" d=\"M120.922 1460.85 L125.807 1460.85 L125.807 1466.72 L120.922 1466.72 L120.922 1460.85 Z\" fill=\"#000000\" fill-rule=\"evenodd\" fill-opacity=\"1\" /><path clip-path=\"url(#clip780)\" d=\"M145.992 1435.24 Q142.381 1435.24 140.552 1438.81 Q138.746 1442.35 138.746 1449.48 Q138.746 1456.59 140.552 1460.15 Q142.381 1463.69 145.992 1463.69 Q149.626 1463.69 151.431 1460.15 Q153.26 1456.59 153.26 1449.48 Q153.26 1442.35 151.431 1438.81 Q149.626 1435.24 145.992 1435.24 M145.992 1431.54 Q151.802 1431.54 154.857 1436.15 Q157.936 1440.73 157.936 1449.48 Q157.936 1458.21 154.857 1462.81 Q151.802 1467.4 145.992 1467.4 Q140.181 1467.4 137.103 1462.81 Q134.047 1458.21 134.047 1449.48 Q134.047 1440.73 137.103 1436.15 Q140.181 1431.54 145.992 1431.54 Z\" fill=\"#000000\" fill-rule=\"evenodd\" fill-opacity=\"1\" /><path clip-path=\"url(#clip780)\" d=\"M51.9875 1109.53 L81.6633 1109.53 L81.6633 1113.46 L51.9875 1113.46 L51.9875 1109.53 Z\" fill=\"#000000\" fill-rule=\"evenodd\" fill-opacity=\"1\" /><path clip-path=\"url(#clip780)\" d=\"M101.756 1094.88 Q98.1447 1094.88 96.316 1098.44 Q94.5104 1101.98 94.5104 1109.11 Q94.5104 1116.22 96.316 1119.78 Q98.1447 1123.33 101.756 1123.33 Q105.39 1123.33 107.196 1119.78 Q109.024 1116.22 109.024 1109.11 Q109.024 1101.98 107.196 1098.44 Q105.39 1094.88 101.756 1094.88 M101.756 1091.17 Q107.566 1091.17 110.621 1095.78 Q113.7 1100.36 113.7 1109.11 Q113.7 1117.84 110.621 1122.45 Q107.566 1127.03 101.756 1127.03 Q95.9456 1127.03 92.8669 1122.45 Q89.8114 1117.84 89.8114 1109.11 Q89.8114 1100.36 92.8669 1095.78 Q95.9456 1091.17 101.756 1091.17 Z\" fill=\"#000000\" fill-rule=\"evenodd\" fill-opacity=\"1\" /><path clip-path=\"url(#clip780)\" d=\"M121.918 1120.48 L126.802 1120.48 L126.802 1126.36 L121.918 1126.36 L121.918 1120.48 Z\" fill=\"#000000\" fill-rule=\"evenodd\" fill-opacity=\"1\" /><path clip-path=\"url(#clip780)\" d=\"M137.033 1091.8 L155.39 1091.8 L155.39 1095.73 L141.316 1095.73 L141.316 1104.21 Q142.334 1103.86 143.353 1103.7 Q144.371 1103.51 145.39 1103.51 Q151.177 1103.51 154.556 1106.68 Q157.936 1109.85 157.936 1115.27 Q157.936 1120.85 154.464 1123.95 Q150.992 1127.03 144.672 1127.03 Q142.496 1127.03 140.228 1126.66 Q137.982 1126.29 135.575 1125.55 L135.575 1120.85 Q137.658 1121.98 139.881 1122.54 Q142.103 1123.09 144.58 1123.09 Q148.584 1123.09 150.922 1120.99 Q153.26 1118.88 153.26 1115.27 Q153.26 1111.66 150.922 1109.55 Q148.584 1107.45 144.58 1107.45 Q142.705 1107.45 140.83 1107.86 Q138.978 1108.28 137.033 1109.16 L137.033 1091.8 Z\" fill=\"#000000\" fill-rule=\"evenodd\" fill-opacity=\"1\" /><path clip-path=\"url(#clip780)\" d=\"M100.76 754.509 Q97.1493 754.509 95.3206 758.074 Q93.515 761.616 93.515 768.745 Q93.515 775.852 95.3206 779.417 Q97.1493 782.958 100.76 782.958 Q104.395 782.958 106.2 779.417 Q108.029 775.852 108.029 768.745 Q108.029 761.616 106.2 758.074 Q104.395 754.509 100.76 754.509 M100.76 750.806 Q106.571 750.806 109.626 755.412 Q112.705 759.995 112.705 768.745 Q112.705 777.472 109.626 782.079 Q106.571 786.662 100.76 786.662 Q94.9502 786.662 91.8715 782.079 Q88.816 777.472 88.816 768.745 Q88.816 759.995 91.8715 755.412 Q94.9502 750.806 100.76 750.806 Z\" fill=\"#000000\" fill-rule=\"evenodd\" fill-opacity=\"1\" /><path clip-path=\"url(#clip780)\" d=\"M120.922 780.111 L125.807 780.111 L125.807 785.991 L120.922 785.991 L120.922 780.111 Z\" fill=\"#000000\" fill-rule=\"evenodd\" fill-opacity=\"1\" /><path clip-path=\"url(#clip780)\" d=\"M145.992 754.509 Q142.381 754.509 140.552 758.074 Q138.746 761.616 138.746 768.745 Q138.746 775.852 140.552 779.417 Q142.381 782.958 145.992 782.958 Q149.626 782.958 151.431 779.417 Q153.26 775.852 153.26 768.745 Q153.26 761.616 151.431 758.074 Q149.626 754.509 145.992 754.509 M145.992 750.806 Q151.802 750.806 154.857 755.412 Q157.936 759.995 157.936 768.745 Q157.936 777.472 154.857 782.079 Q151.802 786.662 145.992 786.662 Q140.181 786.662 137.103 782.079 Q134.047 777.472 134.047 768.745 Q134.047 759.995 137.103 755.412 Q140.181 750.806 145.992 750.806 Z\" fill=\"#000000\" fill-rule=\"evenodd\" fill-opacity=\"1\" /><path clip-path=\"url(#clip780)\" d=\"M101.756 414.142 Q98.1447 414.142 96.316 417.707 Q94.5104 421.249 94.5104 428.378 Q94.5104 435.485 96.316 439.049 Q98.1447 442.591 101.756 442.591 Q105.39 442.591 107.196 439.049 Q109.024 435.485 109.024 428.378 Q109.024 421.249 107.196 417.707 Q105.39 414.142 101.756 414.142 M101.756 410.438 Q107.566 410.438 110.621 415.045 Q113.7 419.628 113.7 428.378 Q113.7 437.105 110.621 441.711 Q107.566 446.295 101.756 446.295 Q95.9456 446.295 92.8669 441.711 Q89.8114 437.105 89.8114 428.378 Q89.8114 419.628 92.8669 415.045 Q95.9456 410.438 101.756 410.438 Z\" fill=\"#000000\" fill-rule=\"evenodd\" fill-opacity=\"1\" /><path clip-path=\"url(#clip780)\" d=\"M121.918 439.744 L126.802 439.744 L126.802 445.623 L121.918 445.623 L121.918 439.744 Z\" fill=\"#000000\" fill-rule=\"evenodd\" fill-opacity=\"1\" /><path clip-path=\"url(#clip780)\" d=\"M137.033 411.063 L155.39 411.063 L155.39 414.999 L141.316 414.999 L141.316 423.471 Q142.334 423.124 143.353 422.961 Q144.371 422.776 145.39 422.776 Q151.177 422.776 154.556 425.948 Q157.936 429.119 157.936 434.536 Q157.936 440.114 154.464 443.216 Q150.992 446.295 144.672 446.295 Q142.496 446.295 140.228 445.924 Q137.982 445.554 135.575 444.813 L135.575 440.114 Q137.658 441.248 139.881 441.804 Q142.103 442.36 144.58 442.36 Q148.584 442.36 150.922 440.253 Q153.26 438.147 153.26 434.536 Q153.26 430.924 150.922 428.818 Q148.584 426.711 144.58 426.711 Q142.705 426.711 140.83 427.128 Q138.978 427.545 137.033 428.424 L137.033 411.063 Z\" fill=\"#000000\" fill-rule=\"evenodd\" fill-opacity=\"1\" /><path clip-path=\"url(#clip780)\" d=\"M91.5706 101.321 L99.2095 101.321 L99.2095 74.9555 L90.8993 76.6222 L90.8993 72.3629 L99.1632 70.6963 L103.839 70.6963 L103.839 101.321 L111.478 101.321 L111.478 105.256 L91.5706 105.256 L91.5706 101.321 Z\" fill=\"#000000\" fill-rule=\"evenodd\" fill-opacity=\"1\" /><path clip-path=\"url(#clip780)\" d=\"M120.922 99.3767 L125.807 99.3767 L125.807 105.256 L120.922 105.256 L120.922 99.3767 Z\" fill=\"#000000\" fill-rule=\"evenodd\" fill-opacity=\"1\" /><path clip-path=\"url(#clip780)\" d=\"M145.992 73.775 Q142.381 73.775 140.552 77.3398 Q138.746 80.8814 138.746 88.011 Q138.746 95.1174 140.552 98.6822 Q142.381 102.224 145.992 102.224 Q149.626 102.224 151.431 98.6822 Q153.26 95.1174 153.26 88.011 Q153.26 80.8814 151.431 77.3398 Q149.626 73.775 145.992 73.775 M145.992 70.0713 Q151.802 70.0713 154.857 74.6777 Q157.936 79.261 157.936 88.011 Q157.936 96.7378 154.857 101.344 Q151.802 105.928 145.992 105.928 Q140.181 105.928 137.103 101.344 Q134.047 96.7378 134.047 88.011 Q134.047 79.261 137.103 74.6777 Q140.181 70.0713 145.992 70.0713 Z\" fill=\"#000000\" fill-rule=\"evenodd\" fill-opacity=\"1\" /><polyline clip-path=\"url(#clip782)\" style=\"stroke:#009af9; stroke-linecap:butt; stroke-linejoin:round; stroke-width:4; stroke-opacity:1; fill:none\" points=\"\n",
       "  255.035,1274.59 365.122,1045.59 475.21,768.711 585.298,491.831 695.385,262.826 805.473,121.294 915.561,91.7054 1025.65,179.177 1135.74,368.585 1245.82,627.178 \n",
       "  1355.91,910.243 1466,1168.84 1576.09,1358.24 1686.17,1445.72 1796.26,1416.13 1906.35,1274.59 2016.44,1045.59 2126.53,768.711 2236.61,491.831 \n",
       "  \"/>\n",
       "<circle clip-path=\"url(#clip782)\" cx=\"255.035\" cy=\"1274.59\" r=\"14\" fill=\"#009af9\" fill-rule=\"evenodd\" fill-opacity=\"1\" stroke=\"#000000\" stroke-opacity=\"1\" stroke-width=\"3.2\"/>\n",
       "<circle clip-path=\"url(#clip782)\" cx=\"365.122\" cy=\"1045.59\" r=\"14\" fill=\"#009af9\" fill-rule=\"evenodd\" fill-opacity=\"1\" stroke=\"#000000\" stroke-opacity=\"1\" stroke-width=\"3.2\"/>\n",
       "<circle clip-path=\"url(#clip782)\" cx=\"475.21\" cy=\"768.711\" r=\"14\" fill=\"#009af9\" fill-rule=\"evenodd\" fill-opacity=\"1\" stroke=\"#000000\" stroke-opacity=\"1\" stroke-width=\"3.2\"/>\n",
       "<circle clip-path=\"url(#clip782)\" cx=\"585.298\" cy=\"491.831\" r=\"14\" fill=\"#009af9\" fill-rule=\"evenodd\" fill-opacity=\"1\" stroke=\"#000000\" stroke-opacity=\"1\" stroke-width=\"3.2\"/>\n",
       "<circle clip-path=\"url(#clip782)\" cx=\"695.385\" cy=\"262.826\" r=\"14\" fill=\"#009af9\" fill-rule=\"evenodd\" fill-opacity=\"1\" stroke=\"#000000\" stroke-opacity=\"1\" stroke-width=\"3.2\"/>\n",
       "<circle clip-path=\"url(#clip782)\" cx=\"805.473\" cy=\"121.294\" r=\"14\" fill=\"#009af9\" fill-rule=\"evenodd\" fill-opacity=\"1\" stroke=\"#000000\" stroke-opacity=\"1\" stroke-width=\"3.2\"/>\n",
       "<circle clip-path=\"url(#clip782)\" cx=\"915.561\" cy=\"91.7054\" r=\"14\" fill=\"#009af9\" fill-rule=\"evenodd\" fill-opacity=\"1\" stroke=\"#000000\" stroke-opacity=\"1\" stroke-width=\"3.2\"/>\n",
       "<circle clip-path=\"url(#clip782)\" cx=\"1025.65\" cy=\"179.177\" r=\"14\" fill=\"#009af9\" fill-rule=\"evenodd\" fill-opacity=\"1\" stroke=\"#000000\" stroke-opacity=\"1\" stroke-width=\"3.2\"/>\n",
       "<circle clip-path=\"url(#clip782)\" cx=\"1135.74\" cy=\"368.585\" r=\"14\" fill=\"#009af9\" fill-rule=\"evenodd\" fill-opacity=\"1\" stroke=\"#000000\" stroke-opacity=\"1\" stroke-width=\"3.2\"/>\n",
       "<circle clip-path=\"url(#clip782)\" cx=\"1245.82\" cy=\"627.178\" r=\"14\" fill=\"#009af9\" fill-rule=\"evenodd\" fill-opacity=\"1\" stroke=\"#000000\" stroke-opacity=\"1\" stroke-width=\"3.2\"/>\n",
       "<circle clip-path=\"url(#clip782)\" cx=\"1355.91\" cy=\"910.243\" r=\"14\" fill=\"#009af9\" fill-rule=\"evenodd\" fill-opacity=\"1\" stroke=\"#000000\" stroke-opacity=\"1\" stroke-width=\"3.2\"/>\n",
       "<circle clip-path=\"url(#clip782)\" cx=\"1466\" cy=\"1168.84\" r=\"14\" fill=\"#009af9\" fill-rule=\"evenodd\" fill-opacity=\"1\" stroke=\"#000000\" stroke-opacity=\"1\" stroke-width=\"3.2\"/>\n",
       "<circle clip-path=\"url(#clip782)\" cx=\"1576.09\" cy=\"1358.24\" r=\"14\" fill=\"#009af9\" fill-rule=\"evenodd\" fill-opacity=\"1\" stroke=\"#000000\" stroke-opacity=\"1\" stroke-width=\"3.2\"/>\n",
       "<circle clip-path=\"url(#clip782)\" cx=\"1686.17\" cy=\"1445.72\" r=\"14\" fill=\"#009af9\" fill-rule=\"evenodd\" fill-opacity=\"1\" stroke=\"#000000\" stroke-opacity=\"1\" stroke-width=\"3.2\"/>\n",
       "<circle clip-path=\"url(#clip782)\" cx=\"1796.26\" cy=\"1416.13\" r=\"14\" fill=\"#009af9\" fill-rule=\"evenodd\" fill-opacity=\"1\" stroke=\"#000000\" stroke-opacity=\"1\" stroke-width=\"3.2\"/>\n",
       "<circle clip-path=\"url(#clip782)\" cx=\"1906.35\" cy=\"1274.59\" r=\"14\" fill=\"#009af9\" fill-rule=\"evenodd\" fill-opacity=\"1\" stroke=\"#000000\" stroke-opacity=\"1\" stroke-width=\"3.2\"/>\n",
       "<circle clip-path=\"url(#clip782)\" cx=\"2016.44\" cy=\"1045.59\" r=\"14\" fill=\"#009af9\" fill-rule=\"evenodd\" fill-opacity=\"1\" stroke=\"#000000\" stroke-opacity=\"1\" stroke-width=\"3.2\"/>\n",
       "<circle clip-path=\"url(#clip782)\" cx=\"2126.53\" cy=\"768.711\" r=\"14\" fill=\"#009af9\" fill-rule=\"evenodd\" fill-opacity=\"1\" stroke=\"#000000\" stroke-opacity=\"1\" stroke-width=\"3.2\"/>\n",
       "<circle clip-path=\"url(#clip782)\" cx=\"2236.61\" cy=\"491.831\" r=\"14\" fill=\"#009af9\" fill-rule=\"evenodd\" fill-opacity=\"1\" stroke=\"#000000\" stroke-opacity=\"1\" stroke-width=\"3.2\"/>\n",
       "<polyline clip-path=\"url(#clip782)\" style=\"stroke:#e26f46; stroke-linecap:butt; stroke-linejoin:round; stroke-width:4; stroke-opacity:1; fill:none\" points=\"\n",
       "  310.079,558.352 420.166,146.829 530.254,146.829 640.342,558.352 750.429,1109.08 860.517,1434.57 970.605,1319.44 1080.69,839.867 1190.78,313.21 1300.87,87.9763 \n",
       "  1410.96,313.21 1521.04,839.867 1631.13,1319.44 1741.22,1434.57 1851.31,1109.08 1961.39,558.352 2071.48,146.829 2181.57,146.829 2291.66,558.352 \n",
       "  \"/>\n",
       "<path clip-path=\"url(#clip782)\" d=\"M294.079 542.352 L294.079 574.352 L326.079 574.352 L326.079 542.352 L294.079 542.352 Z\" fill=\"#e26f46\" fill-rule=\"evenodd\" fill-opacity=\"1\" stroke=\"#000000\" stroke-opacity=\"1\" stroke-width=\"3.2\"/>\n",
       "<path clip-path=\"url(#clip782)\" d=\"M404.166 130.829 L404.166 162.829 L436.166 162.829 L436.166 130.829 L404.166 130.829 Z\" fill=\"#e26f46\" fill-rule=\"evenodd\" fill-opacity=\"1\" stroke=\"#000000\" stroke-opacity=\"1\" stroke-width=\"3.2\"/>\n",
       "<path clip-path=\"url(#clip782)\" d=\"M514.254 130.829 L514.254 162.829 L546.254 162.829 L546.254 130.829 L514.254 130.829 Z\" fill=\"#e26f46\" fill-rule=\"evenodd\" fill-opacity=\"1\" stroke=\"#000000\" stroke-opacity=\"1\" stroke-width=\"3.2\"/>\n",
       "<path clip-path=\"url(#clip782)\" d=\"M624.342 542.352 L624.342 574.352 L656.342 574.352 L656.342 542.352 L624.342 542.352 Z\" fill=\"#e26f46\" fill-rule=\"evenodd\" fill-opacity=\"1\" stroke=\"#000000\" stroke-opacity=\"1\" stroke-width=\"3.2\"/>\n",
       "<path clip-path=\"url(#clip782)\" d=\"M734.429 1093.08 L734.429 1125.08 L766.429 1125.08 L766.429 1093.08 L734.429 1093.08 Z\" fill=\"#e26f46\" fill-rule=\"evenodd\" fill-opacity=\"1\" stroke=\"#000000\" stroke-opacity=\"1\" stroke-width=\"3.2\"/>\n",
       "<path clip-path=\"url(#clip782)\" d=\"M844.517 1418.57 L844.517 1450.57 L876.517 1450.57 L876.517 1418.57 L844.517 1418.57 Z\" fill=\"#e26f46\" fill-rule=\"evenodd\" fill-opacity=\"1\" stroke=\"#000000\" stroke-opacity=\"1\" stroke-width=\"3.2\"/>\n",
       "<path clip-path=\"url(#clip782)\" d=\"M954.605 1303.44 L954.605 1335.44 L986.605 1335.44 L986.605 1303.44 L954.605 1303.44 Z\" fill=\"#e26f46\" fill-rule=\"evenodd\" fill-opacity=\"1\" stroke=\"#000000\" stroke-opacity=\"1\" stroke-width=\"3.2\"/>\n",
       "<path clip-path=\"url(#clip782)\" d=\"M1064.69 823.867 L1064.69 855.867 L1096.69 855.867 L1096.69 823.867 L1064.69 823.867 Z\" fill=\"#e26f46\" fill-rule=\"evenodd\" fill-opacity=\"1\" stroke=\"#000000\" stroke-opacity=\"1\" stroke-width=\"3.2\"/>\n",
       "<path clip-path=\"url(#clip782)\" d=\"M1174.78 297.21 L1174.78 329.21 L1206.78 329.21 L1206.78 297.21 L1174.78 297.21 Z\" fill=\"#e26f46\" fill-rule=\"evenodd\" fill-opacity=\"1\" stroke=\"#000000\" stroke-opacity=\"1\" stroke-width=\"3.2\"/>\n",
       "<path clip-path=\"url(#clip782)\" d=\"M1284.87 71.9763 L1284.87 103.976 L1316.87 103.976 L1316.87 71.9763 L1284.87 71.9763 Z\" fill=\"#e26f46\" fill-rule=\"evenodd\" fill-opacity=\"1\" stroke=\"#000000\" stroke-opacity=\"1\" stroke-width=\"3.2\"/>\n",
       "<path clip-path=\"url(#clip782)\" d=\"M1394.96 297.21 L1394.96 329.21 L1426.96 329.21 L1426.96 297.21 L1394.96 297.21 Z\" fill=\"#e26f46\" fill-rule=\"evenodd\" fill-opacity=\"1\" stroke=\"#000000\" stroke-opacity=\"1\" stroke-width=\"3.2\"/>\n",
       "<path clip-path=\"url(#clip782)\" d=\"M1505.04 823.867 L1505.04 855.867 L1537.04 855.867 L1537.04 823.867 L1505.04 823.867 Z\" fill=\"#e26f46\" fill-rule=\"evenodd\" fill-opacity=\"1\" stroke=\"#000000\" stroke-opacity=\"1\" stroke-width=\"3.2\"/>\n",
       "<path clip-path=\"url(#clip782)\" d=\"M1615.13 1303.44 L1615.13 1335.44 L1647.13 1335.44 L1647.13 1303.44 L1615.13 1303.44 Z\" fill=\"#e26f46\" fill-rule=\"evenodd\" fill-opacity=\"1\" stroke=\"#000000\" stroke-opacity=\"1\" stroke-width=\"3.2\"/>\n",
       "<path clip-path=\"url(#clip782)\" d=\"M1725.22 1418.57 L1725.22 1450.57 L1757.22 1450.57 L1757.22 1418.57 L1725.22 1418.57 Z\" fill=\"#e26f46\" fill-rule=\"evenodd\" fill-opacity=\"1\" stroke=\"#000000\" stroke-opacity=\"1\" stroke-width=\"3.2\"/>\n",
       "<path clip-path=\"url(#clip782)\" d=\"M1835.31 1093.08 L1835.31 1125.08 L1867.31 1125.08 L1867.31 1093.08 L1835.31 1093.08 Z\" fill=\"#e26f46\" fill-rule=\"evenodd\" fill-opacity=\"1\" stroke=\"#000000\" stroke-opacity=\"1\" stroke-width=\"3.2\"/>\n",
       "<path clip-path=\"url(#clip782)\" d=\"M1945.39 542.352 L1945.39 574.352 L1977.39 574.352 L1977.39 542.352 L1945.39 542.352 Z\" fill=\"#e26f46\" fill-rule=\"evenodd\" fill-opacity=\"1\" stroke=\"#000000\" stroke-opacity=\"1\" stroke-width=\"3.2\"/>\n",
       "<path clip-path=\"url(#clip782)\" d=\"M2055.48 130.829 L2055.48 162.829 L2087.48 162.829 L2087.48 130.829 L2055.48 130.829 Z\" fill=\"#e26f46\" fill-rule=\"evenodd\" fill-opacity=\"1\" stroke=\"#000000\" stroke-opacity=\"1\" stroke-width=\"3.2\"/>\n",
       "<path clip-path=\"url(#clip782)\" d=\"M2165.57 130.829 L2165.57 162.829 L2197.57 162.829 L2197.57 130.829 L2165.57 130.829 Z\" fill=\"#e26f46\" fill-rule=\"evenodd\" fill-opacity=\"1\" stroke=\"#000000\" stroke-opacity=\"1\" stroke-width=\"3.2\"/>\n",
       "<path clip-path=\"url(#clip782)\" d=\"M2275.66 542.352 L2275.66 574.352 L2307.66 574.352 L2307.66 542.352 L2275.66 542.352 Z\" fill=\"#e26f46\" fill-rule=\"evenodd\" fill-opacity=\"1\" stroke=\"#000000\" stroke-opacity=\"1\" stroke-width=\"3.2\"/>\n",
       "<path clip-path=\"url(#clip780)\" d=\"\n",
       "M1988.5 276.658 L2280.8 276.658 L2280.8 95.2176 L1988.5 95.2176  Z\n",
       "  \" fill=\"#ffffff\" fill-rule=\"evenodd\" fill-opacity=\"1\"/>\n",
       "<polyline clip-path=\"url(#clip780)\" style=\"stroke:#000000; stroke-linecap:butt; stroke-linejoin:round; stroke-width:4; stroke-opacity:1; fill:none\" points=\"\n",
       "  1988.5,276.658 2280.8,276.658 2280.8,95.2176 1988.5,95.2176 1988.5,276.658 \n",
       "  \"/>\n",
       "<polyline clip-path=\"url(#clip780)\" style=\"stroke:#009af9; stroke-linecap:butt; stroke-linejoin:round; stroke-width:4; stroke-opacity:1; fill:none\" points=\"\n",
       "  2012.48,155.698 2156.4,155.698 \n",
       "  \"/>\n",
       "<circle clip-path=\"url(#clip780)\" cx=\"2084.44\" cy=\"155.698\" r=\"23\" fill=\"#009af9\" fill-rule=\"evenodd\" fill-opacity=\"1\" stroke=\"#000000\" stroke-opacity=\"1\" stroke-width=\"5.12\"/>\n",
       "<path clip-path=\"url(#clip780)\" d=\"M2194.23 175.385 Q2192.43 180.015 2190.72 181.427 Q2189 182.839 2186.13 182.839 L2182.73 182.839 L2182.73 179.274 L2185.23 179.274 Q2186.99 179.274 2187.96 178.44 Q2188.93 177.607 2190.11 174.505 L2190.88 172.561 L2180.39 147.052 L2184.91 147.052 L2193.01 167.329 L2201.11 147.052 L2205.62 147.052 L2194.23 175.385 Z\" fill=\"#000000\" fill-rule=\"evenodd\" fill-opacity=\"1\" /><path clip-path=\"url(#clip780)\" d=\"M2212.91 169.042 L2220.55 169.042 L2220.55 142.677 L2212.24 144.343 L2212.24 140.084 L2220.51 138.418 L2225.18 138.418 L2225.18 169.042 L2232.82 169.042 L2232.82 172.978 L2212.91 172.978 L2212.91 169.042 Z\" fill=\"#000000\" fill-rule=\"evenodd\" fill-opacity=\"1\" /><polyline clip-path=\"url(#clip780)\" style=\"stroke:#e26f46; stroke-linecap:butt; stroke-linejoin:round; stroke-width:4; stroke-opacity:1; fill:none\" points=\"\n",
       "  2012.48,216.178 2156.4,216.178 \n",
       "  \"/>\n",
       "<path clip-path=\"url(#clip780)\" d=\"M2058.84 190.578 L2058.84 241.778 L2110.04 241.778 L2110.04 190.578 L2058.84 190.578 Z\" fill=\"#e26f46\" fill-rule=\"evenodd\" fill-opacity=\"1\" stroke=\"#000000\" stroke-opacity=\"1\" stroke-width=\"5.12\"/>\n",
       "<path clip-path=\"url(#clip780)\" d=\"M2194.23 235.865 Q2192.43 240.495 2190.72 241.907 Q2189 243.319 2186.13 243.319 L2182.73 243.319 L2182.73 239.754 L2185.23 239.754 Q2186.99 239.754 2187.96 238.92 Q2188.93 238.087 2190.11 234.985 L2190.88 233.041 L2180.39 207.532 L2184.91 207.532 L2193.01 227.809 L2201.11 207.532 L2205.62 207.532 L2194.23 235.865 Z\" fill=\"#000000\" fill-rule=\"evenodd\" fill-opacity=\"1\" /><path clip-path=\"url(#clip780)\" d=\"M2216.13 229.522 L2232.45 229.522 L2232.45 233.458 L2210.51 233.458 L2210.51 229.522 Q2213.17 226.768 2217.75 222.138 Q2222.36 217.485 2223.54 216.143 Q2225.78 213.62 2226.66 211.884 Q2227.57 210.124 2227.57 208.435 Q2227.57 205.68 2225.62 203.944 Q2223.7 202.208 2220.6 202.208 Q2218.4 202.208 2215.95 202.972 Q2213.52 203.735 2210.74 205.286 L2210.74 200.564 Q2213.56 199.43 2216.02 198.851 Q2218.47 198.273 2220.51 198.273 Q2225.88 198.273 2229.07 200.958 Q2232.27 203.643 2232.27 208.134 Q2232.27 210.263 2231.46 212.185 Q2230.67 214.083 2228.56 216.675 Q2227.98 217.347 2224.88 220.564 Q2221.78 223.759 2216.13 229.522 Z\" fill=\"#000000\" fill-rule=\"evenodd\" fill-opacity=\"1\" /></svg>\n"
      ]
     },
     "execution_count": 12,
     "metadata": {},
     "output_type": "execute_result"
    }
   ],
   "source": [
    "plot(ufield.location, ufield.data, marker=:circle)\n",
    "plot!(hfield.location, hfield.data, marker=:square)"
   ]
  },
  {
   "cell_type": "markdown",
   "id": "acd892b1-b44b-43f9-9bb0-1601d491d906",
   "metadata": {},
   "source": [
    "Btw, we can add a method for `Plots.plot()` :)"
   ]
  },
  {
   "cell_type": "code",
   "execution_count": 13,
   "id": "b601a1ff-cd03-4cff-89d3-37124a4d2400",
   "metadata": {},
   "outputs": [],
   "source": [
    "import Plots: plot, plot!\n",
    "Plots.plot(f::BasicField, args...; kwargs...) = plot(f.location, f.data, args...; kwargs...)\n",
    "Plots.plot!(f::BasicField, args...; kwargs...) = plot!(f.location, f.data, args...; kwargs...)"
   ]
  },
  {
   "cell_type": "code",
   "execution_count": 14,
   "id": "01d97917-02aa-469a-9666-9b77b1bdc24c",
   "metadata": {},
   "outputs": [
    {
     "data": {
      "image/svg+xml": [
       "<?xml version=\"1.0\" encoding=\"utf-8\"?>\n",
       "<svg xmlns=\"http://www.w3.org/2000/svg\" xmlns:xlink=\"http://www.w3.org/1999/xlink\" width=\"600\" height=\"400\" viewBox=\"0 0 2400 1600\">\n",
       "<defs>\n",
       "  <clipPath id=\"clip820\">\n",
       "    <rect x=\"0\" y=\"0\" width=\"2400\" height=\"1600\"/>\n",
       "  </clipPath>\n",
       "</defs>\n",
       "<path clip-path=\"url(#clip820)\" d=\"\n",
       "M0 1600 L2400 1600 L2400 0 L0 0  Z\n",
       "  \" fill=\"#ffffff\" fill-rule=\"evenodd\" fill-opacity=\"1\"/>\n",
       "<defs>\n",
       "  <clipPath id=\"clip821\">\n",
       "    <rect x=\"480\" y=\"0\" width=\"1681\" height=\"1600\"/>\n",
       "  </clipPath>\n",
       "</defs>\n",
       "<path clip-path=\"url(#clip820)\" d=\"\n",
       "M193.936 1486.45 L2352.76 1486.45 L2352.76 47.2441 L193.936 47.2441  Z\n",
       "  \" fill=\"#ffffff\" fill-rule=\"evenodd\" fill-opacity=\"1\"/>\n",
       "<defs>\n",
       "  <clipPath id=\"clip822\">\n",
       "    <rect x=\"193\" y=\"47\" width=\"2160\" height=\"1440\"/>\n",
       "  </clipPath>\n",
       "</defs>\n",
       "<polyline clip-path=\"url(#clip822)\" style=\"stroke:#000000; stroke-linecap:butt; stroke-linejoin:round; stroke-width:2; stroke-opacity:0.1; fill:none\" points=\"\n",
       "  475.21,1486.45 475.21,47.2441 \n",
       "  \"/>\n",
       "<polyline clip-path=\"url(#clip822)\" style=\"stroke:#000000; stroke-linecap:butt; stroke-linejoin:round; stroke-width:2; stroke-opacity:0.1; fill:none\" points=\"\n",
       "  888.039,1486.45 888.039,47.2441 \n",
       "  \"/>\n",
       "<polyline clip-path=\"url(#clip822)\" style=\"stroke:#000000; stroke-linecap:butt; stroke-linejoin:round; stroke-width:2; stroke-opacity:0.1; fill:none\" points=\"\n",
       "  1300.87,1486.45 1300.87,47.2441 \n",
       "  \"/>\n",
       "<polyline clip-path=\"url(#clip822)\" style=\"stroke:#000000; stroke-linecap:butt; stroke-linejoin:round; stroke-width:2; stroke-opacity:0.1; fill:none\" points=\"\n",
       "  1713.7,1486.45 1713.7,47.2441 \n",
       "  \"/>\n",
       "<polyline clip-path=\"url(#clip822)\" style=\"stroke:#000000; stroke-linecap:butt; stroke-linejoin:round; stroke-width:2; stroke-opacity:0.1; fill:none\" points=\"\n",
       "  2126.53,1486.45 2126.53,47.2441 \n",
       "  \"/>\n",
       "<polyline clip-path=\"url(#clip820)\" style=\"stroke:#000000; stroke-linecap:butt; stroke-linejoin:round; stroke-width:4; stroke-opacity:1; fill:none\" points=\"\n",
       "  193.936,1486.45 2352.76,1486.45 \n",
       "  \"/>\n",
       "<polyline clip-path=\"url(#clip820)\" style=\"stroke:#000000; stroke-linecap:butt; stroke-linejoin:round; stroke-width:4; stroke-opacity:1; fill:none\" points=\"\n",
       "  475.21,1486.45 475.21,1469.18 \n",
       "  \"/>\n",
       "<polyline clip-path=\"url(#clip820)\" style=\"stroke:#000000; stroke-linecap:butt; stroke-linejoin:round; stroke-width:4; stroke-opacity:1; fill:none\" points=\"\n",
       "  888.039,1486.45 888.039,1469.18 \n",
       "  \"/>\n",
       "<polyline clip-path=\"url(#clip820)\" style=\"stroke:#000000; stroke-linecap:butt; stroke-linejoin:round; stroke-width:4; stroke-opacity:1; fill:none\" points=\"\n",
       "  1300.87,1486.45 1300.87,1469.18 \n",
       "  \"/>\n",
       "<polyline clip-path=\"url(#clip820)\" style=\"stroke:#000000; stroke-linecap:butt; stroke-linejoin:round; stroke-width:4; stroke-opacity:1; fill:none\" points=\"\n",
       "  1713.7,1486.45 1713.7,1469.18 \n",
       "  \"/>\n",
       "<polyline clip-path=\"url(#clip820)\" style=\"stroke:#000000; stroke-linecap:butt; stroke-linejoin:round; stroke-width:4; stroke-opacity:1; fill:none\" points=\"\n",
       "  2126.53,1486.45 2126.53,1469.18 \n",
       "  \"/>\n",
       "<path clip-path=\"url(#clip820)\" d=\"M452.594 1515.64 Q448.983 1515.64 447.155 1519.2 Q445.349 1522.75 445.349 1529.87 Q445.349 1536.98 447.155 1540.55 Q448.983 1544.09 452.594 1544.09 Q456.229 1544.09 458.034 1540.55 Q459.863 1536.98 459.863 1529.87 Q459.863 1522.75 458.034 1519.2 Q456.229 1515.64 452.594 1515.64 M452.594 1511.93 Q458.405 1511.93 461.46 1516.54 Q464.539 1521.12 464.539 1529.87 Q464.539 1538.6 461.46 1543.21 Q458.405 1547.79 452.594 1547.79 Q446.784 1547.79 443.706 1543.21 Q440.65 1538.6 440.65 1529.87 Q440.65 1521.12 443.706 1516.54 Q446.784 1511.93 452.594 1511.93 Z\" fill=\"#000000\" fill-rule=\"evenodd\" fill-opacity=\"1\" /><path clip-path=\"url(#clip820)\" d=\"M472.756 1541.24 L477.641 1541.24 L477.641 1547.12 L472.756 1547.12 L472.756 1541.24 Z\" fill=\"#000000\" fill-rule=\"evenodd\" fill-opacity=\"1\" /><path clip-path=\"url(#clip820)\" d=\"M497.826 1515.64 Q494.215 1515.64 492.386 1519.2 Q490.58 1522.75 490.58 1529.87 Q490.58 1536.98 492.386 1540.55 Q494.215 1544.09 497.826 1544.09 Q501.46 1544.09 503.265 1540.55 Q505.094 1536.98 505.094 1529.87 Q505.094 1522.75 503.265 1519.2 Q501.46 1515.64 497.826 1515.64 M497.826 1511.93 Q503.636 1511.93 506.691 1516.54 Q509.77 1521.12 509.77 1529.87 Q509.77 1538.6 506.691 1543.21 Q503.636 1547.79 497.826 1547.79 Q492.016 1547.79 488.937 1543.21 Q485.881 1538.6 485.881 1529.87 Q485.881 1521.12 488.937 1516.54 Q492.016 1511.93 497.826 1511.93 Z\" fill=\"#000000\" fill-rule=\"evenodd\" fill-opacity=\"1\" /><path clip-path=\"url(#clip820)\" d=\"M865.921 1515.64 Q862.31 1515.64 860.481 1519.2 Q858.676 1522.75 858.676 1529.87 Q858.676 1536.98 860.481 1540.55 Q862.31 1544.09 865.921 1544.09 Q869.555 1544.09 871.361 1540.55 Q873.19 1536.98 873.19 1529.87 Q873.19 1522.75 871.361 1519.2 Q869.555 1515.64 865.921 1515.64 M865.921 1511.93 Q871.731 1511.93 874.787 1516.54 Q877.865 1521.12 877.865 1529.87 Q877.865 1538.6 874.787 1543.21 Q871.731 1547.79 865.921 1547.79 Q860.111 1547.79 857.032 1543.21 Q853.977 1538.6 853.977 1529.87 Q853.977 1521.12 857.032 1516.54 Q860.111 1511.93 865.921 1511.93 Z\" fill=\"#000000\" fill-rule=\"evenodd\" fill-opacity=\"1\" /><path clip-path=\"url(#clip820)\" d=\"M886.083 1541.24 L890.967 1541.24 L890.967 1547.12 L886.083 1547.12 L886.083 1541.24 Z\" fill=\"#000000\" fill-rule=\"evenodd\" fill-opacity=\"1\" /><path clip-path=\"url(#clip820)\" d=\"M901.199 1512.56 L919.555 1512.56 L919.555 1516.5 L905.481 1516.5 L905.481 1524.97 Q906.5 1524.62 907.518 1524.46 Q908.537 1524.27 909.555 1524.27 Q915.342 1524.27 918.722 1527.44 Q922.101 1530.62 922.101 1536.03 Q922.101 1541.61 918.629 1544.71 Q915.157 1547.79 908.837 1547.79 Q906.662 1547.79 904.393 1547.42 Q902.148 1547.05 899.74 1546.31 L899.74 1541.61 Q901.824 1542.74 904.046 1543.3 Q906.268 1543.86 908.745 1543.86 Q912.749 1543.86 915.087 1541.75 Q917.425 1539.64 917.425 1536.03 Q917.425 1532.42 915.087 1530.31 Q912.749 1528.21 908.745 1528.21 Q906.87 1528.21 904.995 1528.62 Q903.143 1529.04 901.199 1529.92 L901.199 1512.56 Z\" fill=\"#000000\" fill-rule=\"evenodd\" fill-opacity=\"1\" /><path clip-path=\"url(#clip820)\" d=\"M1268.02 1543.18 L1275.66 1543.18 L1275.66 1516.82 L1267.35 1518.49 L1267.35 1514.23 L1275.61 1512.56 L1280.29 1512.56 L1280.29 1543.18 L1287.93 1543.18 L1287.93 1547.12 L1268.02 1547.12 L1268.02 1543.18 Z\" fill=\"#000000\" fill-rule=\"evenodd\" fill-opacity=\"1\" /><path clip-path=\"url(#clip820)\" d=\"M1297.37 1541.24 L1302.26 1541.24 L1302.26 1547.12 L1297.37 1547.12 L1297.37 1541.24 Z\" fill=\"#000000\" fill-rule=\"evenodd\" fill-opacity=\"1\" /><path clip-path=\"url(#clip820)\" d=\"M1322.44 1515.64 Q1318.83 1515.64 1317 1519.2 Q1315.2 1522.75 1315.2 1529.87 Q1315.2 1536.98 1317 1540.55 Q1318.83 1544.09 1322.44 1544.09 Q1326.08 1544.09 1327.88 1540.55 Q1329.71 1536.98 1329.71 1529.87 Q1329.71 1522.75 1327.88 1519.2 Q1326.08 1515.64 1322.44 1515.64 M1322.44 1511.93 Q1328.25 1511.93 1331.31 1516.54 Q1334.39 1521.12 1334.39 1529.87 Q1334.39 1538.6 1331.31 1543.21 Q1328.25 1547.79 1322.44 1547.79 Q1316.63 1547.79 1313.55 1543.21 Q1310.5 1538.6 1310.5 1529.87 Q1310.5 1521.12 1313.55 1516.54 Q1316.63 1511.93 1322.44 1511.93 Z\" fill=\"#000000\" fill-rule=\"evenodd\" fill-opacity=\"1\" /><path clip-path=\"url(#clip820)\" d=\"M1681.35 1543.18 L1688.99 1543.18 L1688.99 1516.82 L1680.68 1518.49 L1680.68 1514.23 L1688.94 1512.56 L1693.62 1512.56 L1693.62 1543.18 L1701.25 1543.18 L1701.25 1547.12 L1681.35 1547.12 L1681.35 1543.18 Z\" fill=\"#000000\" fill-rule=\"evenodd\" fill-opacity=\"1\" /><path clip-path=\"url(#clip820)\" d=\"M1710.7 1541.24 L1715.58 1541.24 L1715.58 1547.12 L1710.7 1547.12 L1710.7 1541.24 Z\" fill=\"#000000\" fill-rule=\"evenodd\" fill-opacity=\"1\" /><path clip-path=\"url(#clip820)\" d=\"M1725.81 1512.56 L1744.17 1512.56 L1744.17 1516.5 L1730.1 1516.5 L1730.1 1524.97 Q1731.12 1524.62 1732.13 1524.46 Q1733.15 1524.27 1734.17 1524.27 Q1739.96 1524.27 1743.34 1527.44 Q1746.72 1530.62 1746.72 1536.03 Q1746.72 1541.61 1743.25 1544.71 Q1739.77 1547.79 1733.45 1547.79 Q1731.28 1547.79 1729.01 1547.42 Q1726.76 1547.05 1724.36 1546.31 L1724.36 1541.61 Q1726.44 1542.74 1728.66 1543.3 Q1730.88 1543.86 1733.36 1543.86 Q1737.37 1543.86 1739.7 1541.75 Q1742.04 1539.64 1742.04 1536.03 Q1742.04 1532.42 1739.7 1530.31 Q1737.37 1528.21 1733.36 1528.21 Q1731.49 1528.21 1729.61 1528.62 Q1727.76 1529.04 1725.81 1529.92 L1725.81 1512.56 Z\" fill=\"#000000\" fill-rule=\"evenodd\" fill-opacity=\"1\" /><path clip-path=\"url(#clip820)\" d=\"M2097.76 1543.18 L2114.08 1543.18 L2114.08 1547.12 L2092.14 1547.12 L2092.14 1543.18 Q2094.8 1540.43 2099.38 1535.8 Q2103.99 1531.15 2105.17 1529.81 Q2107.42 1527.28 2108.3 1525.55 Q2109.2 1523.79 2109.2 1522.1 Q2109.2 1519.34 2107.25 1517.61 Q2105.33 1515.87 2102.23 1515.87 Q2100.03 1515.87 2097.58 1516.63 Q2095.15 1517.4 2092.37 1518.95 L2092.37 1514.23 Q2095.19 1513.09 2097.65 1512.51 Q2100.1 1511.93 2102.14 1511.93 Q2107.51 1511.93 2110.7 1514.62 Q2113.9 1517.31 2113.9 1521.8 Q2113.9 1523.93 2113.09 1525.85 Q2112.3 1527.74 2110.19 1530.34 Q2109.62 1531.01 2106.51 1534.23 Q2103.41 1537.42 2097.76 1543.18 Z\" fill=\"#000000\" fill-rule=\"evenodd\" fill-opacity=\"1\" /><path clip-path=\"url(#clip820)\" d=\"M2123.9 1541.24 L2128.78 1541.24 L2128.78 1547.12 L2123.9 1547.12 L2123.9 1541.24 Z\" fill=\"#000000\" fill-rule=\"evenodd\" fill-opacity=\"1\" /><path clip-path=\"url(#clip820)\" d=\"M2148.97 1515.64 Q2145.36 1515.64 2143.53 1519.2 Q2141.72 1522.75 2141.72 1529.87 Q2141.72 1536.98 2143.53 1540.55 Q2145.36 1544.09 2148.97 1544.09 Q2152.6 1544.09 2154.41 1540.55 Q2156.24 1536.98 2156.24 1529.87 Q2156.24 1522.75 2154.41 1519.2 Q2152.6 1515.64 2148.97 1515.64 M2148.97 1511.93 Q2154.78 1511.93 2157.83 1516.54 Q2160.91 1521.12 2160.91 1529.87 Q2160.91 1538.6 2157.83 1543.21 Q2154.78 1547.79 2148.97 1547.79 Q2143.16 1547.79 2140.08 1543.21 Q2137.02 1538.6 2137.02 1529.87 Q2137.02 1521.12 2140.08 1516.54 Q2143.16 1511.93 2148.97 1511.93 Z\" fill=\"#000000\" fill-rule=\"evenodd\" fill-opacity=\"1\" /><polyline clip-path=\"url(#clip822)\" style=\"stroke:#000000; stroke-linecap:butt; stroke-linejoin:round; stroke-width:2; stroke-opacity:0.1; fill:none\" points=\"\n",
       "  193.936,1449.44 2352.76,1449.44 \n",
       "  \"/>\n",
       "<polyline clip-path=\"url(#clip822)\" style=\"stroke:#000000; stroke-linecap:butt; stroke-linejoin:round; stroke-width:2; stroke-opacity:0.1; fill:none\" points=\"\n",
       "  193.936,1109.08 2352.76,1109.08 \n",
       "  \"/>\n",
       "<polyline clip-path=\"url(#clip822)\" style=\"stroke:#000000; stroke-linecap:butt; stroke-linejoin:round; stroke-width:2; stroke-opacity:0.1; fill:none\" points=\"\n",
       "  193.936,768.711 2352.76,768.711 \n",
       "  \"/>\n",
       "<polyline clip-path=\"url(#clip822)\" style=\"stroke:#000000; stroke-linecap:butt; stroke-linejoin:round; stroke-width:2; stroke-opacity:0.1; fill:none\" points=\"\n",
       "  193.936,428.343 2352.76,428.343 \n",
       "  \"/>\n",
       "<polyline clip-path=\"url(#clip822)\" style=\"stroke:#000000; stroke-linecap:butt; stroke-linejoin:round; stroke-width:2; stroke-opacity:0.1; fill:none\" points=\"\n",
       "  193.936,87.9763 2352.76,87.9763 \n",
       "  \"/>\n",
       "<polyline clip-path=\"url(#clip820)\" style=\"stroke:#000000; stroke-linecap:butt; stroke-linejoin:round; stroke-width:4; stroke-opacity:1; fill:none\" points=\"\n",
       "  193.936,1486.45 193.936,47.2441 \n",
       "  \"/>\n",
       "<polyline clip-path=\"url(#clip820)\" style=\"stroke:#000000; stroke-linecap:butt; stroke-linejoin:round; stroke-width:4; stroke-opacity:1; fill:none\" points=\"\n",
       "  193.936,1449.44 219.842,1449.44 \n",
       "  \"/>\n",
       "<polyline clip-path=\"url(#clip820)\" style=\"stroke:#000000; stroke-linecap:butt; stroke-linejoin:round; stroke-width:4; stroke-opacity:1; fill:none\" points=\"\n",
       "  193.936,1109.08 219.842,1109.08 \n",
       "  \"/>\n",
       "<polyline clip-path=\"url(#clip820)\" style=\"stroke:#000000; stroke-linecap:butt; stroke-linejoin:round; stroke-width:4; stroke-opacity:1; fill:none\" points=\"\n",
       "  193.936,768.711 219.842,768.711 \n",
       "  \"/>\n",
       "<polyline clip-path=\"url(#clip820)\" style=\"stroke:#000000; stroke-linecap:butt; stroke-linejoin:round; stroke-width:4; stroke-opacity:1; fill:none\" points=\"\n",
       "  193.936,428.343 219.842,428.343 \n",
       "  \"/>\n",
       "<polyline clip-path=\"url(#clip820)\" style=\"stroke:#000000; stroke-linecap:butt; stroke-linejoin:round; stroke-width:4; stroke-opacity:1; fill:none\" points=\"\n",
       "  193.936,87.9763 219.842,87.9763 \n",
       "  \"/>\n",
       "<path clip-path=\"url(#clip820)\" d=\"M50.9921 1449.9 L80.6679 1449.9 L80.6679 1453.83 L50.9921 1453.83 L50.9921 1449.9 Z\" fill=\"#000000\" fill-rule=\"evenodd\" fill-opacity=\"1\" /><path clip-path=\"url(#clip820)\" d=\"M91.5706 1462.79 L99.2095 1462.79 L99.2095 1436.42 L90.8993 1438.09 L90.8993 1433.83 L99.1632 1432.16 L103.839 1432.16 L103.839 1462.79 L111.478 1462.79 L111.478 1466.72 L91.5706 1466.72 L91.5706 1462.79 Z\" fill=\"#000000\" fill-rule=\"evenodd\" fill-opacity=\"1\" /><path clip-path=\"url(#clip820)\" d=\"M120.922 1460.85 L125.807 1460.85 L125.807 1466.72 L120.922 1466.72 L120.922 1460.85 Z\" fill=\"#000000\" fill-rule=\"evenodd\" fill-opacity=\"1\" /><path clip-path=\"url(#clip820)\" d=\"M145.992 1435.24 Q142.381 1435.24 140.552 1438.81 Q138.746 1442.35 138.746 1449.48 Q138.746 1456.59 140.552 1460.15 Q142.381 1463.69 145.992 1463.69 Q149.626 1463.69 151.431 1460.15 Q153.26 1456.59 153.26 1449.48 Q153.26 1442.35 151.431 1438.81 Q149.626 1435.24 145.992 1435.24 M145.992 1431.54 Q151.802 1431.54 154.857 1436.15 Q157.936 1440.73 157.936 1449.48 Q157.936 1458.21 154.857 1462.81 Q151.802 1467.4 145.992 1467.4 Q140.181 1467.4 137.103 1462.81 Q134.047 1458.21 134.047 1449.48 Q134.047 1440.73 137.103 1436.15 Q140.181 1431.54 145.992 1431.54 Z\" fill=\"#000000\" fill-rule=\"evenodd\" fill-opacity=\"1\" /><path clip-path=\"url(#clip820)\" d=\"M51.9875 1109.53 L81.6633 1109.53 L81.6633 1113.46 L51.9875 1113.46 L51.9875 1109.53 Z\" fill=\"#000000\" fill-rule=\"evenodd\" fill-opacity=\"1\" /><path clip-path=\"url(#clip820)\" d=\"M101.756 1094.88 Q98.1447 1094.88 96.316 1098.44 Q94.5104 1101.98 94.5104 1109.11 Q94.5104 1116.22 96.316 1119.78 Q98.1447 1123.33 101.756 1123.33 Q105.39 1123.33 107.196 1119.78 Q109.024 1116.22 109.024 1109.11 Q109.024 1101.98 107.196 1098.44 Q105.39 1094.88 101.756 1094.88 M101.756 1091.17 Q107.566 1091.17 110.621 1095.78 Q113.7 1100.36 113.7 1109.11 Q113.7 1117.84 110.621 1122.45 Q107.566 1127.03 101.756 1127.03 Q95.9456 1127.03 92.8669 1122.45 Q89.8114 1117.84 89.8114 1109.11 Q89.8114 1100.36 92.8669 1095.78 Q95.9456 1091.17 101.756 1091.17 Z\" fill=\"#000000\" fill-rule=\"evenodd\" fill-opacity=\"1\" /><path clip-path=\"url(#clip820)\" d=\"M121.918 1120.48 L126.802 1120.48 L126.802 1126.36 L121.918 1126.36 L121.918 1120.48 Z\" fill=\"#000000\" fill-rule=\"evenodd\" fill-opacity=\"1\" /><path clip-path=\"url(#clip820)\" d=\"M137.033 1091.8 L155.39 1091.8 L155.39 1095.73 L141.316 1095.73 L141.316 1104.21 Q142.334 1103.86 143.353 1103.7 Q144.371 1103.51 145.39 1103.51 Q151.177 1103.51 154.556 1106.68 Q157.936 1109.85 157.936 1115.27 Q157.936 1120.85 154.464 1123.95 Q150.992 1127.03 144.672 1127.03 Q142.496 1127.03 140.228 1126.66 Q137.982 1126.29 135.575 1125.55 L135.575 1120.85 Q137.658 1121.98 139.881 1122.54 Q142.103 1123.09 144.58 1123.09 Q148.584 1123.09 150.922 1120.99 Q153.26 1118.88 153.26 1115.27 Q153.26 1111.66 150.922 1109.55 Q148.584 1107.45 144.58 1107.45 Q142.705 1107.45 140.83 1107.86 Q138.978 1108.28 137.033 1109.16 L137.033 1091.8 Z\" fill=\"#000000\" fill-rule=\"evenodd\" fill-opacity=\"1\" /><path clip-path=\"url(#clip820)\" d=\"M100.76 754.509 Q97.1493 754.509 95.3206 758.074 Q93.515 761.616 93.515 768.745 Q93.515 775.852 95.3206 779.417 Q97.1493 782.958 100.76 782.958 Q104.395 782.958 106.2 779.417 Q108.029 775.852 108.029 768.745 Q108.029 761.616 106.2 758.074 Q104.395 754.509 100.76 754.509 M100.76 750.806 Q106.571 750.806 109.626 755.412 Q112.705 759.995 112.705 768.745 Q112.705 777.472 109.626 782.079 Q106.571 786.662 100.76 786.662 Q94.9502 786.662 91.8715 782.079 Q88.816 777.472 88.816 768.745 Q88.816 759.995 91.8715 755.412 Q94.9502 750.806 100.76 750.806 Z\" fill=\"#000000\" fill-rule=\"evenodd\" fill-opacity=\"1\" /><path clip-path=\"url(#clip820)\" d=\"M120.922 780.111 L125.807 780.111 L125.807 785.991 L120.922 785.991 L120.922 780.111 Z\" fill=\"#000000\" fill-rule=\"evenodd\" fill-opacity=\"1\" /><path clip-path=\"url(#clip820)\" d=\"M145.992 754.509 Q142.381 754.509 140.552 758.074 Q138.746 761.616 138.746 768.745 Q138.746 775.852 140.552 779.417 Q142.381 782.958 145.992 782.958 Q149.626 782.958 151.431 779.417 Q153.26 775.852 153.26 768.745 Q153.26 761.616 151.431 758.074 Q149.626 754.509 145.992 754.509 M145.992 750.806 Q151.802 750.806 154.857 755.412 Q157.936 759.995 157.936 768.745 Q157.936 777.472 154.857 782.079 Q151.802 786.662 145.992 786.662 Q140.181 786.662 137.103 782.079 Q134.047 777.472 134.047 768.745 Q134.047 759.995 137.103 755.412 Q140.181 750.806 145.992 750.806 Z\" fill=\"#000000\" fill-rule=\"evenodd\" fill-opacity=\"1\" /><path clip-path=\"url(#clip820)\" d=\"M101.756 414.142 Q98.1447 414.142 96.316 417.707 Q94.5104 421.249 94.5104 428.378 Q94.5104 435.485 96.316 439.049 Q98.1447 442.591 101.756 442.591 Q105.39 442.591 107.196 439.049 Q109.024 435.485 109.024 428.378 Q109.024 421.249 107.196 417.707 Q105.39 414.142 101.756 414.142 M101.756 410.438 Q107.566 410.438 110.621 415.045 Q113.7 419.628 113.7 428.378 Q113.7 437.105 110.621 441.711 Q107.566 446.295 101.756 446.295 Q95.9456 446.295 92.8669 441.711 Q89.8114 437.105 89.8114 428.378 Q89.8114 419.628 92.8669 415.045 Q95.9456 410.438 101.756 410.438 Z\" fill=\"#000000\" fill-rule=\"evenodd\" fill-opacity=\"1\" /><path clip-path=\"url(#clip820)\" d=\"M121.918 439.744 L126.802 439.744 L126.802 445.623 L121.918 445.623 L121.918 439.744 Z\" fill=\"#000000\" fill-rule=\"evenodd\" fill-opacity=\"1\" /><path clip-path=\"url(#clip820)\" d=\"M137.033 411.063 L155.39 411.063 L155.39 414.999 L141.316 414.999 L141.316 423.471 Q142.334 423.124 143.353 422.961 Q144.371 422.776 145.39 422.776 Q151.177 422.776 154.556 425.948 Q157.936 429.119 157.936 434.536 Q157.936 440.114 154.464 443.216 Q150.992 446.295 144.672 446.295 Q142.496 446.295 140.228 445.924 Q137.982 445.554 135.575 444.813 L135.575 440.114 Q137.658 441.248 139.881 441.804 Q142.103 442.36 144.58 442.36 Q148.584 442.36 150.922 440.253 Q153.26 438.147 153.26 434.536 Q153.26 430.924 150.922 428.818 Q148.584 426.711 144.58 426.711 Q142.705 426.711 140.83 427.128 Q138.978 427.545 137.033 428.424 L137.033 411.063 Z\" fill=\"#000000\" fill-rule=\"evenodd\" fill-opacity=\"1\" /><path clip-path=\"url(#clip820)\" d=\"M91.5706 101.321 L99.2095 101.321 L99.2095 74.9555 L90.8993 76.6222 L90.8993 72.3629 L99.1632 70.6963 L103.839 70.6963 L103.839 101.321 L111.478 101.321 L111.478 105.256 L91.5706 105.256 L91.5706 101.321 Z\" fill=\"#000000\" fill-rule=\"evenodd\" fill-opacity=\"1\" /><path clip-path=\"url(#clip820)\" d=\"M120.922 99.3767 L125.807 99.3767 L125.807 105.256 L120.922 105.256 L120.922 99.3767 Z\" fill=\"#000000\" fill-rule=\"evenodd\" fill-opacity=\"1\" /><path clip-path=\"url(#clip820)\" d=\"M145.992 73.775 Q142.381 73.775 140.552 77.3398 Q138.746 80.8814 138.746 88.011 Q138.746 95.1174 140.552 98.6822 Q142.381 102.224 145.992 102.224 Q149.626 102.224 151.431 98.6822 Q153.26 95.1174 153.26 88.011 Q153.26 80.8814 151.431 77.3398 Q149.626 73.775 145.992 73.775 M145.992 70.0713 Q151.802 70.0713 154.857 74.6777 Q157.936 79.261 157.936 88.011 Q157.936 96.7378 154.857 101.344 Q151.802 105.928 145.992 105.928 Q140.181 105.928 137.103 101.344 Q134.047 96.7378 134.047 88.011 Q134.047 79.261 137.103 74.6777 Q140.181 70.0713 145.992 70.0713 Z\" fill=\"#000000\" fill-rule=\"evenodd\" fill-opacity=\"1\" /><polyline clip-path=\"url(#clip822)\" style=\"stroke:#009af9; stroke-linecap:butt; stroke-linejoin:round; stroke-width:4; stroke-opacity:1; fill:none\" points=\"\n",
       "  255.035,1274.59 365.122,1045.59 475.21,768.711 585.298,491.831 695.385,262.826 805.473,121.294 915.561,91.7054 1025.65,179.177 1135.74,368.585 1245.82,627.178 \n",
       "  1355.91,910.243 1466,1168.84 1576.09,1358.24 1686.17,1445.72 1796.26,1416.13 1906.35,1274.59 2016.44,1045.59 2126.53,768.711 2236.61,491.831 \n",
       "  \"/>\n",
       "<circle clip-path=\"url(#clip822)\" cx=\"255.035\" cy=\"1274.59\" r=\"14\" fill=\"#009af9\" fill-rule=\"evenodd\" fill-opacity=\"1\" stroke=\"#000000\" stroke-opacity=\"1\" stroke-width=\"3.2\"/>\n",
       "<circle clip-path=\"url(#clip822)\" cx=\"365.122\" cy=\"1045.59\" r=\"14\" fill=\"#009af9\" fill-rule=\"evenodd\" fill-opacity=\"1\" stroke=\"#000000\" stroke-opacity=\"1\" stroke-width=\"3.2\"/>\n",
       "<circle clip-path=\"url(#clip822)\" cx=\"475.21\" cy=\"768.711\" r=\"14\" fill=\"#009af9\" fill-rule=\"evenodd\" fill-opacity=\"1\" stroke=\"#000000\" stroke-opacity=\"1\" stroke-width=\"3.2\"/>\n",
       "<circle clip-path=\"url(#clip822)\" cx=\"585.298\" cy=\"491.831\" r=\"14\" fill=\"#009af9\" fill-rule=\"evenodd\" fill-opacity=\"1\" stroke=\"#000000\" stroke-opacity=\"1\" stroke-width=\"3.2\"/>\n",
       "<circle clip-path=\"url(#clip822)\" cx=\"695.385\" cy=\"262.826\" r=\"14\" fill=\"#009af9\" fill-rule=\"evenodd\" fill-opacity=\"1\" stroke=\"#000000\" stroke-opacity=\"1\" stroke-width=\"3.2\"/>\n",
       "<circle clip-path=\"url(#clip822)\" cx=\"805.473\" cy=\"121.294\" r=\"14\" fill=\"#009af9\" fill-rule=\"evenodd\" fill-opacity=\"1\" stroke=\"#000000\" stroke-opacity=\"1\" stroke-width=\"3.2\"/>\n",
       "<circle clip-path=\"url(#clip822)\" cx=\"915.561\" cy=\"91.7054\" r=\"14\" fill=\"#009af9\" fill-rule=\"evenodd\" fill-opacity=\"1\" stroke=\"#000000\" stroke-opacity=\"1\" stroke-width=\"3.2\"/>\n",
       "<circle clip-path=\"url(#clip822)\" cx=\"1025.65\" cy=\"179.177\" r=\"14\" fill=\"#009af9\" fill-rule=\"evenodd\" fill-opacity=\"1\" stroke=\"#000000\" stroke-opacity=\"1\" stroke-width=\"3.2\"/>\n",
       "<circle clip-path=\"url(#clip822)\" cx=\"1135.74\" cy=\"368.585\" r=\"14\" fill=\"#009af9\" fill-rule=\"evenodd\" fill-opacity=\"1\" stroke=\"#000000\" stroke-opacity=\"1\" stroke-width=\"3.2\"/>\n",
       "<circle clip-path=\"url(#clip822)\" cx=\"1245.82\" cy=\"627.178\" r=\"14\" fill=\"#009af9\" fill-rule=\"evenodd\" fill-opacity=\"1\" stroke=\"#000000\" stroke-opacity=\"1\" stroke-width=\"3.2\"/>\n",
       "<circle clip-path=\"url(#clip822)\" cx=\"1355.91\" cy=\"910.243\" r=\"14\" fill=\"#009af9\" fill-rule=\"evenodd\" fill-opacity=\"1\" stroke=\"#000000\" stroke-opacity=\"1\" stroke-width=\"3.2\"/>\n",
       "<circle clip-path=\"url(#clip822)\" cx=\"1466\" cy=\"1168.84\" r=\"14\" fill=\"#009af9\" fill-rule=\"evenodd\" fill-opacity=\"1\" stroke=\"#000000\" stroke-opacity=\"1\" stroke-width=\"3.2\"/>\n",
       "<circle clip-path=\"url(#clip822)\" cx=\"1576.09\" cy=\"1358.24\" r=\"14\" fill=\"#009af9\" fill-rule=\"evenodd\" fill-opacity=\"1\" stroke=\"#000000\" stroke-opacity=\"1\" stroke-width=\"3.2\"/>\n",
       "<circle clip-path=\"url(#clip822)\" cx=\"1686.17\" cy=\"1445.72\" r=\"14\" fill=\"#009af9\" fill-rule=\"evenodd\" fill-opacity=\"1\" stroke=\"#000000\" stroke-opacity=\"1\" stroke-width=\"3.2\"/>\n",
       "<circle clip-path=\"url(#clip822)\" cx=\"1796.26\" cy=\"1416.13\" r=\"14\" fill=\"#009af9\" fill-rule=\"evenodd\" fill-opacity=\"1\" stroke=\"#000000\" stroke-opacity=\"1\" stroke-width=\"3.2\"/>\n",
       "<circle clip-path=\"url(#clip822)\" cx=\"1906.35\" cy=\"1274.59\" r=\"14\" fill=\"#009af9\" fill-rule=\"evenodd\" fill-opacity=\"1\" stroke=\"#000000\" stroke-opacity=\"1\" stroke-width=\"3.2\"/>\n",
       "<circle clip-path=\"url(#clip822)\" cx=\"2016.44\" cy=\"1045.59\" r=\"14\" fill=\"#009af9\" fill-rule=\"evenodd\" fill-opacity=\"1\" stroke=\"#000000\" stroke-opacity=\"1\" stroke-width=\"3.2\"/>\n",
       "<circle clip-path=\"url(#clip822)\" cx=\"2126.53\" cy=\"768.711\" r=\"14\" fill=\"#009af9\" fill-rule=\"evenodd\" fill-opacity=\"1\" stroke=\"#000000\" stroke-opacity=\"1\" stroke-width=\"3.2\"/>\n",
       "<circle clip-path=\"url(#clip822)\" cx=\"2236.61\" cy=\"491.831\" r=\"14\" fill=\"#009af9\" fill-rule=\"evenodd\" fill-opacity=\"1\" stroke=\"#000000\" stroke-opacity=\"1\" stroke-width=\"3.2\"/>\n",
       "<polyline clip-path=\"url(#clip822)\" style=\"stroke:#e26f46; stroke-linecap:butt; stroke-linejoin:round; stroke-width:4; stroke-opacity:1; fill:none\" points=\"\n",
       "  310.079,558.352 420.166,146.829 530.254,146.829 640.342,558.352 750.429,1109.08 860.517,1434.57 970.605,1319.44 1080.69,839.867 1190.78,313.21 1300.87,87.9763 \n",
       "  1410.96,313.21 1521.04,839.867 1631.13,1319.44 1741.22,1434.57 1851.31,1109.08 1961.39,558.352 2071.48,146.829 2181.57,146.829 2291.66,558.352 \n",
       "  \"/>\n",
       "<path clip-path=\"url(#clip822)\" d=\"M294.079 542.352 L294.079 574.352 L326.079 574.352 L326.079 542.352 L294.079 542.352 Z\" fill=\"#e26f46\" fill-rule=\"evenodd\" fill-opacity=\"1\" stroke=\"#000000\" stroke-opacity=\"1\" stroke-width=\"3.2\"/>\n",
       "<path clip-path=\"url(#clip822)\" d=\"M404.166 130.829 L404.166 162.829 L436.166 162.829 L436.166 130.829 L404.166 130.829 Z\" fill=\"#e26f46\" fill-rule=\"evenodd\" fill-opacity=\"1\" stroke=\"#000000\" stroke-opacity=\"1\" stroke-width=\"3.2\"/>\n",
       "<path clip-path=\"url(#clip822)\" d=\"M514.254 130.829 L514.254 162.829 L546.254 162.829 L546.254 130.829 L514.254 130.829 Z\" fill=\"#e26f46\" fill-rule=\"evenodd\" fill-opacity=\"1\" stroke=\"#000000\" stroke-opacity=\"1\" stroke-width=\"3.2\"/>\n",
       "<path clip-path=\"url(#clip822)\" d=\"M624.342 542.352 L624.342 574.352 L656.342 574.352 L656.342 542.352 L624.342 542.352 Z\" fill=\"#e26f46\" fill-rule=\"evenodd\" fill-opacity=\"1\" stroke=\"#000000\" stroke-opacity=\"1\" stroke-width=\"3.2\"/>\n",
       "<path clip-path=\"url(#clip822)\" d=\"M734.429 1093.08 L734.429 1125.08 L766.429 1125.08 L766.429 1093.08 L734.429 1093.08 Z\" fill=\"#e26f46\" fill-rule=\"evenodd\" fill-opacity=\"1\" stroke=\"#000000\" stroke-opacity=\"1\" stroke-width=\"3.2\"/>\n",
       "<path clip-path=\"url(#clip822)\" d=\"M844.517 1418.57 L844.517 1450.57 L876.517 1450.57 L876.517 1418.57 L844.517 1418.57 Z\" fill=\"#e26f46\" fill-rule=\"evenodd\" fill-opacity=\"1\" stroke=\"#000000\" stroke-opacity=\"1\" stroke-width=\"3.2\"/>\n",
       "<path clip-path=\"url(#clip822)\" d=\"M954.605 1303.44 L954.605 1335.44 L986.605 1335.44 L986.605 1303.44 L954.605 1303.44 Z\" fill=\"#e26f46\" fill-rule=\"evenodd\" fill-opacity=\"1\" stroke=\"#000000\" stroke-opacity=\"1\" stroke-width=\"3.2\"/>\n",
       "<path clip-path=\"url(#clip822)\" d=\"M1064.69 823.867 L1064.69 855.867 L1096.69 855.867 L1096.69 823.867 L1064.69 823.867 Z\" fill=\"#e26f46\" fill-rule=\"evenodd\" fill-opacity=\"1\" stroke=\"#000000\" stroke-opacity=\"1\" stroke-width=\"3.2\"/>\n",
       "<path clip-path=\"url(#clip822)\" d=\"M1174.78 297.21 L1174.78 329.21 L1206.78 329.21 L1206.78 297.21 L1174.78 297.21 Z\" fill=\"#e26f46\" fill-rule=\"evenodd\" fill-opacity=\"1\" stroke=\"#000000\" stroke-opacity=\"1\" stroke-width=\"3.2\"/>\n",
       "<path clip-path=\"url(#clip822)\" d=\"M1284.87 71.9763 L1284.87 103.976 L1316.87 103.976 L1316.87 71.9763 L1284.87 71.9763 Z\" fill=\"#e26f46\" fill-rule=\"evenodd\" fill-opacity=\"1\" stroke=\"#000000\" stroke-opacity=\"1\" stroke-width=\"3.2\"/>\n",
       "<path clip-path=\"url(#clip822)\" d=\"M1394.96 297.21 L1394.96 329.21 L1426.96 329.21 L1426.96 297.21 L1394.96 297.21 Z\" fill=\"#e26f46\" fill-rule=\"evenodd\" fill-opacity=\"1\" stroke=\"#000000\" stroke-opacity=\"1\" stroke-width=\"3.2\"/>\n",
       "<path clip-path=\"url(#clip822)\" d=\"M1505.04 823.867 L1505.04 855.867 L1537.04 855.867 L1537.04 823.867 L1505.04 823.867 Z\" fill=\"#e26f46\" fill-rule=\"evenodd\" fill-opacity=\"1\" stroke=\"#000000\" stroke-opacity=\"1\" stroke-width=\"3.2\"/>\n",
       "<path clip-path=\"url(#clip822)\" d=\"M1615.13 1303.44 L1615.13 1335.44 L1647.13 1335.44 L1647.13 1303.44 L1615.13 1303.44 Z\" fill=\"#e26f46\" fill-rule=\"evenodd\" fill-opacity=\"1\" stroke=\"#000000\" stroke-opacity=\"1\" stroke-width=\"3.2\"/>\n",
       "<path clip-path=\"url(#clip822)\" d=\"M1725.22 1418.57 L1725.22 1450.57 L1757.22 1450.57 L1757.22 1418.57 L1725.22 1418.57 Z\" fill=\"#e26f46\" fill-rule=\"evenodd\" fill-opacity=\"1\" stroke=\"#000000\" stroke-opacity=\"1\" stroke-width=\"3.2\"/>\n",
       "<path clip-path=\"url(#clip822)\" d=\"M1835.31 1093.08 L1835.31 1125.08 L1867.31 1125.08 L1867.31 1093.08 L1835.31 1093.08 Z\" fill=\"#e26f46\" fill-rule=\"evenodd\" fill-opacity=\"1\" stroke=\"#000000\" stroke-opacity=\"1\" stroke-width=\"3.2\"/>\n",
       "<path clip-path=\"url(#clip822)\" d=\"M1945.39 542.352 L1945.39 574.352 L1977.39 574.352 L1977.39 542.352 L1945.39 542.352 Z\" fill=\"#e26f46\" fill-rule=\"evenodd\" fill-opacity=\"1\" stroke=\"#000000\" stroke-opacity=\"1\" stroke-width=\"3.2\"/>\n",
       "<path clip-path=\"url(#clip822)\" d=\"M2055.48 130.829 L2055.48 162.829 L2087.48 162.829 L2087.48 130.829 L2055.48 130.829 Z\" fill=\"#e26f46\" fill-rule=\"evenodd\" fill-opacity=\"1\" stroke=\"#000000\" stroke-opacity=\"1\" stroke-width=\"3.2\"/>\n",
       "<path clip-path=\"url(#clip822)\" d=\"M2165.57 130.829 L2165.57 162.829 L2197.57 162.829 L2197.57 130.829 L2165.57 130.829 Z\" fill=\"#e26f46\" fill-rule=\"evenodd\" fill-opacity=\"1\" stroke=\"#000000\" stroke-opacity=\"1\" stroke-width=\"3.2\"/>\n",
       "<path clip-path=\"url(#clip822)\" d=\"M2275.66 542.352 L2275.66 574.352 L2307.66 574.352 L2307.66 542.352 L2275.66 542.352 Z\" fill=\"#e26f46\" fill-rule=\"evenodd\" fill-opacity=\"1\" stroke=\"#000000\" stroke-opacity=\"1\" stroke-width=\"3.2\"/>\n",
       "<path clip-path=\"url(#clip820)\" d=\"\n",
       "M1988.5 276.658 L2280.8 276.658 L2280.8 95.2176 L1988.5 95.2176  Z\n",
       "  \" fill=\"#ffffff\" fill-rule=\"evenodd\" fill-opacity=\"1\"/>\n",
       "<polyline clip-path=\"url(#clip820)\" style=\"stroke:#000000; stroke-linecap:butt; stroke-linejoin:round; stroke-width:4; stroke-opacity:1; fill:none\" points=\"\n",
       "  1988.5,276.658 2280.8,276.658 2280.8,95.2176 1988.5,95.2176 1988.5,276.658 \n",
       "  \"/>\n",
       "<polyline clip-path=\"url(#clip820)\" style=\"stroke:#009af9; stroke-linecap:butt; stroke-linejoin:round; stroke-width:4; stroke-opacity:1; fill:none\" points=\"\n",
       "  2012.48,155.698 2156.4,155.698 \n",
       "  \"/>\n",
       "<circle clip-path=\"url(#clip820)\" cx=\"2084.44\" cy=\"155.698\" r=\"23\" fill=\"#009af9\" fill-rule=\"evenodd\" fill-opacity=\"1\" stroke=\"#000000\" stroke-opacity=\"1\" stroke-width=\"5.12\"/>\n",
       "<path clip-path=\"url(#clip820)\" d=\"M2194.23 175.385 Q2192.43 180.015 2190.72 181.427 Q2189 182.839 2186.13 182.839 L2182.73 182.839 L2182.73 179.274 L2185.23 179.274 Q2186.99 179.274 2187.96 178.44 Q2188.93 177.607 2190.11 174.505 L2190.88 172.561 L2180.39 147.052 L2184.91 147.052 L2193.01 167.329 L2201.11 147.052 L2205.62 147.052 L2194.23 175.385 Z\" fill=\"#000000\" fill-rule=\"evenodd\" fill-opacity=\"1\" /><path clip-path=\"url(#clip820)\" d=\"M2212.91 169.042 L2220.55 169.042 L2220.55 142.677 L2212.24 144.343 L2212.24 140.084 L2220.51 138.418 L2225.18 138.418 L2225.18 169.042 L2232.82 169.042 L2232.82 172.978 L2212.91 172.978 L2212.91 169.042 Z\" fill=\"#000000\" fill-rule=\"evenodd\" fill-opacity=\"1\" /><polyline clip-path=\"url(#clip820)\" style=\"stroke:#e26f46; stroke-linecap:butt; stroke-linejoin:round; stroke-width:4; stroke-opacity:1; fill:none\" points=\"\n",
       "  2012.48,216.178 2156.4,216.178 \n",
       "  \"/>\n",
       "<path clip-path=\"url(#clip820)\" d=\"M2058.84 190.578 L2058.84 241.778 L2110.04 241.778 L2110.04 190.578 L2058.84 190.578 Z\" fill=\"#e26f46\" fill-rule=\"evenodd\" fill-opacity=\"1\" stroke=\"#000000\" stroke-opacity=\"1\" stroke-width=\"5.12\"/>\n",
       "<path clip-path=\"url(#clip820)\" d=\"M2194.23 235.865 Q2192.43 240.495 2190.72 241.907 Q2189 243.319 2186.13 243.319 L2182.73 243.319 L2182.73 239.754 L2185.23 239.754 Q2186.99 239.754 2187.96 238.92 Q2188.93 238.087 2190.11 234.985 L2190.88 233.041 L2180.39 207.532 L2184.91 207.532 L2193.01 227.809 L2201.11 207.532 L2205.62 207.532 L2194.23 235.865 Z\" fill=\"#000000\" fill-rule=\"evenodd\" fill-opacity=\"1\" /><path clip-path=\"url(#clip820)\" d=\"M2216.13 229.522 L2232.45 229.522 L2232.45 233.458 L2210.51 233.458 L2210.51 229.522 Q2213.17 226.768 2217.75 222.138 Q2222.36 217.485 2223.54 216.143 Q2225.78 213.62 2226.66 211.884 Q2227.57 210.124 2227.57 208.435 Q2227.57 205.68 2225.62 203.944 Q2223.7 202.208 2220.6 202.208 Q2218.4 202.208 2215.95 202.972 Q2213.52 203.735 2210.74 205.286 L2210.74 200.564 Q2213.56 199.43 2216.02 198.851 Q2218.47 198.273 2220.51 198.273 Q2225.88 198.273 2229.07 200.958 Q2232.27 203.643 2232.27 208.134 Q2232.27 210.263 2231.46 212.185 Q2230.67 214.083 2228.56 216.675 Q2227.98 217.347 2224.88 220.564 Q2221.78 223.759 2216.13 229.522 Z\" fill=\"#000000\" fill-rule=\"evenodd\" fill-opacity=\"1\" /></svg>\n"
      ]
     },
     "execution_count": 14,
     "metadata": {},
     "output_type": "execute_result"
    }
   ],
   "source": [
    "plot(ufield, marker=:circle)\n",
    "plot!(hfield, marker=:square)"
   ]
  },
  {
   "cell_type": "markdown",
   "id": "4a775094-20c2-46df-ac18-9986e9aed2f5",
   "metadata": {},
   "source": [
    "Let's make a better `Field` type that contains the location of the field as parameter."
   ]
  },
  {
   "cell_type": "code",
   "execution_count": 15,
   "id": "5e5f775d-ac62-424a-ae75-71d01376af59",
   "metadata": {},
   "outputs": [],
   "source": [
    "abstract type AbstractLocation end"
   ]
  },
  {
   "cell_type": "code",
   "execution_count": 16,
   "id": "27a8c832-f88a-4461-b2d4-3298cdfc2e39",
   "metadata": {},
   "outputs": [],
   "source": [
    "struct Cell <: AbstractLocation end \n",
    "struct Face <: AbstractLocation end "
   ]
  },
  {
   "cell_type": "code",
   "execution_count": 17,
   "id": "d2475464-1b43-4cae-86a7-0fa3db638c93",
   "metadata": {},
   "outputs": [],
   "source": [
    "struct Field{L<:AbstractLocation, D<:AbstractArray, G}\n",
    "    data :: D\n",
    "    grid :: G\n",
    "    \n",
    "    Field{L}(data::D, grid::G) where {L, D, G} = new{L, D, G}(data, grid)\n",
    "end"
   ]
  },
  {
   "cell_type": "code",
   "execution_count": 18,
   "id": "d8f3a6f2-e587-4194-94c0-8229c1ff5ec5",
   "metadata": {},
   "outputs": [],
   "source": [
    "import Plots: plot, plot!\n",
    "Plots.plot(f::Field{Face}, args...; kwargs...) = plot(f.grid.xᶠ, f.data, args...; kwargs...)\n",
    "Plots.plot(f::Field{Cell}, args...; kwargs...) = plot(f.grid.xᶜ, f.data, args...; kwargs...)\n",
    "Plots.plot!(f::Field{Face}, args...; kwargs...) = plot!(f.grid.xᶠ, f.data, args...; kwargs...)\n",
    "Plots.plot!(f::Field{Cell}, args...; kwargs...) = plot!(f.grid.xᶜ, f.data, args...; kwargs...)"
   ]
  },
  {
   "cell_type": "code",
   "execution_count": 19,
   "id": "23586fc5-b51e-4e6a-bf4f-d73fe13fa111",
   "metadata": {},
   "outputs": [
    {
     "data": {
      "text/plain": [
       "Field{Cell, OffsetVector{Float64, Vector{Float64}}, Grid}([0.30901699437494745, 0.9135454576426009, 0.9135454576426009, 0.30901699437494745, -0.4999999999999998, -0.9781476007338057, -0.8090169943749475, -0.10452846326765423, 0.6691306063588585, 1.0, 0.6691306063588589, -0.10452846326765287, -0.8090169943749472, -0.9781476007338055, -0.49999999999999983, 0.309016994374947, 0.9135454576426004, 0.9135454576426009, 0.30901699437494623], Grid(2.0, 15, 0.13333333333333333, -0.26666666666666666:0.13333333333333333:2.1333333333333333 with indices -1:17, -0.2:0.13333333333333333:2.2 with indices -1:17))"
      ]
     },
     "execution_count": 19,
     "metadata": {},
     "output_type": "execute_result"
    }
   ],
   "source": [
    "u = Field{Face}(udata, grid)\n",
    "h = Field{Cell}(hdata, grid)"
   ]
  },
  {
   "cell_type": "markdown",
   "id": "1a92d825-8990-4a76-af48-7de9d9a2cfe6",
   "metadata": {},
   "source": [
    "Now the types of the fields include information on whether the field lives on cell centers or interfaces. Thus we can write different function methods based on field type."
   ]
  },
  {
   "cell_type": "code",
   "execution_count": 20,
   "id": "8b54ce5e-cd40-4a63-8336-2bd5016cb9f9",
   "metadata": {},
   "outputs": [
    {
     "data": {
      "text/plain": [
       "Field{Face, OffsetVector{Float64, Vector{Float64}}, Grid}"
      ]
     },
     "execution_count": 20,
     "metadata": {},
     "output_type": "execute_result"
    }
   ],
   "source": [
    "typeof(u)"
   ]
  },
  {
   "cell_type": "code",
   "execution_count": 21,
   "id": "8802eb67-9e75-4e52-a4af-0dcf07a53f0c",
   "metadata": {},
   "outputs": [
    {
     "data": {
      "text/plain": [
       "Field{Cell, OffsetVector{Float64, Vector{Float64}}, Grid}"
      ]
     },
     "execution_count": 21,
     "metadata": {},
     "output_type": "execute_result"
    }
   ],
   "source": [
    "typeof(h)"
   ]
  },
  {
   "cell_type": "markdown",
   "id": "bd5f2801-247d-4234-9009-2968da019ba4",
   "metadata": {},
   "source": [
    "Now let's compute derivatives of fields."
   ]
  },
  {
   "cell_type": "code",
   "execution_count": 22,
   "id": "7e05febf-4e0f-460c-8ffa-1e3dfd4d58b7",
   "metadata": {},
   "outputs": [
    {
     "data": {
      "text/plain": [
       "δᶜ (generic function with 1 method)"
      ]
     },
     "execution_count": 22,
     "metadata": {},
     "output_type": "execute_result"
    }
   ],
   "source": [
    "δᶜ(i, u) = u[i+1] - u[i]"
   ]
  },
  {
   "cell_type": "code",
   "execution_count": 23,
   "id": "d5b8d5b3-1c30-487a-a18c-8ec49355bc5e",
   "metadata": {},
   "outputs": [
    {
     "data": {
      "text/plain": [
       "δᶠ (generic function with 1 method)"
      ]
     },
     "execution_count": 23,
     "metadata": {},
     "output_type": "execute_result"
    }
   ],
   "source": [
    "δᶠ(i, h) = h[i] - h[i-1]"
   ]
  },
  {
   "cell_type": "code",
   "execution_count": 24,
   "id": "f7afd006-6fde-4982-a41f-e4df3d0bd788",
   "metadata": {},
   "outputs": [],
   "source": [
    "δ(i, ψ::Field{<:Cell}) = δᶠ(i, ψ.data)\n",
    "δ(i, ψ::Field{<:Face}) = δᶜ(i, ψ.data);"
   ]
  },
  {
   "cell_type": "code",
   "execution_count": 25,
   "id": "3025622e-a1a9-4aab-8381-517fd79027e7",
   "metadata": {},
   "outputs": [
    {
     "data": {
      "text/plain": [
       "0.2079116908177594"
      ]
     },
     "execution_count": 25,
     "metadata": {},
     "output_type": "execute_result"
    }
   ],
   "source": [
    "δ(3, u)"
   ]
  },
  {
   "cell_type": "code",
   "execution_count": 26,
   "id": "3c3f791c-23f5-42fa-bf75-53d93f3d9d39",
   "metadata": {},
   "outputs": [
    {
     "data": {
      "text/plain": [
       "-0.8090169943749472"
      ]
     },
     "execution_count": 26,
     "metadata": {},
     "output_type": "execute_result"
    }
   ],
   "source": [
    "δ(3, h)"
   ]
  },
  {
   "cell_type": "code",
   "execution_count": 27,
   "id": "d3f5b9ea-0eba-4a3e-bc97-6543de2ddd18",
   "metadata": {},
   "outputs": [],
   "source": [
    "∂(i, ψ::Field{<:Cell}) = δᶠ(i, ψ.data) / ψ.grid.dx\n",
    "∂(i, ψ::Field{<:Face}) = δᶜ(i, ψ.data) / ψ.grid.dx;"
   ]
  },
  {
   "cell_type": "code",
   "execution_count": 28,
   "id": "91b26e32-f3f4-46eb-8a80-207839528971",
   "metadata": {},
   "outputs": [
    {
     "data": {
      "text/plain": [
       "∂_arrays (generic function with 1 method)"
      ]
     },
     "execution_count": 28,
     "metadata": {},
     "output_type": "execute_result"
    }
   ],
   "source": [
    "function ∂_arrays(i, ψ::AbstractArray, grid; location=\"face\")\n",
    "    if location == \"face\"\n",
    "        return δᶜ(i, ψ) / grid.dx\n",
    "    else\n",
    "        return δᶠ(i, ψ) / grid.dx\n",
    "    end\n",
    "    \n",
    "end"
   ]
  },
  {
   "cell_type": "code",
   "execution_count": 29,
   "id": "1b6b8310-1bec-4c49-b0aa-a0970f9bef70",
   "metadata": {},
   "outputs": [],
   "source": [
    "∂udata = similar(udata)\n",
    "\n",
    "for i in 1:n\n",
    "    ∂udata[i] = ∂(i, u)\n",
    "end"
   ]
  },
  {
   "cell_type": "code",
   "execution_count": 30,
   "id": "2efa5548-5bbd-4b10-9d30-0fc2db4ac065",
   "metadata": {},
   "outputs": [
    {
     "data": {
      "image/svg+xml": [
       "<?xml version=\"1.0\" encoding=\"utf-8\"?>\n",
       "<svg xmlns=\"http://www.w3.org/2000/svg\" xmlns:xlink=\"http://www.w3.org/1999/xlink\" width=\"600\" height=\"400\" viewBox=\"0 0 2400 1600\">\n",
       "<defs>\n",
       "  <clipPath id=\"clip860\">\n",
       "    <rect x=\"0\" y=\"0\" width=\"2400\" height=\"1600\"/>\n",
       "  </clipPath>\n",
       "</defs>\n",
       "<path clip-path=\"url(#clip860)\" d=\"\n",
       "M0 1600 L2400 1600 L2400 0 L0 0  Z\n",
       "  \" fill=\"#ffffff\" fill-rule=\"evenodd\" fill-opacity=\"1\"/>\n",
       "<defs>\n",
       "  <clipPath id=\"clip861\">\n",
       "    <rect x=\"480\" y=\"0\" width=\"1681\" height=\"1600\"/>\n",
       "  </clipPath>\n",
       "</defs>\n",
       "<path clip-path=\"url(#clip860)\" d=\"\n",
       "M148.057 1486.45 L2352.76 1486.45 L2352.76 47.2441 L148.057 47.2441  Z\n",
       "  \" fill=\"#ffffff\" fill-rule=\"evenodd\" fill-opacity=\"1\"/>\n",
       "<defs>\n",
       "  <clipPath id=\"clip862\">\n",
       "    <rect x=\"148\" y=\"47\" width=\"2206\" height=\"1440\"/>\n",
       "  </clipPath>\n",
       "</defs>\n",
       "<polyline clip-path=\"url(#clip862)\" style=\"stroke:#000000; stroke-linecap:butt; stroke-linejoin:round; stroke-width:2; stroke-opacity:0.1; fill:none\" points=\"\n",
       "  414.73,1486.45 414.73,47.2441 \n",
       "  \"/>\n",
       "<polyline clip-path=\"url(#clip862)\" style=\"stroke:#000000; stroke-linecap:butt; stroke-linejoin:round; stroke-width:2; stroke-opacity:0.1; fill:none\" points=\"\n",
       "  693.289,1486.45 693.289,47.2441 \n",
       "  \"/>\n",
       "<polyline clip-path=\"url(#clip862)\" style=\"stroke:#000000; stroke-linecap:butt; stroke-linejoin:round; stroke-width:2; stroke-opacity:0.1; fill:none\" points=\"\n",
       "  971.848,1486.45 971.848,47.2441 \n",
       "  \"/>\n",
       "<polyline clip-path=\"url(#clip862)\" style=\"stroke:#000000; stroke-linecap:butt; stroke-linejoin:round; stroke-width:2; stroke-opacity:0.1; fill:none\" points=\"\n",
       "  1250.41,1486.45 1250.41,47.2441 \n",
       "  \"/>\n",
       "<polyline clip-path=\"url(#clip862)\" style=\"stroke:#000000; stroke-linecap:butt; stroke-linejoin:round; stroke-width:2; stroke-opacity:0.1; fill:none\" points=\"\n",
       "  1528.96,1486.45 1528.96,47.2441 \n",
       "  \"/>\n",
       "<polyline clip-path=\"url(#clip862)\" style=\"stroke:#000000; stroke-linecap:butt; stroke-linejoin:round; stroke-width:2; stroke-opacity:0.1; fill:none\" points=\"\n",
       "  1807.52,1486.45 1807.52,47.2441 \n",
       "  \"/>\n",
       "<polyline clip-path=\"url(#clip862)\" style=\"stroke:#000000; stroke-linecap:butt; stroke-linejoin:round; stroke-width:2; stroke-opacity:0.1; fill:none\" points=\"\n",
       "  2086.08,1486.45 2086.08,47.2441 \n",
       "  \"/>\n",
       "<polyline clip-path=\"url(#clip860)\" style=\"stroke:#000000; stroke-linecap:butt; stroke-linejoin:round; stroke-width:4; stroke-opacity:1; fill:none\" points=\"\n",
       "  148.057,1486.45 2352.76,1486.45 \n",
       "  \"/>\n",
       "<polyline clip-path=\"url(#clip860)\" style=\"stroke:#000000; stroke-linecap:butt; stroke-linejoin:round; stroke-width:4; stroke-opacity:1; fill:none\" points=\"\n",
       "  414.73,1486.45 414.73,1469.18 \n",
       "  \"/>\n",
       "<polyline clip-path=\"url(#clip860)\" style=\"stroke:#000000; stroke-linecap:butt; stroke-linejoin:round; stroke-width:4; stroke-opacity:1; fill:none\" points=\"\n",
       "  693.289,1486.45 693.289,1469.18 \n",
       "  \"/>\n",
       "<polyline clip-path=\"url(#clip860)\" style=\"stroke:#000000; stroke-linecap:butt; stroke-linejoin:round; stroke-width:4; stroke-opacity:1; fill:none\" points=\"\n",
       "  971.848,1486.45 971.848,1469.18 \n",
       "  \"/>\n",
       "<polyline clip-path=\"url(#clip860)\" style=\"stroke:#000000; stroke-linecap:butt; stroke-linejoin:round; stroke-width:4; stroke-opacity:1; fill:none\" points=\"\n",
       "  1250.41,1486.45 1250.41,1469.18 \n",
       "  \"/>\n",
       "<polyline clip-path=\"url(#clip860)\" style=\"stroke:#000000; stroke-linecap:butt; stroke-linejoin:round; stroke-width:4; stroke-opacity:1; fill:none\" points=\"\n",
       "  1528.96,1486.45 1528.96,1469.18 \n",
       "  \"/>\n",
       "<polyline clip-path=\"url(#clip860)\" style=\"stroke:#000000; stroke-linecap:butt; stroke-linejoin:round; stroke-width:4; stroke-opacity:1; fill:none\" points=\"\n",
       "  1807.52,1486.45 1807.52,1469.18 \n",
       "  \"/>\n",
       "<polyline clip-path=\"url(#clip860)\" style=\"stroke:#000000; stroke-linecap:butt; stroke-linejoin:round; stroke-width:4; stroke-opacity:1; fill:none\" points=\"\n",
       "  2086.08,1486.45 2086.08,1469.18 \n",
       "  \"/>\n",
       "<path clip-path=\"url(#clip860)\" d=\"M377.531 1515.64 Q373.92 1515.64 372.091 1519.2 Q370.286 1522.75 370.286 1529.87 Q370.286 1536.98 372.091 1540.55 Q373.92 1544.09 377.531 1544.09 Q381.166 1544.09 382.971 1540.55 Q384.8 1536.98 384.8 1529.87 Q384.8 1522.75 382.971 1519.2 Q381.166 1515.64 377.531 1515.64 M377.531 1511.93 Q383.341 1511.93 386.397 1516.54 Q389.476 1521.12 389.476 1529.87 Q389.476 1538.6 386.397 1543.21 Q383.341 1547.79 377.531 1547.79 Q371.721 1547.79 368.642 1543.21 Q365.587 1538.6 365.587 1529.87 Q365.587 1521.12 368.642 1516.54 Q371.721 1511.93 377.531 1511.93 Z\" fill=\"#000000\" fill-rule=\"evenodd\" fill-opacity=\"1\" /><path clip-path=\"url(#clip860)\" d=\"M397.693 1541.24 L402.577 1541.24 L402.577 1547.12 L397.693 1547.12 L397.693 1541.24 Z\" fill=\"#000000\" fill-rule=\"evenodd\" fill-opacity=\"1\" /><path clip-path=\"url(#clip860)\" d=\"M416.79 1543.18 L433.11 1543.18 L433.11 1547.12 L411.165 1547.12 L411.165 1543.18 Q413.827 1540.43 418.411 1535.8 Q423.017 1531.15 424.198 1529.81 Q426.443 1527.28 427.323 1525.55 Q428.225 1523.79 428.225 1522.1 Q428.225 1519.34 426.281 1517.61 Q424.36 1515.87 421.258 1515.87 Q419.059 1515.87 416.605 1516.63 Q414.175 1517.4 411.397 1518.95 L411.397 1514.23 Q414.221 1513.09 416.675 1512.51 Q419.128 1511.93 421.165 1511.93 Q426.536 1511.93 429.73 1514.62 Q432.924 1517.31 432.924 1521.8 Q432.924 1523.93 432.114 1525.85 Q431.327 1527.74 429.221 1530.34 Q428.642 1531.01 425.54 1534.23 Q422.438 1537.42 416.79 1543.18 Z\" fill=\"#000000\" fill-rule=\"evenodd\" fill-opacity=\"1\" /><path clip-path=\"url(#clip860)\" d=\"M442.971 1512.56 L461.327 1512.56 L461.327 1516.5 L447.253 1516.5 L447.253 1524.97 Q448.272 1524.62 449.29 1524.46 Q450.309 1524.27 451.327 1524.27 Q457.114 1524.27 460.494 1527.44 Q463.873 1530.62 463.873 1536.03 Q463.873 1541.61 460.401 1544.71 Q456.929 1547.79 450.61 1547.79 Q448.434 1547.79 446.165 1547.42 Q443.92 1547.05 441.512 1546.31 L441.512 1541.61 Q443.596 1542.74 445.818 1543.3 Q448.04 1543.86 450.517 1543.86 Q454.522 1543.86 456.86 1541.75 Q459.198 1539.64 459.198 1536.03 Q459.198 1532.42 456.86 1530.31 Q454.522 1528.21 450.517 1528.21 Q448.642 1528.21 446.767 1528.62 Q444.915 1529.04 442.971 1529.92 L442.971 1512.56 Z\" fill=\"#000000\" fill-rule=\"evenodd\" fill-opacity=\"1\" /><path clip-path=\"url(#clip860)\" d=\"M655.592 1515.64 Q651.981 1515.64 650.153 1519.2 Q648.347 1522.75 648.347 1529.87 Q648.347 1536.98 650.153 1540.55 Q651.981 1544.09 655.592 1544.09 Q659.227 1544.09 661.032 1540.55 Q662.861 1536.98 662.861 1529.87 Q662.861 1522.75 661.032 1519.2 Q659.227 1515.64 655.592 1515.64 M655.592 1511.93 Q661.402 1511.93 664.458 1516.54 Q667.537 1521.12 667.537 1529.87 Q667.537 1538.6 664.458 1543.21 Q661.402 1547.79 655.592 1547.79 Q649.782 1547.79 646.703 1543.21 Q643.648 1538.6 643.648 1529.87 Q643.648 1521.12 646.703 1516.54 Q649.782 1511.93 655.592 1511.93 Z\" fill=\"#000000\" fill-rule=\"evenodd\" fill-opacity=\"1\" /><path clip-path=\"url(#clip860)\" d=\"M675.754 1541.24 L680.638 1541.24 L680.638 1547.12 L675.754 1547.12 L675.754 1541.24 Z\" fill=\"#000000\" fill-rule=\"evenodd\" fill-opacity=\"1\" /><path clip-path=\"url(#clip860)\" d=\"M690.87 1512.56 L709.226 1512.56 L709.226 1516.5 L695.152 1516.5 L695.152 1524.97 Q696.171 1524.62 697.189 1524.46 Q698.208 1524.27 699.226 1524.27 Q705.013 1524.27 708.393 1527.44 Q711.773 1530.62 711.773 1536.03 Q711.773 1541.61 708.3 1544.71 Q704.828 1547.79 698.509 1547.79 Q696.333 1547.79 694.064 1547.42 Q691.819 1547.05 689.412 1546.31 L689.412 1541.61 Q691.495 1542.74 693.717 1543.3 Q695.939 1543.86 698.416 1543.86 Q702.421 1543.86 704.759 1541.75 Q707.097 1539.64 707.097 1536.03 Q707.097 1532.42 704.759 1530.31 Q702.421 1528.21 698.416 1528.21 Q696.541 1528.21 694.666 1528.62 Q692.814 1529.04 690.87 1529.92 L690.87 1512.56 Z\" fill=\"#000000\" fill-rule=\"evenodd\" fill-opacity=\"1\" /><path clip-path=\"url(#clip860)\" d=\"M730.985 1515.64 Q727.374 1515.64 725.546 1519.2 Q723.74 1522.75 723.74 1529.87 Q723.74 1536.98 725.546 1540.55 Q727.374 1544.09 730.985 1544.09 Q734.62 1544.09 736.425 1540.55 Q738.254 1536.98 738.254 1529.87 Q738.254 1522.75 736.425 1519.2 Q734.62 1515.64 730.985 1515.64 M730.985 1511.93 Q736.796 1511.93 739.851 1516.54 Q742.93 1521.12 742.93 1529.87 Q742.93 1538.6 739.851 1543.21 Q736.796 1547.79 730.985 1547.79 Q725.175 1547.79 722.097 1543.21 Q719.041 1538.6 719.041 1529.87 Q719.041 1521.12 722.097 1516.54 Q725.175 1511.93 730.985 1511.93 Z\" fill=\"#000000\" fill-rule=\"evenodd\" fill-opacity=\"1\" /><path clip-path=\"url(#clip860)\" d=\"M934.649 1515.64 Q931.038 1515.64 929.209 1519.2 Q927.403 1522.75 927.403 1529.87 Q927.403 1536.98 929.209 1540.55 Q931.038 1544.09 934.649 1544.09 Q938.283 1544.09 940.088 1540.55 Q941.917 1536.98 941.917 1529.87 Q941.917 1522.75 940.088 1519.2 Q938.283 1515.64 934.649 1515.64 M934.649 1511.93 Q940.459 1511.93 943.514 1516.54 Q946.593 1521.12 946.593 1529.87 Q946.593 1538.6 943.514 1543.21 Q940.459 1547.79 934.649 1547.79 Q928.839 1547.79 925.76 1543.21 Q922.704 1538.6 922.704 1529.87 Q922.704 1521.12 925.76 1516.54 Q928.839 1511.93 934.649 1511.93 Z\" fill=\"#000000\" fill-rule=\"evenodd\" fill-opacity=\"1\" /><path clip-path=\"url(#clip860)\" d=\"M954.811 1541.24 L959.695 1541.24 L959.695 1547.12 L954.811 1547.12 L954.811 1541.24 Z\" fill=\"#000000\" fill-rule=\"evenodd\" fill-opacity=\"1\" /><path clip-path=\"url(#clip860)\" d=\"M968.699 1512.56 L990.922 1512.56 L990.922 1514.55 L978.375 1547.12 L973.491 1547.12 L985.297 1516.5 L968.699 1516.5 L968.699 1512.56 Z\" fill=\"#000000\" fill-rule=\"evenodd\" fill-opacity=\"1\" /><path clip-path=\"url(#clip860)\" d=\"M1000.09 1512.56 L1018.44 1512.56 L1018.44 1516.5 L1004.37 1516.5 L1004.37 1524.97 Q1005.39 1524.62 1006.41 1524.46 Q1007.43 1524.27 1008.44 1524.27 Q1014.23 1524.27 1017.61 1527.44 Q1020.99 1530.62 1020.99 1536.03 Q1020.99 1541.61 1017.52 1544.71 Q1014.05 1547.79 1007.73 1547.79 Q1005.55 1547.79 1003.28 1547.42 Q1001.04 1547.05 998.63 1546.31 L998.63 1541.61 Q1000.71 1542.74 1002.94 1543.3 Q1005.16 1543.86 1007.63 1543.86 Q1011.64 1543.86 1013.98 1541.75 Q1016.31 1539.64 1016.31 1536.03 Q1016.31 1532.42 1013.98 1530.31 Q1011.64 1528.21 1007.63 1528.21 Q1005.76 1528.21 1003.88 1528.62 Q1002.03 1529.04 1000.09 1529.92 L1000.09 1512.56 Z\" fill=\"#000000\" fill-rule=\"evenodd\" fill-opacity=\"1\" /><path clip-path=\"url(#clip860)\" d=\"M1202.48 1543.18 L1210.12 1543.18 L1210.12 1516.82 L1201.81 1518.49 L1201.81 1514.23 L1210.07 1512.56 L1214.75 1512.56 L1214.75 1543.18 L1222.39 1543.18 L1222.39 1547.12 L1202.48 1547.12 L1202.48 1543.18 Z\" fill=\"#000000\" fill-rule=\"evenodd\" fill-opacity=\"1\" /><path clip-path=\"url(#clip860)\" d=\"M1231.83 1541.24 L1236.71 1541.24 L1236.71 1547.12 L1231.83 1547.12 L1231.83 1541.24 Z\" fill=\"#000000\" fill-rule=\"evenodd\" fill-opacity=\"1\" /><path clip-path=\"url(#clip860)\" d=\"M1256.9 1515.64 Q1253.29 1515.64 1251.46 1519.2 Q1249.65 1522.75 1249.65 1529.87 Q1249.65 1536.98 1251.46 1540.55 Q1253.29 1544.09 1256.9 1544.09 Q1260.53 1544.09 1262.34 1540.55 Q1264.17 1536.98 1264.17 1529.87 Q1264.17 1522.75 1262.34 1519.2 Q1260.53 1515.64 1256.9 1515.64 M1256.9 1511.93 Q1262.71 1511.93 1265.76 1516.54 Q1268.84 1521.12 1268.84 1529.87 Q1268.84 1538.6 1265.76 1543.21 Q1262.71 1547.79 1256.9 1547.79 Q1251.09 1547.79 1248.01 1543.21 Q1244.95 1538.6 1244.95 1529.87 Q1244.95 1521.12 1248.01 1516.54 Q1251.09 1511.93 1256.9 1511.93 Z\" fill=\"#000000\" fill-rule=\"evenodd\" fill-opacity=\"1\" /><path clip-path=\"url(#clip860)\" d=\"M1287.06 1515.64 Q1283.45 1515.64 1281.62 1519.2 Q1279.82 1522.75 1279.82 1529.87 Q1279.82 1536.98 1281.62 1540.55 Q1283.45 1544.09 1287.06 1544.09 Q1290.7 1544.09 1292.5 1540.55 Q1294.33 1536.98 1294.33 1529.87 Q1294.33 1522.75 1292.5 1519.2 Q1290.7 1515.64 1287.06 1515.64 M1287.06 1511.93 Q1292.87 1511.93 1295.93 1516.54 Q1299.01 1521.12 1299.01 1529.87 Q1299.01 1538.6 1295.93 1543.21 Q1292.87 1547.79 1287.06 1547.79 Q1281.25 1547.79 1278.17 1543.21 Q1275.12 1538.6 1275.12 1529.87 Q1275.12 1521.12 1278.17 1516.54 Q1281.25 1511.93 1287.06 1511.93 Z\" fill=\"#000000\" fill-rule=\"evenodd\" fill-opacity=\"1\" /><path clip-path=\"url(#clip860)\" d=\"M1481.53 1543.18 L1489.17 1543.18 L1489.17 1516.82 L1480.86 1518.49 L1480.86 1514.23 L1489.13 1512.56 L1493.8 1512.56 L1493.8 1543.18 L1501.44 1543.18 L1501.44 1547.12 L1481.53 1547.12 L1481.53 1543.18 Z\" fill=\"#000000\" fill-rule=\"evenodd\" fill-opacity=\"1\" /><path clip-path=\"url(#clip860)\" d=\"M1510.89 1541.24 L1515.77 1541.24 L1515.77 1547.12 L1510.89 1547.12 L1510.89 1541.24 Z\" fill=\"#000000\" fill-rule=\"evenodd\" fill-opacity=\"1\" /><path clip-path=\"url(#clip860)\" d=\"M1529.98 1543.18 L1546.3 1543.18 L1546.3 1547.12 L1524.36 1547.12 L1524.36 1543.18 Q1527.02 1540.43 1531.6 1535.8 Q1536.21 1531.15 1537.39 1529.81 Q1539.64 1527.28 1540.52 1525.55 Q1541.42 1523.79 1541.42 1522.1 Q1541.42 1519.34 1539.47 1517.61 Q1537.55 1515.87 1534.45 1515.87 Q1532.25 1515.87 1529.8 1516.63 Q1527.37 1517.4 1524.59 1518.95 L1524.59 1514.23 Q1527.41 1513.09 1529.87 1512.51 Q1532.32 1511.93 1534.36 1511.93 Q1539.73 1511.93 1542.92 1514.62 Q1546.12 1517.31 1546.12 1521.8 Q1546.12 1523.93 1545.31 1525.85 Q1544.52 1527.74 1542.41 1530.34 Q1541.84 1531.01 1538.73 1534.23 Q1535.63 1537.42 1529.98 1543.18 Z\" fill=\"#000000\" fill-rule=\"evenodd\" fill-opacity=\"1\" /><path clip-path=\"url(#clip860)\" d=\"M1556.16 1512.56 L1574.52 1512.56 L1574.52 1516.5 L1560.45 1516.5 L1560.45 1524.97 Q1561.46 1524.62 1562.48 1524.46 Q1563.5 1524.27 1564.52 1524.27 Q1570.31 1524.27 1573.69 1527.44 Q1577.07 1530.62 1577.07 1536.03 Q1577.07 1541.61 1573.59 1544.71 Q1570.12 1547.79 1563.8 1547.79 Q1561.63 1547.79 1559.36 1547.42 Q1557.11 1547.05 1554.71 1546.31 L1554.71 1541.61 Q1556.79 1542.74 1559.01 1543.3 Q1561.23 1543.86 1563.71 1543.86 Q1567.71 1543.86 1570.05 1541.75 Q1572.39 1539.64 1572.39 1536.03 Q1572.39 1532.42 1570.05 1530.31 Q1567.71 1528.21 1563.71 1528.21 Q1561.84 1528.21 1559.96 1528.62 Q1558.11 1529.04 1556.16 1529.92 L1556.16 1512.56 Z\" fill=\"#000000\" fill-rule=\"evenodd\" fill-opacity=\"1\" /><path clip-path=\"url(#clip860)\" d=\"M1759.6 1543.18 L1767.23 1543.18 L1767.23 1516.82 L1758.92 1518.49 L1758.92 1514.23 L1767.19 1512.56 L1771.86 1512.56 L1771.86 1543.18 L1779.5 1543.18 L1779.5 1547.12 L1759.6 1547.12 L1759.6 1543.18 Z\" fill=\"#000000\" fill-rule=\"evenodd\" fill-opacity=\"1\" /><path clip-path=\"url(#clip860)\" d=\"M1788.95 1541.24 L1793.83 1541.24 L1793.83 1547.12 L1788.95 1547.12 L1788.95 1541.24 Z\" fill=\"#000000\" fill-rule=\"evenodd\" fill-opacity=\"1\" /><path clip-path=\"url(#clip860)\" d=\"M1804.06 1512.56 L1822.42 1512.56 L1822.42 1516.5 L1808.35 1516.5 L1808.35 1524.97 Q1809.36 1524.62 1810.38 1524.46 Q1811.4 1524.27 1812.42 1524.27 Q1818.21 1524.27 1821.59 1527.44 Q1824.97 1530.62 1824.97 1536.03 Q1824.97 1541.61 1821.49 1544.71 Q1818.02 1547.79 1811.7 1547.79 Q1809.53 1547.79 1807.26 1547.42 Q1805.01 1547.05 1802.6 1546.31 L1802.6 1541.61 Q1804.69 1542.74 1806.91 1543.3 Q1809.13 1543.86 1811.61 1543.86 Q1815.61 1543.86 1817.95 1541.75 Q1820.29 1539.64 1820.29 1536.03 Q1820.29 1532.42 1817.95 1530.31 Q1815.61 1528.21 1811.61 1528.21 Q1809.73 1528.21 1807.86 1528.62 Q1806.01 1529.04 1804.06 1529.92 L1804.06 1512.56 Z\" fill=\"#000000\" fill-rule=\"evenodd\" fill-opacity=\"1\" /><path clip-path=\"url(#clip860)\" d=\"M1844.18 1515.64 Q1840.57 1515.64 1838.74 1519.2 Q1836.93 1522.75 1836.93 1529.87 Q1836.93 1536.98 1838.74 1540.55 Q1840.57 1544.09 1844.18 1544.09 Q1847.81 1544.09 1849.62 1540.55 Q1851.45 1536.98 1851.45 1529.87 Q1851.45 1522.75 1849.62 1519.2 Q1847.81 1515.64 1844.18 1515.64 M1844.18 1511.93 Q1849.99 1511.93 1853.04 1516.54 Q1856.12 1521.12 1856.12 1529.87 Q1856.12 1538.6 1853.04 1543.21 Q1849.99 1547.79 1844.18 1547.79 Q1838.37 1547.79 1835.29 1543.21 Q1832.23 1538.6 1832.23 1529.87 Q1832.23 1521.12 1835.29 1516.54 Q1838.37 1511.93 1844.18 1511.93 Z\" fill=\"#000000\" fill-rule=\"evenodd\" fill-opacity=\"1\" /><path clip-path=\"url(#clip860)\" d=\"M2038.65 1543.18 L2046.29 1543.18 L2046.29 1516.82 L2037.98 1518.49 L2037.98 1514.23 L2046.24 1512.56 L2050.92 1512.56 L2050.92 1543.18 L2058.56 1543.18 L2058.56 1547.12 L2038.65 1547.12 L2038.65 1543.18 Z\" fill=\"#000000\" fill-rule=\"evenodd\" fill-opacity=\"1\" /><path clip-path=\"url(#clip860)\" d=\"M2068 1541.24 L2072.89 1541.24 L2072.89 1547.12 L2068 1547.12 L2068 1541.24 Z\" fill=\"#000000\" fill-rule=\"evenodd\" fill-opacity=\"1\" /><path clip-path=\"url(#clip860)\" d=\"M2081.89 1512.56 L2104.11 1512.56 L2104.11 1514.55 L2091.57 1547.12 L2086.68 1547.12 L2098.49 1516.5 L2081.89 1516.5 L2081.89 1512.56 Z\" fill=\"#000000\" fill-rule=\"evenodd\" fill-opacity=\"1\" /><path clip-path=\"url(#clip860)\" d=\"M2113.28 1512.56 L2131.64 1512.56 L2131.64 1516.5 L2117.56 1516.5 L2117.56 1524.97 Q2118.58 1524.62 2119.6 1524.46 Q2120.62 1524.27 2121.64 1524.27 Q2127.42 1524.27 2130.8 1527.44 Q2134.18 1530.62 2134.18 1536.03 Q2134.18 1541.61 2130.71 1544.71 Q2127.24 1547.79 2120.92 1547.79 Q2118.74 1547.79 2116.48 1547.42 Q2114.23 1547.05 2111.82 1546.31 L2111.82 1541.61 Q2113.91 1542.74 2116.13 1543.3 Q2118.35 1543.86 2120.83 1543.86 Q2124.83 1543.86 2127.17 1541.75 Q2129.51 1539.64 2129.51 1536.03 Q2129.51 1532.42 2127.17 1530.31 Q2124.83 1528.21 2120.83 1528.21 Q2118.95 1528.21 2117.08 1528.62 Q2115.23 1529.04 2113.28 1529.92 L2113.28 1512.56 Z\" fill=\"#000000\" fill-rule=\"evenodd\" fill-opacity=\"1\" /><polyline clip-path=\"url(#clip862)\" style=\"stroke:#000000; stroke-linecap:butt; stroke-linejoin:round; stroke-width:2; stroke-opacity:0.1; fill:none\" points=\"\n",
       "  148.057,1414.78 2352.76,1414.78 \n",
       "  \"/>\n",
       "<polyline clip-path=\"url(#clip862)\" style=\"stroke:#000000; stroke-linecap:butt; stroke-linejoin:round; stroke-width:2; stroke-opacity:0.1; fill:none\" points=\"\n",
       "  148.057,1196.3 2352.76,1196.3 \n",
       "  \"/>\n",
       "<polyline clip-path=\"url(#clip862)\" style=\"stroke:#000000; stroke-linecap:butt; stroke-linejoin:round; stroke-width:2; stroke-opacity:0.1; fill:none\" points=\"\n",
       "  148.057,977.825 2352.76,977.825 \n",
       "  \"/>\n",
       "<polyline clip-path=\"url(#clip862)\" style=\"stroke:#000000; stroke-linecap:butt; stroke-linejoin:round; stroke-width:2; stroke-opacity:0.1; fill:none\" points=\"\n",
       "  148.057,759.347 2352.76,759.347 \n",
       "  \"/>\n",
       "<polyline clip-path=\"url(#clip862)\" style=\"stroke:#000000; stroke-linecap:butt; stroke-linejoin:round; stroke-width:2; stroke-opacity:0.1; fill:none\" points=\"\n",
       "  148.057,540.869 2352.76,540.869 \n",
       "  \"/>\n",
       "<polyline clip-path=\"url(#clip862)\" style=\"stroke:#000000; stroke-linecap:butt; stroke-linejoin:round; stroke-width:2; stroke-opacity:0.1; fill:none\" points=\"\n",
       "  148.057,322.39 2352.76,322.39 \n",
       "  \"/>\n",
       "<polyline clip-path=\"url(#clip862)\" style=\"stroke:#000000; stroke-linecap:butt; stroke-linejoin:round; stroke-width:2; stroke-opacity:0.1; fill:none\" points=\"\n",
       "  148.057,103.912 2352.76,103.912 \n",
       "  \"/>\n",
       "<polyline clip-path=\"url(#clip860)\" style=\"stroke:#000000; stroke-linecap:butt; stroke-linejoin:round; stroke-width:4; stroke-opacity:1; fill:none\" points=\"\n",
       "  148.057,1486.45 148.057,47.2441 \n",
       "  \"/>\n",
       "<polyline clip-path=\"url(#clip860)\" style=\"stroke:#000000; stroke-linecap:butt; stroke-linejoin:round; stroke-width:4; stroke-opacity:1; fill:none\" points=\"\n",
       "  148.057,1414.78 174.513,1414.78 \n",
       "  \"/>\n",
       "<polyline clip-path=\"url(#clip860)\" style=\"stroke:#000000; stroke-linecap:butt; stroke-linejoin:round; stroke-width:4; stroke-opacity:1; fill:none\" points=\"\n",
       "  148.057,1196.3 174.513,1196.3 \n",
       "  \"/>\n",
       "<polyline clip-path=\"url(#clip860)\" style=\"stroke:#000000; stroke-linecap:butt; stroke-linejoin:round; stroke-width:4; stroke-opacity:1; fill:none\" points=\"\n",
       "  148.057,977.825 174.513,977.825 \n",
       "  \"/>\n",
       "<polyline clip-path=\"url(#clip860)\" style=\"stroke:#000000; stroke-linecap:butt; stroke-linejoin:round; stroke-width:4; stroke-opacity:1; fill:none\" points=\"\n",
       "  148.057,759.347 174.513,759.347 \n",
       "  \"/>\n",
       "<polyline clip-path=\"url(#clip860)\" style=\"stroke:#000000; stroke-linecap:butt; stroke-linejoin:round; stroke-width:4; stroke-opacity:1; fill:none\" points=\"\n",
       "  148.057,540.869 174.513,540.869 \n",
       "  \"/>\n",
       "<polyline clip-path=\"url(#clip860)\" style=\"stroke:#000000; stroke-linecap:butt; stroke-linejoin:round; stroke-width:4; stroke-opacity:1; fill:none\" points=\"\n",
       "  148.057,322.39 174.513,322.39 \n",
       "  \"/>\n",
       "<polyline clip-path=\"url(#clip860)\" style=\"stroke:#000000; stroke-linecap:butt; stroke-linejoin:round; stroke-width:4; stroke-opacity:1; fill:none\" points=\"\n",
       "  148.057,103.912 174.513,103.912 \n",
       "  \"/>\n",
       "<path clip-path=\"url(#clip860)\" d=\"M50.9921 1415.23 L80.6679 1415.23 L80.6679 1419.17 L50.9921 1419.17 L50.9921 1415.23 Z\" fill=\"#000000\" fill-rule=\"evenodd\" fill-opacity=\"1\" /><path clip-path=\"url(#clip860)\" d=\"M104.927 1413.43 Q108.283 1414.14 110.158 1416.41 Q112.057 1418.68 112.057 1422.01 Q112.057 1427.13 108.538 1429.93 Q105.02 1432.73 98.5382 1432.73 Q96.3623 1432.73 94.0475 1432.29 Q91.7558 1431.88 89.3021 1431.02 L89.3021 1426.51 Q91.2465 1427.64 93.5613 1428.22 Q95.8761 1428.8 98.3993 1428.8 Q102.797 1428.8 105.089 1427.06 Q107.404 1425.32 107.404 1422.01 Q107.404 1418.96 105.251 1417.25 Q103.121 1415.51 99.3021 1415.51 L95.2743 1415.51 L95.2743 1411.67 L99.4872 1411.67 Q102.936 1411.67 104.765 1410.3 Q106.594 1408.91 106.594 1406.32 Q106.594 1403.66 104.696 1402.25 Q102.821 1400.81 99.3021 1400.81 Q97.3808 1400.81 95.1817 1401.23 Q92.9826 1401.64 90.3438 1402.52 L90.3438 1398.36 Q93.0058 1397.62 95.3206 1397.25 Q97.6585 1396.88 99.7187 1396.88 Q105.043 1396.88 108.145 1399.31 Q111.246 1401.71 111.246 1405.83 Q111.246 1408.7 109.603 1410.7 Q107.959 1412.66 104.927 1413.43 Z\" fill=\"#000000\" fill-rule=\"evenodd\" fill-opacity=\"1\" /><path clip-path=\"url(#clip860)\" d=\"M51.9412 1196.75 L81.617 1196.75 L81.617 1200.69 L51.9412 1200.69 L51.9412 1196.75 Z\" fill=\"#000000\" fill-rule=\"evenodd\" fill-opacity=\"1\" /><path clip-path=\"url(#clip860)\" d=\"M95.7373 1209.65 L112.057 1209.65 L112.057 1213.58 L90.1123 1213.58 L90.1123 1209.65 Q92.7743 1206.89 97.3576 1202.26 Q101.964 1197.61 103.145 1196.27 Q105.39 1193.74 106.27 1192.01 Q107.172 1190.25 107.172 1188.56 Q107.172 1185.81 105.228 1184.07 Q103.307 1182.33 100.205 1182.33 Q98.0058 1182.33 95.5521 1183.1 Q93.1215 1183.86 90.3438 1185.41 L90.3438 1180.69 Q93.1678 1179.56 95.6215 1178.98 Q98.0752 1178.4 100.112 1178.4 Q105.483 1178.4 108.677 1181.08 Q111.871 1183.77 111.871 1188.26 Q111.871 1190.39 111.061 1192.31 Q110.274 1194.21 108.168 1196.8 Q107.589 1197.47 104.487 1200.69 Q101.385 1203.88 95.7373 1209.65 Z\" fill=\"#000000\" fill-rule=\"evenodd\" fill-opacity=\"1\" /><path clip-path=\"url(#clip860)\" d=\"M51.5708 978.276 L81.2466 978.276 L81.2466 982.211 L51.5708 982.211 L51.5708 978.276 Z\" fill=\"#000000\" fill-rule=\"evenodd\" fill-opacity=\"1\" /><path clip-path=\"url(#clip860)\" d=\"M92.1493 991.169 L99.7882 991.169 L99.7882 964.804 L91.478 966.471 L91.478 962.211 L99.7419 960.545 L104.418 960.545 L104.418 991.169 L112.057 991.169 L112.057 995.105 L92.1493 995.105 L92.1493 991.169 Z\" fill=\"#000000\" fill-rule=\"evenodd\" fill-opacity=\"1\" /><path clip-path=\"url(#clip860)\" d=\"M100.112 745.145 Q96.5011 745.145 94.6724 748.71 Q92.8669 752.252 92.8669 759.381 Q92.8669 766.488 94.6724 770.053 Q96.5011 773.594 100.112 773.594 Q103.746 773.594 105.552 770.053 Q107.381 766.488 107.381 759.381 Q107.381 752.252 105.552 748.71 Q103.746 745.145 100.112 745.145 M100.112 741.442 Q105.922 741.442 108.978 746.048 Q112.057 750.631 112.057 759.381 Q112.057 768.108 108.978 772.715 Q105.922 777.298 100.112 777.298 Q94.3021 777.298 91.2234 772.715 Q88.1679 768.108 88.1679 759.381 Q88.1679 750.631 91.2234 746.048 Q94.3021 741.442 100.112 741.442 Z\" fill=\"#000000\" fill-rule=\"evenodd\" fill-opacity=\"1\" /><path clip-path=\"url(#clip860)\" d=\"M92.1493 554.213 L99.7882 554.213 L99.7882 527.848 L91.478 529.514 L91.478 525.255 L99.7419 523.589 L104.418 523.589 L104.418 554.213 L112.057 554.213 L112.057 558.149 L92.1493 558.149 L92.1493 554.213 Z\" fill=\"#000000\" fill-rule=\"evenodd\" fill-opacity=\"1\" /><path clip-path=\"url(#clip860)\" d=\"M95.7373 335.735 L112.057 335.735 L112.057 339.67 L90.1123 339.67 L90.1123 335.735 Q92.7743 332.981 97.3576 328.351 Q101.964 323.698 103.145 322.356 Q105.39 319.833 106.27 318.096 Q107.172 316.337 107.172 314.647 Q107.172 311.893 105.228 310.157 Q103.307 308.421 100.205 308.421 Q98.0058 308.421 95.5521 309.184 Q93.1215 309.948 90.3438 311.499 L90.3438 306.777 Q93.1678 305.643 95.6215 305.064 Q98.0752 304.485 100.112 304.485 Q105.483 304.485 108.677 307.171 Q111.871 309.856 111.871 314.346 Q111.871 316.476 111.061 318.397 Q110.274 320.296 108.168 322.888 Q107.589 323.559 104.487 326.777 Q101.385 329.971 95.7373 335.735 Z\" fill=\"#000000\" fill-rule=\"evenodd\" fill-opacity=\"1\" /><path clip-path=\"url(#clip860)\" d=\"M104.927 102.558 Q108.283 103.276 110.158 105.544 Q112.057 107.813 112.057 111.146 Q112.057 116.262 108.538 119.063 Q105.02 121.864 98.5382 121.864 Q96.3623 121.864 94.0475 121.424 Q91.7558 121.007 89.3021 120.151 L89.3021 115.637 Q91.2465 116.771 93.5613 117.35 Q95.8761 117.928 98.3993 117.928 Q102.797 117.928 105.089 116.192 Q107.404 114.456 107.404 111.146 Q107.404 108.091 105.251 106.378 Q103.121 104.642 99.3021 104.642 L95.2743 104.642 L95.2743 100.799 L99.4872 100.799 Q102.936 100.799 104.765 99.4332 Q106.594 98.0443 106.594 95.4518 Q106.594 92.7897 104.696 91.3777 Q102.821 89.9425 99.3021 89.9425 Q97.3808 89.9425 95.1817 90.3592 Q92.9826 90.7759 90.3438 91.6555 L90.3438 87.4888 Q93.0058 86.7481 95.3206 86.3777 Q97.6585 86.0074 99.7187 86.0074 Q105.043 86.0074 108.145 88.4379 Q111.246 90.8453 111.246 94.9656 Q111.246 97.836 109.603 99.8267 Q107.959 101.794 104.927 102.558 Z\" fill=\"#000000\" fill-rule=\"evenodd\" fill-opacity=\"1\" /><polyline clip-path=\"url(#clip862)\" style=\"stroke:#009af9; stroke-linecap:butt; stroke-linejoin:round; stroke-width:4; stroke-opacity:1; fill:none\" points=\"\n",
       "  210.454,92.8738 359.018,208.113 507.583,418.665 656.148,688.125 804.712,969.899 953.277,1215.27 1101.84,1381.8 1250.41,1440.71 1398.97,1381.8 1547.54,1215.27 \n",
       "  1696.1,969.899 1844.66,688.125 1993.23,418.665 2141.79,208.113 2290.36,92.8738 \n",
       "  \"/>\n",
       "<polyline clip-path=\"url(#clip862)\" style=\"stroke:#e26f46; stroke-linecap:butt; stroke-linejoin:round; stroke-width:4; stroke-opacity:1; fill:none\" points=\"\n",
       "  210.454,87.9763 359.018,204.062 507.583,416.162 656.148,687.601 804.712,971.446 953.277,1218.62 1101.84,1386.38 1250.41,1445.72 1398.97,1386.38 1547.54,1218.62 \n",
       "  1696.1,971.446 1844.66,687.601 1993.23,416.162 2141.79,204.062 2290.36,87.9763 \n",
       "  \"/>\n",
       "<path clip-path=\"url(#clip860)\" d=\"\n",
       "M1981.87 276.658 L2279.27 276.658 L2279.27 95.2176 L1981.87 95.2176  Z\n",
       "  \" fill=\"#ffffff\" fill-rule=\"evenodd\" fill-opacity=\"1\"/>\n",
       "<polyline clip-path=\"url(#clip860)\" style=\"stroke:#000000; stroke-linecap:butt; stroke-linejoin:round; stroke-width:4; stroke-opacity:1; fill:none\" points=\"\n",
       "  1981.87,276.658 2279.27,276.658 2279.27,95.2176 1981.87,95.2176 1981.87,276.658 \n",
       "  \"/>\n",
       "<polyline clip-path=\"url(#clip860)\" style=\"stroke:#009af9; stroke-linecap:butt; stroke-linejoin:round; stroke-width:4; stroke-opacity:1; fill:none\" points=\"\n",
       "  2006.37,155.698 2153.35,155.698 \n",
       "  \"/>\n",
       "<path clip-path=\"url(#clip860)\" d=\"M2191.68 175.385 Q2189.88 180.015 2188.17 181.427 Q2186.45 182.839 2183.58 182.839 L2180.18 182.839 L2180.18 179.274 L2182.68 179.274 Q2184.44 179.274 2185.41 178.44 Q2186.38 177.607 2187.56 174.505 L2188.33 172.561 L2177.84 147.052 L2182.36 147.052 L2190.46 167.329 L2198.56 147.052 L2203.07 147.052 L2191.68 175.385 Z\" fill=\"#000000\" fill-rule=\"evenodd\" fill-opacity=\"1\" /><path clip-path=\"url(#clip860)\" d=\"M2210.37 169.042 L2218 169.042 L2218 142.677 L2209.69 144.343 L2209.69 140.084 L2217.96 138.418 L2222.63 138.418 L2222.63 169.042 L2230.27 169.042 L2230.27 172.978 L2210.37 172.978 L2210.37 169.042 Z\" fill=\"#000000\" fill-rule=\"evenodd\" fill-opacity=\"1\" /><polyline clip-path=\"url(#clip860)\" style=\"stroke:#e26f46; stroke-linecap:butt; stroke-linejoin:round; stroke-width:4; stroke-opacity:1; fill:none\" points=\"\n",
       "  2006.37,216.178 2153.35,216.178 \n",
       "  \"/>\n",
       "<path clip-path=\"url(#clip860)\" d=\"M2191.68 235.865 Q2189.88 240.495 2188.17 241.907 Q2186.45 243.319 2183.58 243.319 L2180.18 243.319 L2180.18 239.754 L2182.68 239.754 Q2184.44 239.754 2185.41 238.92 Q2186.38 238.087 2187.56 234.985 L2188.33 233.041 L2177.84 207.532 L2182.36 207.532 L2190.46 227.809 L2198.56 207.532 L2203.07 207.532 L2191.68 235.865 Z\" fill=\"#000000\" fill-rule=\"evenodd\" fill-opacity=\"1\" /><path clip-path=\"url(#clip860)\" d=\"M2213.58 229.522 L2229.9 229.522 L2229.9 233.458 L2207.96 233.458 L2207.96 229.522 Q2210.62 226.768 2215.2 222.138 Q2219.81 217.485 2220.99 216.143 Q2223.24 213.62 2224.12 211.884 Q2225.02 210.124 2225.02 208.435 Q2225.02 205.68 2223.07 203.944 Q2221.15 202.208 2218.05 202.208 Q2215.85 202.208 2213.4 202.972 Q2210.97 203.735 2208.19 205.286 L2208.19 200.564 Q2211.01 199.43 2213.47 198.851 Q2215.92 198.273 2217.96 198.273 Q2223.33 198.273 2226.52 200.958 Q2229.72 203.643 2229.72 208.134 Q2229.72 210.263 2228.91 212.185 Q2228.12 214.083 2226.01 216.675 Q2225.43 217.347 2222.33 220.564 Q2219.23 223.759 2213.58 229.522 Z\" fill=\"#000000\" fill-rule=\"evenodd\" fill-opacity=\"1\" /></svg>\n"
      ]
     },
     "execution_count": 30,
     "metadata": {},
     "output_type": "execute_result"
    }
   ],
   "source": [
    "plot(xᶜ[1:n], ∂udata[1:n])\n",
    "plot!(xᶜ[1:n], ∂udata_theoretical[1:n])"
   ]
  },
  {
   "cell_type": "code",
   "execution_count": 31,
   "id": "1eb34adf-a2a4-4a6d-ba6c-a5752986a753",
   "metadata": {},
   "outputs": [],
   "source": [
    "using BenchmarkTools"
   ]
  },
  {
   "cell_type": "code",
   "execution_count": 32,
   "id": "5ba46024-b8bb-43a2-ab2a-934bf1151038",
   "metadata": {},
   "outputs": [
    {
     "name": "stdout",
     "output_type": "stream",
     "text": [
      "  37.542 ns (2 allocations: 32 bytes)\n"
     ]
    }
   ],
   "source": [
    "@btime ∂(10, h);"
   ]
  },
  {
   "cell_type": "code",
   "execution_count": 33,
   "id": "4c32c32c-0f08-4c88-b4cb-d7830dbbe811",
   "metadata": {},
   "outputs": [
    {
     "name": "stdout",
     "output_type": "stream",
     "text": [
      "  52.611 ns (3 allocations: 48 bytes)\n"
     ]
    }
   ],
   "source": [
    "@btime ∂_arrays(10, udata, grid; location=\"cell\");"
   ]
  },
  {
   "cell_type": "code",
   "execution_count": 34,
   "id": "6c291bb4-ed64-4323-b362-0407351d6c19",
   "metadata": {},
   "outputs": [
    {
     "data": {
      "text/plain": [
       "Field{Face, OffsetVector{Float64, Vector{Float64}}, Grid}([2.1219957915e-314, 2.1219957915e-314, 4.243991583e-314, 6.3659873744e-314, 6.3659873744e-314, 8.4879831653e-314, 8.487983166e-314, 1.0609978957e-313, 1.06099789573e-313, 1.06099789573e-313, 1.2731974749e-313, 1.2731974749e-313, 1.2731974749e-313, 1.48539705397e-313, 1.485397054e-313, 1.485397054e-313, 1.6975966331e-313, 1.69759663317e-313, 2.121995795e-314], Grid(2.0, 15, 0.13333333333333333, -0.26666666666666666:0.13333333333333333:2.1333333333333333 with indices -1:17, -0.2:0.13333333333333333:2.2 with indices -1:17))"
      ]
     },
     "execution_count": 34,
     "metadata": {},
     "output_type": "execute_result"
    }
   ],
   "source": [
    "∂u = Field{Cell}(similar(u.data), grid)\n",
    "∂h = Field{Face}(similar(h.data), grid)"
   ]
  },
  {
   "cell_type": "code",
   "execution_count": 35,
   "id": "af1231ac-2efe-4bb4-a88d-34ba5eb8bed5",
   "metadata": {},
   "outputs": [],
   "source": [
    "function ∂!(∂f::Field, f::Field)\n",
    "    for i in 1:f.grid.n\n",
    "        ∂f.data[i] = ∂(i, f)\n",
    "    end\n",
    "end;"
   ]
  },
  {
   "cell_type": "code",
   "execution_count": 36,
   "id": "edfc4ca8-f4b8-4237-9fa3-de1d842a00ff",
   "metadata": {},
   "outputs": [
    {
     "name": "stdout",
     "output_type": "stream",
     "text": [
      "  1.516 μs (76 allocations: 2.38 KiB)\n"
     ]
    }
   ],
   "source": [
    "@btime ∂!(∂u, u)"
   ]
  },
  {
   "cell_type": "code",
   "execution_count": 37,
   "id": "b86d1557-bf40-4420-a928-5ef8e40d5561",
   "metadata": {},
   "outputs": [
    {
     "name": "stdout",
     "output_type": "stream",
     "text": [
      "  1.535 μs (76 allocations: 2.38 KiB)\n"
     ]
    }
   ],
   "source": [
    "@btime ∂!(∂h, h)"
   ]
  },
  {
   "cell_type": "code",
   "execution_count": 38,
   "id": "3dbc3a8b-0d98-489d-8e23-33fcd7541c61",
   "metadata": {},
   "outputs": [
    {
     "data": {
      "image/svg+xml": [
       "<?xml version=\"1.0\" encoding=\"utf-8\"?>\n",
       "<svg xmlns=\"http://www.w3.org/2000/svg\" xmlns:xlink=\"http://www.w3.org/1999/xlink\" width=\"600\" height=\"400\" viewBox=\"0 0 2400 1600\">\n",
       "<defs>\n",
       "  <clipPath id=\"clip900\">\n",
       "    <rect x=\"0\" y=\"0\" width=\"2400\" height=\"1600\"/>\n",
       "  </clipPath>\n",
       "</defs>\n",
       "<path clip-path=\"url(#clip900)\" d=\"\n",
       "M0 1600 L2400 1600 L2400 0 L0 0  Z\n",
       "  \" fill=\"#ffffff\" fill-rule=\"evenodd\" fill-opacity=\"1\"/>\n",
       "<defs>\n",
       "  <clipPath id=\"clip901\">\n",
       "    <rect x=\"480\" y=\"0\" width=\"1681\" height=\"1600\"/>\n",
       "  </clipPath>\n",
       "</defs>\n",
       "<path clip-path=\"url(#clip900)\" d=\"\n",
       "M148.057 1486.45 L2352.76 1486.45 L2352.76 47.2441 L148.057 47.2441  Z\n",
       "  \" fill=\"#ffffff\" fill-rule=\"evenodd\" fill-opacity=\"1\"/>\n",
       "<defs>\n",
       "  <clipPath id=\"clip902\">\n",
       "    <rect x=\"148\" y=\"47\" width=\"2206\" height=\"1440\"/>\n",
       "  </clipPath>\n",
       "</defs>\n",
       "<polyline clip-path=\"url(#clip902)\" style=\"stroke:#000000; stroke-linecap:butt; stroke-linejoin:round; stroke-width:2; stroke-opacity:0.1; fill:none\" points=\"\n",
       "  383.779,1486.45 383.779,47.2441 \n",
       "  \"/>\n",
       "<polyline clip-path=\"url(#clip902)\" style=\"stroke:#000000; stroke-linecap:butt; stroke-linejoin:round; stroke-width:2; stroke-opacity:0.1; fill:none\" points=\"\n",
       "  817.093,1486.45 817.093,47.2441 \n",
       "  \"/>\n",
       "<polyline clip-path=\"url(#clip902)\" style=\"stroke:#000000; stroke-linecap:butt; stroke-linejoin:round; stroke-width:2; stroke-opacity:0.1; fill:none\" points=\"\n",
       "  1250.41,1486.45 1250.41,47.2441 \n",
       "  \"/>\n",
       "<polyline clip-path=\"url(#clip902)\" style=\"stroke:#000000; stroke-linecap:butt; stroke-linejoin:round; stroke-width:2; stroke-opacity:0.1; fill:none\" points=\"\n",
       "  1683.72,1486.45 1683.72,47.2441 \n",
       "  \"/>\n",
       "<polyline clip-path=\"url(#clip902)\" style=\"stroke:#000000; stroke-linecap:butt; stroke-linejoin:round; stroke-width:2; stroke-opacity:0.1; fill:none\" points=\"\n",
       "  2117.03,1486.45 2117.03,47.2441 \n",
       "  \"/>\n",
       "<polyline clip-path=\"url(#clip900)\" style=\"stroke:#000000; stroke-linecap:butt; stroke-linejoin:round; stroke-width:4; stroke-opacity:1; fill:none\" points=\"\n",
       "  148.057,1486.45 2352.76,1486.45 \n",
       "  \"/>\n",
       "<polyline clip-path=\"url(#clip900)\" style=\"stroke:#000000; stroke-linecap:butt; stroke-linejoin:round; stroke-width:4; stroke-opacity:1; fill:none\" points=\"\n",
       "  383.779,1486.45 383.779,1469.18 \n",
       "  \"/>\n",
       "<polyline clip-path=\"url(#clip900)\" style=\"stroke:#000000; stroke-linecap:butt; stroke-linejoin:round; stroke-width:4; stroke-opacity:1; fill:none\" points=\"\n",
       "  817.093,1486.45 817.093,1469.18 \n",
       "  \"/>\n",
       "<polyline clip-path=\"url(#clip900)\" style=\"stroke:#000000; stroke-linecap:butt; stroke-linejoin:round; stroke-width:4; stroke-opacity:1; fill:none\" points=\"\n",
       "  1250.41,1486.45 1250.41,1469.18 \n",
       "  \"/>\n",
       "<polyline clip-path=\"url(#clip900)\" style=\"stroke:#000000; stroke-linecap:butt; stroke-linejoin:round; stroke-width:4; stroke-opacity:1; fill:none\" points=\"\n",
       "  1683.72,1486.45 1683.72,1469.18 \n",
       "  \"/>\n",
       "<polyline clip-path=\"url(#clip900)\" style=\"stroke:#000000; stroke-linecap:butt; stroke-linejoin:round; stroke-width:4; stroke-opacity:1; fill:none\" points=\"\n",
       "  2117.03,1486.45 2117.03,1469.18 \n",
       "  \"/>\n",
       "<path clip-path=\"url(#clip900)\" d=\"M361.164 1515.64 Q357.552 1515.64 355.724 1519.2 Q353.918 1522.75 353.918 1529.87 Q353.918 1536.98 355.724 1540.55 Q357.552 1544.09 361.164 1544.09 Q364.798 1544.09 366.603 1540.55 Q368.432 1536.98 368.432 1529.87 Q368.432 1522.75 366.603 1519.2 Q364.798 1515.64 361.164 1515.64 M361.164 1511.93 Q366.974 1511.93 370.029 1516.54 Q373.108 1521.12 373.108 1529.87 Q373.108 1538.6 370.029 1543.21 Q366.974 1547.79 361.164 1547.79 Q355.353 1547.79 352.275 1543.21 Q349.219 1538.6 349.219 1529.87 Q349.219 1521.12 352.275 1516.54 Q355.353 1511.93 361.164 1511.93 Z\" fill=\"#000000\" fill-rule=\"evenodd\" fill-opacity=\"1\" /><path clip-path=\"url(#clip900)\" d=\"M381.325 1541.24 L386.21 1541.24 L386.21 1547.12 L381.325 1547.12 L381.325 1541.24 Z\" fill=\"#000000\" fill-rule=\"evenodd\" fill-opacity=\"1\" /><path clip-path=\"url(#clip900)\" d=\"M406.395 1515.64 Q402.784 1515.64 400.955 1519.2 Q399.149 1522.75 399.149 1529.87 Q399.149 1536.98 400.955 1540.55 Q402.784 1544.09 406.395 1544.09 Q410.029 1544.09 411.835 1540.55 Q413.663 1536.98 413.663 1529.87 Q413.663 1522.75 411.835 1519.2 Q410.029 1515.64 406.395 1515.64 M406.395 1511.93 Q412.205 1511.93 415.26 1516.54 Q418.339 1521.12 418.339 1529.87 Q418.339 1538.6 415.26 1543.21 Q412.205 1547.79 406.395 1547.79 Q400.585 1547.79 397.506 1543.21 Q394.45 1538.6 394.45 1529.87 Q394.45 1521.12 397.506 1516.54 Q400.585 1511.93 406.395 1511.93 Z\" fill=\"#000000\" fill-rule=\"evenodd\" fill-opacity=\"1\" /><path clip-path=\"url(#clip900)\" d=\"M794.975 1515.64 Q791.364 1515.64 789.535 1519.2 Q787.729 1522.75 787.729 1529.87 Q787.729 1536.98 789.535 1540.55 Q791.364 1544.09 794.975 1544.09 Q798.609 1544.09 800.415 1540.55 Q802.243 1536.98 802.243 1529.87 Q802.243 1522.75 800.415 1519.2 Q798.609 1515.64 794.975 1515.64 M794.975 1511.93 Q800.785 1511.93 803.84 1516.54 Q806.919 1521.12 806.919 1529.87 Q806.919 1538.6 803.84 1543.21 Q800.785 1547.79 794.975 1547.79 Q789.165 1547.79 786.086 1543.21 Q783.03 1538.6 783.03 1529.87 Q783.03 1521.12 786.086 1516.54 Q789.165 1511.93 794.975 1511.93 Z\" fill=\"#000000\" fill-rule=\"evenodd\" fill-opacity=\"1\" /><path clip-path=\"url(#clip900)\" d=\"M815.137 1541.24 L820.021 1541.24 L820.021 1547.12 L815.137 1547.12 L815.137 1541.24 Z\" fill=\"#000000\" fill-rule=\"evenodd\" fill-opacity=\"1\" /><path clip-path=\"url(#clip900)\" d=\"M830.252 1512.56 L848.609 1512.56 L848.609 1516.5 L834.535 1516.5 L834.535 1524.97 Q835.553 1524.62 836.572 1524.46 Q837.59 1524.27 838.609 1524.27 Q844.396 1524.27 847.775 1527.44 Q851.155 1530.62 851.155 1536.03 Q851.155 1541.61 847.683 1544.71 Q844.211 1547.79 837.891 1547.79 Q835.715 1547.79 833.447 1547.42 Q831.201 1547.05 828.794 1546.31 L828.794 1541.61 Q830.877 1542.74 833.1 1543.3 Q835.322 1543.86 837.799 1543.86 Q841.803 1543.86 844.141 1541.75 Q846.479 1539.64 846.479 1536.03 Q846.479 1532.42 844.141 1530.31 Q841.803 1528.21 837.799 1528.21 Q835.924 1528.21 834.049 1528.62 Q832.197 1529.04 830.252 1529.92 L830.252 1512.56 Z\" fill=\"#000000\" fill-rule=\"evenodd\" fill-opacity=\"1\" /><path clip-path=\"url(#clip900)\" d=\"M1217.56 1543.18 L1225.2 1543.18 L1225.2 1516.82 L1216.89 1518.49 L1216.89 1514.23 L1225.15 1512.56 L1229.83 1512.56 L1229.83 1543.18 L1237.47 1543.18 L1237.47 1547.12 L1217.56 1547.12 L1217.56 1543.18 Z\" fill=\"#000000\" fill-rule=\"evenodd\" fill-opacity=\"1\" /><path clip-path=\"url(#clip900)\" d=\"M1246.91 1541.24 L1251.8 1541.24 L1251.8 1547.12 L1246.91 1547.12 L1246.91 1541.24 Z\" fill=\"#000000\" fill-rule=\"evenodd\" fill-opacity=\"1\" /><path clip-path=\"url(#clip900)\" d=\"M1271.98 1515.64 Q1268.37 1515.64 1266.54 1519.2 Q1264.73 1522.75 1264.73 1529.87 Q1264.73 1536.98 1266.54 1540.55 Q1268.37 1544.09 1271.98 1544.09 Q1275.61 1544.09 1277.42 1540.55 Q1279.25 1536.98 1279.25 1529.87 Q1279.25 1522.75 1277.42 1519.2 Q1275.61 1515.64 1271.98 1515.64 M1271.98 1511.93 Q1277.79 1511.93 1280.85 1516.54 Q1283.92 1521.12 1283.92 1529.87 Q1283.92 1538.6 1280.85 1543.21 Q1277.79 1547.79 1271.98 1547.79 Q1266.17 1547.79 1263.09 1543.21 Q1260.04 1538.6 1260.04 1529.87 Q1260.04 1521.12 1263.09 1516.54 Q1266.17 1511.93 1271.98 1511.93 Z\" fill=\"#000000\" fill-rule=\"evenodd\" fill-opacity=\"1\" /><path clip-path=\"url(#clip900)\" d=\"M1651.37 1543.18 L1659.01 1543.18 L1659.01 1516.82 L1650.7 1518.49 L1650.7 1514.23 L1658.96 1512.56 L1663.64 1512.56 L1663.64 1543.18 L1671.28 1543.18 L1671.28 1547.12 L1651.37 1547.12 L1651.37 1543.18 Z\" fill=\"#000000\" fill-rule=\"evenodd\" fill-opacity=\"1\" /><path clip-path=\"url(#clip900)\" d=\"M1680.72 1541.24 L1685.61 1541.24 L1685.61 1547.12 L1680.72 1547.12 L1680.72 1541.24 Z\" fill=\"#000000\" fill-rule=\"evenodd\" fill-opacity=\"1\" /><path clip-path=\"url(#clip900)\" d=\"M1695.84 1512.56 L1714.19 1512.56 L1714.19 1516.5 L1700.12 1516.5 L1700.12 1524.97 Q1701.14 1524.62 1702.16 1524.46 Q1703.18 1524.27 1704.19 1524.27 Q1709.98 1524.27 1713.36 1527.44 Q1716.74 1530.62 1716.74 1536.03 Q1716.74 1541.61 1713.27 1544.71 Q1709.8 1547.79 1703.48 1547.79 Q1701.3 1547.79 1699.03 1547.42 Q1696.79 1547.05 1694.38 1546.31 L1694.38 1541.61 Q1696.46 1542.74 1698.68 1543.3 Q1700.91 1543.86 1703.38 1543.86 Q1707.39 1543.86 1709.73 1541.75 Q1712.06 1539.64 1712.06 1536.03 Q1712.06 1532.42 1709.73 1530.31 Q1707.39 1528.21 1703.38 1528.21 Q1701.51 1528.21 1699.63 1528.62 Q1697.78 1529.04 1695.84 1529.92 L1695.84 1512.56 Z\" fill=\"#000000\" fill-rule=\"evenodd\" fill-opacity=\"1\" /><path clip-path=\"url(#clip900)\" d=\"M2088.27 1543.18 L2104.59 1543.18 L2104.59 1547.12 L2082.65 1547.12 L2082.65 1543.18 Q2085.31 1540.43 2089.89 1535.8 Q2094.5 1531.15 2095.68 1529.81 Q2097.92 1527.28 2098.8 1525.55 Q2099.71 1523.79 2099.71 1522.1 Q2099.71 1519.34 2097.76 1517.61 Q2095.84 1515.87 2092.74 1515.87 Q2090.54 1515.87 2088.09 1516.63 Q2085.66 1517.4 2082.88 1518.95 L2082.88 1514.23 Q2085.7 1513.09 2088.16 1512.51 Q2090.61 1511.93 2092.65 1511.93 Q2098.02 1511.93 2101.21 1514.62 Q2104.41 1517.31 2104.41 1521.8 Q2104.41 1523.93 2103.6 1525.85 Q2102.81 1527.74 2100.7 1530.34 Q2100.12 1531.01 2097.02 1534.23 Q2093.92 1537.42 2088.27 1543.18 Z\" fill=\"#000000\" fill-rule=\"evenodd\" fill-opacity=\"1\" /><path clip-path=\"url(#clip900)\" d=\"M2114.41 1541.24 L2119.29 1541.24 L2119.29 1547.12 L2114.41 1547.12 L2114.41 1541.24 Z\" fill=\"#000000\" fill-rule=\"evenodd\" fill-opacity=\"1\" /><path clip-path=\"url(#clip900)\" d=\"M2139.48 1515.64 Q2135.86 1515.64 2134.04 1519.2 Q2132.23 1522.75 2132.23 1529.87 Q2132.23 1536.98 2134.04 1540.55 Q2135.86 1544.09 2139.48 1544.09 Q2143.11 1544.09 2144.92 1540.55 Q2146.74 1536.98 2146.74 1529.87 Q2146.74 1522.75 2144.92 1519.2 Q2143.11 1515.64 2139.48 1515.64 M2139.48 1511.93 Q2145.29 1511.93 2148.34 1516.54 Q2151.42 1521.12 2151.42 1529.87 Q2151.42 1538.6 2148.34 1543.21 Q2145.29 1547.79 2139.48 1547.79 Q2133.67 1547.79 2130.59 1543.21 Q2127.53 1538.6 2127.53 1529.87 Q2127.53 1521.12 2130.59 1516.54 Q2133.67 1511.93 2139.48 1511.93 Z\" fill=\"#000000\" fill-rule=\"evenodd\" fill-opacity=\"1\" /><polyline clip-path=\"url(#clip902)\" style=\"stroke:#000000; stroke-linecap:butt; stroke-linejoin:round; stroke-width:2; stroke-opacity:0.1; fill:none\" points=\"\n",
       "  148.057,1414.78 2352.76,1414.78 \n",
       "  \"/>\n",
       "<polyline clip-path=\"url(#clip902)\" style=\"stroke:#000000; stroke-linecap:butt; stroke-linejoin:round; stroke-width:2; stroke-opacity:0.1; fill:none\" points=\"\n",
       "  148.057,1196.3 2352.76,1196.3 \n",
       "  \"/>\n",
       "<polyline clip-path=\"url(#clip902)\" style=\"stroke:#000000; stroke-linecap:butt; stroke-linejoin:round; stroke-width:2; stroke-opacity:0.1; fill:none\" points=\"\n",
       "  148.057,977.825 2352.76,977.825 \n",
       "  \"/>\n",
       "<polyline clip-path=\"url(#clip902)\" style=\"stroke:#000000; stroke-linecap:butt; stroke-linejoin:round; stroke-width:2; stroke-opacity:0.1; fill:none\" points=\"\n",
       "  148.057,759.347 2352.76,759.347 \n",
       "  \"/>\n",
       "<polyline clip-path=\"url(#clip902)\" style=\"stroke:#000000; stroke-linecap:butt; stroke-linejoin:round; stroke-width:2; stroke-opacity:0.1; fill:none\" points=\"\n",
       "  148.057,540.869 2352.76,540.869 \n",
       "  \"/>\n",
       "<polyline clip-path=\"url(#clip902)\" style=\"stroke:#000000; stroke-linecap:butt; stroke-linejoin:round; stroke-width:2; stroke-opacity:0.1; fill:none\" points=\"\n",
       "  148.057,322.39 2352.76,322.39 \n",
       "  \"/>\n",
       "<polyline clip-path=\"url(#clip902)\" style=\"stroke:#000000; stroke-linecap:butt; stroke-linejoin:round; stroke-width:2; stroke-opacity:0.1; fill:none\" points=\"\n",
       "  148.057,103.912 2352.76,103.912 \n",
       "  \"/>\n",
       "<polyline clip-path=\"url(#clip900)\" style=\"stroke:#000000; stroke-linecap:butt; stroke-linejoin:round; stroke-width:4; stroke-opacity:1; fill:none\" points=\"\n",
       "  148.057,1486.45 148.057,47.2441 \n",
       "  \"/>\n",
       "<polyline clip-path=\"url(#clip900)\" style=\"stroke:#000000; stroke-linecap:butt; stroke-linejoin:round; stroke-width:4; stroke-opacity:1; fill:none\" points=\"\n",
       "  148.057,1414.78 174.513,1414.78 \n",
       "  \"/>\n",
       "<polyline clip-path=\"url(#clip900)\" style=\"stroke:#000000; stroke-linecap:butt; stroke-linejoin:round; stroke-width:4; stroke-opacity:1; fill:none\" points=\"\n",
       "  148.057,1196.3 174.513,1196.3 \n",
       "  \"/>\n",
       "<polyline clip-path=\"url(#clip900)\" style=\"stroke:#000000; stroke-linecap:butt; stroke-linejoin:round; stroke-width:4; stroke-opacity:1; fill:none\" points=\"\n",
       "  148.057,977.825 174.513,977.825 \n",
       "  \"/>\n",
       "<polyline clip-path=\"url(#clip900)\" style=\"stroke:#000000; stroke-linecap:butt; stroke-linejoin:round; stroke-width:4; stroke-opacity:1; fill:none\" points=\"\n",
       "  148.057,759.347 174.513,759.347 \n",
       "  \"/>\n",
       "<polyline clip-path=\"url(#clip900)\" style=\"stroke:#000000; stroke-linecap:butt; stroke-linejoin:round; stroke-width:4; stroke-opacity:1; fill:none\" points=\"\n",
       "  148.057,540.869 174.513,540.869 \n",
       "  \"/>\n",
       "<polyline clip-path=\"url(#clip900)\" style=\"stroke:#000000; stroke-linecap:butt; stroke-linejoin:round; stroke-width:4; stroke-opacity:1; fill:none\" points=\"\n",
       "  148.057,322.39 174.513,322.39 \n",
       "  \"/>\n",
       "<polyline clip-path=\"url(#clip900)\" style=\"stroke:#000000; stroke-linecap:butt; stroke-linejoin:round; stroke-width:4; stroke-opacity:1; fill:none\" points=\"\n",
       "  148.057,103.912 174.513,103.912 \n",
       "  \"/>\n",
       "<path clip-path=\"url(#clip900)\" d=\"M50.9921 1415.23 L80.6679 1415.23 L80.6679 1419.17 L50.9921 1419.17 L50.9921 1415.23 Z\" fill=\"#000000\" fill-rule=\"evenodd\" fill-opacity=\"1\" /><path clip-path=\"url(#clip900)\" d=\"M104.927 1413.43 Q108.283 1414.14 110.158 1416.41 Q112.057 1418.68 112.057 1422.01 Q112.057 1427.13 108.538 1429.93 Q105.02 1432.73 98.5382 1432.73 Q96.3623 1432.73 94.0475 1432.29 Q91.7558 1431.88 89.3021 1431.02 L89.3021 1426.51 Q91.2465 1427.64 93.5613 1428.22 Q95.8761 1428.8 98.3993 1428.8 Q102.797 1428.8 105.089 1427.06 Q107.404 1425.32 107.404 1422.01 Q107.404 1418.96 105.251 1417.25 Q103.121 1415.51 99.3021 1415.51 L95.2743 1415.51 L95.2743 1411.67 L99.4872 1411.67 Q102.936 1411.67 104.765 1410.3 Q106.594 1408.91 106.594 1406.32 Q106.594 1403.66 104.696 1402.25 Q102.821 1400.81 99.3021 1400.81 Q97.3808 1400.81 95.1817 1401.23 Q92.9826 1401.64 90.3438 1402.52 L90.3438 1398.36 Q93.0058 1397.62 95.3206 1397.25 Q97.6585 1396.88 99.7187 1396.88 Q105.043 1396.88 108.145 1399.31 Q111.246 1401.71 111.246 1405.83 Q111.246 1408.7 109.603 1410.7 Q107.959 1412.66 104.927 1413.43 Z\" fill=\"#000000\" fill-rule=\"evenodd\" fill-opacity=\"1\" /><path clip-path=\"url(#clip900)\" d=\"M51.9412 1196.75 L81.617 1196.75 L81.617 1200.69 L51.9412 1200.69 L51.9412 1196.75 Z\" fill=\"#000000\" fill-rule=\"evenodd\" fill-opacity=\"1\" /><path clip-path=\"url(#clip900)\" d=\"M95.7373 1209.65 L112.057 1209.65 L112.057 1213.58 L90.1123 1213.58 L90.1123 1209.65 Q92.7743 1206.89 97.3576 1202.26 Q101.964 1197.61 103.145 1196.27 Q105.39 1193.74 106.27 1192.01 Q107.172 1190.25 107.172 1188.56 Q107.172 1185.81 105.228 1184.07 Q103.307 1182.33 100.205 1182.33 Q98.0058 1182.33 95.5521 1183.1 Q93.1215 1183.86 90.3438 1185.41 L90.3438 1180.69 Q93.1678 1179.56 95.6215 1178.98 Q98.0752 1178.4 100.112 1178.4 Q105.483 1178.4 108.677 1181.08 Q111.871 1183.77 111.871 1188.26 Q111.871 1190.39 111.061 1192.31 Q110.274 1194.21 108.168 1196.8 Q107.589 1197.47 104.487 1200.69 Q101.385 1203.88 95.7373 1209.65 Z\" fill=\"#000000\" fill-rule=\"evenodd\" fill-opacity=\"1\" /><path clip-path=\"url(#clip900)\" d=\"M51.5708 978.276 L81.2466 978.276 L81.2466 982.211 L51.5708 982.211 L51.5708 978.276 Z\" fill=\"#000000\" fill-rule=\"evenodd\" fill-opacity=\"1\" /><path clip-path=\"url(#clip900)\" d=\"M92.1493 991.169 L99.7882 991.169 L99.7882 964.804 L91.478 966.471 L91.478 962.211 L99.7419 960.545 L104.418 960.545 L104.418 991.169 L112.057 991.169 L112.057 995.105 L92.1493 995.105 L92.1493 991.169 Z\" fill=\"#000000\" fill-rule=\"evenodd\" fill-opacity=\"1\" /><path clip-path=\"url(#clip900)\" d=\"M100.112 745.145 Q96.5011 745.145 94.6724 748.71 Q92.8669 752.252 92.8669 759.381 Q92.8669 766.488 94.6724 770.053 Q96.5011 773.594 100.112 773.594 Q103.746 773.594 105.552 770.053 Q107.381 766.488 107.381 759.381 Q107.381 752.252 105.552 748.71 Q103.746 745.145 100.112 745.145 M100.112 741.442 Q105.922 741.442 108.978 746.048 Q112.057 750.631 112.057 759.381 Q112.057 768.108 108.978 772.715 Q105.922 777.298 100.112 777.298 Q94.3021 777.298 91.2234 772.715 Q88.1679 768.108 88.1679 759.381 Q88.1679 750.631 91.2234 746.048 Q94.3021 741.442 100.112 741.442 Z\" fill=\"#000000\" fill-rule=\"evenodd\" fill-opacity=\"1\" /><path clip-path=\"url(#clip900)\" d=\"M92.1493 554.213 L99.7882 554.213 L99.7882 527.848 L91.478 529.514 L91.478 525.255 L99.7419 523.589 L104.418 523.589 L104.418 554.213 L112.057 554.213 L112.057 558.149 L92.1493 558.149 L92.1493 554.213 Z\" fill=\"#000000\" fill-rule=\"evenodd\" fill-opacity=\"1\" /><path clip-path=\"url(#clip900)\" d=\"M95.7373 335.735 L112.057 335.735 L112.057 339.67 L90.1123 339.67 L90.1123 335.735 Q92.7743 332.981 97.3576 328.351 Q101.964 323.698 103.145 322.356 Q105.39 319.833 106.27 318.096 Q107.172 316.337 107.172 314.647 Q107.172 311.893 105.228 310.157 Q103.307 308.421 100.205 308.421 Q98.0058 308.421 95.5521 309.184 Q93.1215 309.948 90.3438 311.499 L90.3438 306.777 Q93.1678 305.643 95.6215 305.064 Q98.0752 304.485 100.112 304.485 Q105.483 304.485 108.677 307.171 Q111.871 309.856 111.871 314.346 Q111.871 316.476 111.061 318.397 Q110.274 320.296 108.168 322.888 Q107.589 323.559 104.487 326.777 Q101.385 329.971 95.7373 335.735 Z\" fill=\"#000000\" fill-rule=\"evenodd\" fill-opacity=\"1\" /><path clip-path=\"url(#clip900)\" d=\"M104.927 102.558 Q108.283 103.276 110.158 105.544 Q112.057 107.813 112.057 111.146 Q112.057 116.262 108.538 119.063 Q105.02 121.864 98.5382 121.864 Q96.3623 121.864 94.0475 121.424 Q91.7558 121.007 89.3021 120.151 L89.3021 115.637 Q91.2465 116.771 93.5613 117.35 Q95.8761 117.928 98.3993 117.928 Q102.797 117.928 105.089 116.192 Q107.404 114.456 107.404 111.146 Q107.404 108.091 105.251 106.378 Q103.121 104.642 99.3021 104.642 L95.2743 104.642 L95.2743 100.799 L99.4872 100.799 Q102.936 100.799 104.765 99.4332 Q106.594 98.0443 106.594 95.4518 Q106.594 92.7897 104.696 91.3777 Q102.821 89.9425 99.3021 89.9425 Q97.3808 89.9425 95.1817 90.3592 Q92.9826 90.7759 90.3438 91.6555 L90.3438 87.4888 Q93.0058 86.7481 95.3206 86.3777 Q97.6585 86.0074 99.7187 86.0074 Q105.043 86.0074 108.145 88.4379 Q111.246 90.8453 111.246 94.9656 Q111.246 97.836 109.603 99.8267 Q107.959 101.794 104.927 102.558 Z\" fill=\"#000000\" fill-rule=\"evenodd\" fill-opacity=\"1\" /><polyline clip-path=\"url(#clip902)\" style=\"stroke:#009af9; stroke-linecap:butt; stroke-linejoin:round; stroke-width:4; stroke-opacity:1; fill:none\" points=\"\n",
       "  210.454,759.347 326.004,759.347 441.554,92.8738 557.105,208.113 672.655,418.665 788.205,688.125 903.755,969.899 1019.31,1215.27 1134.86,1381.8 1250.41,1440.71 \n",
       "  1365.96,1381.8 1481.51,1215.27 1597.06,969.899 1712.61,688.125 1828.16,418.665 1943.71,208.113 2059.26,92.8738 2174.81,759.347 2290.36,759.347 \n",
       "  \"/>\n",
       "<circle clip-path=\"url(#clip902)\" cx=\"210.454\" cy=\"759.347\" r=\"14\" fill=\"#009af9\" fill-rule=\"evenodd\" fill-opacity=\"1\" stroke=\"#000000\" stroke-opacity=\"1\" stroke-width=\"3.2\"/>\n",
       "<circle clip-path=\"url(#clip902)\" cx=\"326.004\" cy=\"759.347\" r=\"14\" fill=\"#009af9\" fill-rule=\"evenodd\" fill-opacity=\"1\" stroke=\"#000000\" stroke-opacity=\"1\" stroke-width=\"3.2\"/>\n",
       "<circle clip-path=\"url(#clip902)\" cx=\"441.554\" cy=\"92.8738\" r=\"14\" fill=\"#009af9\" fill-rule=\"evenodd\" fill-opacity=\"1\" stroke=\"#000000\" stroke-opacity=\"1\" stroke-width=\"3.2\"/>\n",
       "<circle clip-path=\"url(#clip902)\" cx=\"557.105\" cy=\"208.113\" r=\"14\" fill=\"#009af9\" fill-rule=\"evenodd\" fill-opacity=\"1\" stroke=\"#000000\" stroke-opacity=\"1\" stroke-width=\"3.2\"/>\n",
       "<circle clip-path=\"url(#clip902)\" cx=\"672.655\" cy=\"418.665\" r=\"14\" fill=\"#009af9\" fill-rule=\"evenodd\" fill-opacity=\"1\" stroke=\"#000000\" stroke-opacity=\"1\" stroke-width=\"3.2\"/>\n",
       "<circle clip-path=\"url(#clip902)\" cx=\"788.205\" cy=\"688.125\" r=\"14\" fill=\"#009af9\" fill-rule=\"evenodd\" fill-opacity=\"1\" stroke=\"#000000\" stroke-opacity=\"1\" stroke-width=\"3.2\"/>\n",
       "<circle clip-path=\"url(#clip902)\" cx=\"903.755\" cy=\"969.899\" r=\"14\" fill=\"#009af9\" fill-rule=\"evenodd\" fill-opacity=\"1\" stroke=\"#000000\" stroke-opacity=\"1\" stroke-width=\"3.2\"/>\n",
       "<circle clip-path=\"url(#clip902)\" cx=\"1019.31\" cy=\"1215.27\" r=\"14\" fill=\"#009af9\" fill-rule=\"evenodd\" fill-opacity=\"1\" stroke=\"#000000\" stroke-opacity=\"1\" stroke-width=\"3.2\"/>\n",
       "<circle clip-path=\"url(#clip902)\" cx=\"1134.86\" cy=\"1381.8\" r=\"14\" fill=\"#009af9\" fill-rule=\"evenodd\" fill-opacity=\"1\" stroke=\"#000000\" stroke-opacity=\"1\" stroke-width=\"3.2\"/>\n",
       "<circle clip-path=\"url(#clip902)\" cx=\"1250.41\" cy=\"1440.71\" r=\"14\" fill=\"#009af9\" fill-rule=\"evenodd\" fill-opacity=\"1\" stroke=\"#000000\" stroke-opacity=\"1\" stroke-width=\"3.2\"/>\n",
       "<circle clip-path=\"url(#clip902)\" cx=\"1365.96\" cy=\"1381.8\" r=\"14\" fill=\"#009af9\" fill-rule=\"evenodd\" fill-opacity=\"1\" stroke=\"#000000\" stroke-opacity=\"1\" stroke-width=\"3.2\"/>\n",
       "<circle clip-path=\"url(#clip902)\" cx=\"1481.51\" cy=\"1215.27\" r=\"14\" fill=\"#009af9\" fill-rule=\"evenodd\" fill-opacity=\"1\" stroke=\"#000000\" stroke-opacity=\"1\" stroke-width=\"3.2\"/>\n",
       "<circle clip-path=\"url(#clip902)\" cx=\"1597.06\" cy=\"969.899\" r=\"14\" fill=\"#009af9\" fill-rule=\"evenodd\" fill-opacity=\"1\" stroke=\"#000000\" stroke-opacity=\"1\" stroke-width=\"3.2\"/>\n",
       "<circle clip-path=\"url(#clip902)\" cx=\"1712.61\" cy=\"688.125\" r=\"14\" fill=\"#009af9\" fill-rule=\"evenodd\" fill-opacity=\"1\" stroke=\"#000000\" stroke-opacity=\"1\" stroke-width=\"3.2\"/>\n",
       "<circle clip-path=\"url(#clip902)\" cx=\"1828.16\" cy=\"418.665\" r=\"14\" fill=\"#009af9\" fill-rule=\"evenodd\" fill-opacity=\"1\" stroke=\"#000000\" stroke-opacity=\"1\" stroke-width=\"3.2\"/>\n",
       "<circle clip-path=\"url(#clip902)\" cx=\"1943.71\" cy=\"208.113\" r=\"14\" fill=\"#009af9\" fill-rule=\"evenodd\" fill-opacity=\"1\" stroke=\"#000000\" stroke-opacity=\"1\" stroke-width=\"3.2\"/>\n",
       "<circle clip-path=\"url(#clip902)\" cx=\"2059.26\" cy=\"92.8738\" r=\"14\" fill=\"#009af9\" fill-rule=\"evenodd\" fill-opacity=\"1\" stroke=\"#000000\" stroke-opacity=\"1\" stroke-width=\"3.2\"/>\n",
       "<circle clip-path=\"url(#clip902)\" cx=\"2174.81\" cy=\"759.347\" r=\"14\" fill=\"#009af9\" fill-rule=\"evenodd\" fill-opacity=\"1\" stroke=\"#000000\" stroke-opacity=\"1\" stroke-width=\"3.2\"/>\n",
       "<circle clip-path=\"url(#clip902)\" cx=\"2290.36\" cy=\"759.347\" r=\"14\" fill=\"#009af9\" fill-rule=\"evenodd\" fill-opacity=\"1\" stroke=\"#000000\" stroke-opacity=\"1\" stroke-width=\"3.2\"/>\n",
       "<polyline clip-path=\"url(#clip902)\" style=\"stroke:#e26f46; stroke-linecap:butt; stroke-linejoin:round; stroke-width:4; stroke-opacity:1; fill:none\" points=\"\n",
       "  441.554,87.9763 557.105,204.062 672.655,416.162 788.205,687.601 903.755,971.446 1019.31,1218.62 1134.86,1386.38 1250.41,1445.72 1365.96,1386.38 1481.51,1218.62 \n",
       "  1597.06,971.446 1712.61,687.601 1828.16,416.162 1943.71,204.062 2059.26,87.9763 \n",
       "  \"/>\n",
       "<path clip-path=\"url(#clip900)\" d=\"\n",
       "M1981.87 276.658 L2279.27 276.658 L2279.27 95.2176 L1981.87 95.2176  Z\n",
       "  \" fill=\"#ffffff\" fill-rule=\"evenodd\" fill-opacity=\"1\"/>\n",
       "<polyline clip-path=\"url(#clip900)\" style=\"stroke:#000000; stroke-linecap:butt; stroke-linejoin:round; stroke-width:4; stroke-opacity:1; fill:none\" points=\"\n",
       "  1981.87,276.658 2279.27,276.658 2279.27,95.2176 1981.87,95.2176 1981.87,276.658 \n",
       "  \"/>\n",
       "<polyline clip-path=\"url(#clip900)\" style=\"stroke:#009af9; stroke-linecap:butt; stroke-linejoin:round; stroke-width:4; stroke-opacity:1; fill:none\" points=\"\n",
       "  2006.37,155.698 2153.35,155.698 \n",
       "  \"/>\n",
       "<circle clip-path=\"url(#clip900)\" cx=\"2079.86\" cy=\"155.698\" r=\"23\" fill=\"#009af9\" fill-rule=\"evenodd\" fill-opacity=\"1\" stroke=\"#000000\" stroke-opacity=\"1\" stroke-width=\"5.12\"/>\n",
       "<path clip-path=\"url(#clip900)\" d=\"M2191.68 175.385 Q2189.88 180.015 2188.17 181.427 Q2186.45 182.839 2183.58 182.839 L2180.18 182.839 L2180.18 179.274 L2182.68 179.274 Q2184.44 179.274 2185.41 178.44 Q2186.38 177.607 2187.56 174.505 L2188.33 172.561 L2177.84 147.052 L2182.36 147.052 L2190.46 167.329 L2198.56 147.052 L2203.07 147.052 L2191.68 175.385 Z\" fill=\"#000000\" fill-rule=\"evenodd\" fill-opacity=\"1\" /><path clip-path=\"url(#clip900)\" d=\"M2210.37 169.042 L2218 169.042 L2218 142.677 L2209.69 144.343 L2209.69 140.084 L2217.96 138.418 L2222.63 138.418 L2222.63 169.042 L2230.27 169.042 L2230.27 172.978 L2210.37 172.978 L2210.37 169.042 Z\" fill=\"#000000\" fill-rule=\"evenodd\" fill-opacity=\"1\" /><polyline clip-path=\"url(#clip900)\" style=\"stroke:#e26f46; stroke-linecap:butt; stroke-linejoin:round; stroke-width:4; stroke-opacity:1; fill:none\" points=\"\n",
       "  2006.37,216.178 2153.35,216.178 \n",
       "  \"/>\n",
       "<path clip-path=\"url(#clip900)\" d=\"M2191.68 235.865 Q2189.88 240.495 2188.17 241.907 Q2186.45 243.319 2183.58 243.319 L2180.18 243.319 L2180.18 239.754 L2182.68 239.754 Q2184.44 239.754 2185.41 238.92 Q2186.38 238.087 2187.56 234.985 L2188.33 233.041 L2177.84 207.532 L2182.36 207.532 L2190.46 227.809 L2198.56 207.532 L2203.07 207.532 L2191.68 235.865 Z\" fill=\"#000000\" fill-rule=\"evenodd\" fill-opacity=\"1\" /><path clip-path=\"url(#clip900)\" d=\"M2213.58 229.522 L2229.9 229.522 L2229.9 233.458 L2207.96 233.458 L2207.96 229.522 Q2210.62 226.768 2215.2 222.138 Q2219.81 217.485 2220.99 216.143 Q2223.24 213.62 2224.12 211.884 Q2225.02 210.124 2225.02 208.435 Q2225.02 205.68 2223.07 203.944 Q2221.15 202.208 2218.05 202.208 Q2215.85 202.208 2213.4 202.972 Q2210.97 203.735 2208.19 205.286 L2208.19 200.564 Q2211.01 199.43 2213.47 198.851 Q2215.92 198.273 2217.96 198.273 Q2223.33 198.273 2226.52 200.958 Q2229.72 203.643 2229.72 208.134 Q2229.72 210.263 2228.91 212.185 Q2228.12 214.083 2226.01 216.675 Q2225.43 217.347 2222.33 220.564 Q2219.23 223.759 2213.58 229.522 Z\" fill=\"#000000\" fill-rule=\"evenodd\" fill-opacity=\"1\" /></svg>\n"
      ]
     },
     "execution_count": 38,
     "metadata": {},
     "output_type": "execute_result"
    }
   ],
   "source": [
    "plot(∂u, marker=:circle)\n",
    "plot!(xᶜ[1:n], ∂udata_theoretical[1:n])"
   ]
  },
  {
   "cell_type": "code",
   "execution_count": 39,
   "id": "4ea3224b-9cf6-4081-ad0f-cb4976da1a24",
   "metadata": {},
   "outputs": [
    {
     "data": {
      "image/svg+xml": [
       "<?xml version=\"1.0\" encoding=\"utf-8\"?>\n",
       "<svg xmlns=\"http://www.w3.org/2000/svg\" xmlns:xlink=\"http://www.w3.org/1999/xlink\" width=\"600\" height=\"400\" viewBox=\"0 0 2400 1600\">\n",
       "<defs>\n",
       "  <clipPath id=\"clip940\">\n",
       "    <rect x=\"0\" y=\"0\" width=\"2400\" height=\"1600\"/>\n",
       "  </clipPath>\n",
       "</defs>\n",
       "<path clip-path=\"url(#clip940)\" d=\"\n",
       "M0 1600 L2400 1600 L2400 0 L0 0  Z\n",
       "  \" fill=\"#ffffff\" fill-rule=\"evenodd\" fill-opacity=\"1\"/>\n",
       "<defs>\n",
       "  <clipPath id=\"clip941\">\n",
       "    <rect x=\"480\" y=\"0\" width=\"1681\" height=\"1600\"/>\n",
       "  </clipPath>\n",
       "</defs>\n",
       "<path clip-path=\"url(#clip940)\" d=\"\n",
       "M193.936 1486.45 L2352.76 1486.45 L2352.76 47.2441 L193.936 47.2441  Z\n",
       "  \" fill=\"#ffffff\" fill-rule=\"evenodd\" fill-opacity=\"1\"/>\n",
       "<defs>\n",
       "  <clipPath id=\"clip942\">\n",
       "    <rect x=\"193\" y=\"47\" width=\"2160\" height=\"1440\"/>\n",
       "  </clipPath>\n",
       "</defs>\n",
       "<polyline clip-path=\"url(#clip942)\" style=\"stroke:#000000; stroke-linecap:butt; stroke-linejoin:round; stroke-width:2; stroke-opacity:0.1; fill:none\" points=\"\n",
       "  481.326,1486.45 481.326,47.2441 \n",
       "  \"/>\n",
       "<polyline clip-path=\"url(#clip942)\" style=\"stroke:#000000; stroke-linecap:butt; stroke-linejoin:round; stroke-width:2; stroke-opacity:0.1; fill:none\" points=\"\n",
       "  905.622,1486.45 905.622,47.2441 \n",
       "  \"/>\n",
       "<polyline clip-path=\"url(#clip942)\" style=\"stroke:#000000; stroke-linecap:butt; stroke-linejoin:round; stroke-width:2; stroke-opacity:0.1; fill:none\" points=\"\n",
       "  1329.92,1486.45 1329.92,47.2441 \n",
       "  \"/>\n",
       "<polyline clip-path=\"url(#clip942)\" style=\"stroke:#000000; stroke-linecap:butt; stroke-linejoin:round; stroke-width:2; stroke-opacity:0.1; fill:none\" points=\"\n",
       "  1754.22,1486.45 1754.22,47.2441 \n",
       "  \"/>\n",
       "<polyline clip-path=\"url(#clip942)\" style=\"stroke:#000000; stroke-linecap:butt; stroke-linejoin:round; stroke-width:2; stroke-opacity:0.1; fill:none\" points=\"\n",
       "  2178.51,1486.45 2178.51,47.2441 \n",
       "  \"/>\n",
       "<polyline clip-path=\"url(#clip940)\" style=\"stroke:#000000; stroke-linecap:butt; stroke-linejoin:round; stroke-width:4; stroke-opacity:1; fill:none\" points=\"\n",
       "  193.936,1486.45 2352.76,1486.45 \n",
       "  \"/>\n",
       "<polyline clip-path=\"url(#clip940)\" style=\"stroke:#000000; stroke-linecap:butt; stroke-linejoin:round; stroke-width:4; stroke-opacity:1; fill:none\" points=\"\n",
       "  481.326,1486.45 481.326,1469.18 \n",
       "  \"/>\n",
       "<polyline clip-path=\"url(#clip940)\" style=\"stroke:#000000; stroke-linecap:butt; stroke-linejoin:round; stroke-width:4; stroke-opacity:1; fill:none\" points=\"\n",
       "  905.622,1486.45 905.622,1469.18 \n",
       "  \"/>\n",
       "<polyline clip-path=\"url(#clip940)\" style=\"stroke:#000000; stroke-linecap:butt; stroke-linejoin:round; stroke-width:4; stroke-opacity:1; fill:none\" points=\"\n",
       "  1329.92,1486.45 1329.92,1469.18 \n",
       "  \"/>\n",
       "<polyline clip-path=\"url(#clip940)\" style=\"stroke:#000000; stroke-linecap:butt; stroke-linejoin:round; stroke-width:4; stroke-opacity:1; fill:none\" points=\"\n",
       "  1754.22,1486.45 1754.22,1469.18 \n",
       "  \"/>\n",
       "<polyline clip-path=\"url(#clip940)\" style=\"stroke:#000000; stroke-linecap:butt; stroke-linejoin:round; stroke-width:4; stroke-opacity:1; fill:none\" points=\"\n",
       "  2178.51,1486.45 2178.51,1469.18 \n",
       "  \"/>\n",
       "<path clip-path=\"url(#clip940)\" d=\"M458.71 1515.64 Q455.099 1515.64 453.271 1519.2 Q451.465 1522.75 451.465 1529.87 Q451.465 1536.98 453.271 1540.55 Q455.099 1544.09 458.71 1544.09 Q462.345 1544.09 464.15 1540.55 Q465.979 1536.98 465.979 1529.87 Q465.979 1522.75 464.15 1519.2 Q462.345 1515.64 458.71 1515.64 M458.71 1511.93 Q464.521 1511.93 467.576 1516.54 Q470.655 1521.12 470.655 1529.87 Q470.655 1538.6 467.576 1543.21 Q464.521 1547.79 458.71 1547.79 Q452.9 1547.79 449.822 1543.21 Q446.766 1538.6 446.766 1529.87 Q446.766 1521.12 449.822 1516.54 Q452.9 1511.93 458.71 1511.93 Z\" fill=\"#000000\" fill-rule=\"evenodd\" fill-opacity=\"1\" /><path clip-path=\"url(#clip940)\" d=\"M478.872 1541.24 L483.757 1541.24 L483.757 1547.12 L478.872 1547.12 L478.872 1541.24 Z\" fill=\"#000000\" fill-rule=\"evenodd\" fill-opacity=\"1\" /><path clip-path=\"url(#clip940)\" d=\"M503.942 1515.64 Q500.331 1515.64 498.502 1519.2 Q496.696 1522.75 496.696 1529.87 Q496.696 1536.98 498.502 1540.55 Q500.331 1544.09 503.942 1544.09 Q507.576 1544.09 509.381 1540.55 Q511.21 1536.98 511.21 1529.87 Q511.21 1522.75 509.381 1519.2 Q507.576 1515.64 503.942 1515.64 M503.942 1511.93 Q509.752 1511.93 512.807 1516.54 Q515.886 1521.12 515.886 1529.87 Q515.886 1538.6 512.807 1543.21 Q509.752 1547.79 503.942 1547.79 Q498.132 1547.79 495.053 1543.21 Q491.997 1538.6 491.997 1529.87 Q491.997 1521.12 495.053 1516.54 Q498.132 1511.93 503.942 1511.93 Z\" fill=\"#000000\" fill-rule=\"evenodd\" fill-opacity=\"1\" /><path clip-path=\"url(#clip940)\" d=\"M883.504 1515.64 Q879.893 1515.64 878.065 1519.2 Q876.259 1522.75 876.259 1529.87 Q876.259 1536.98 878.065 1540.55 Q879.893 1544.09 883.504 1544.09 Q887.139 1544.09 888.944 1540.55 Q890.773 1536.98 890.773 1529.87 Q890.773 1522.75 888.944 1519.2 Q887.139 1515.64 883.504 1515.64 M883.504 1511.93 Q889.315 1511.93 892.37 1516.54 Q895.449 1521.12 895.449 1529.87 Q895.449 1538.6 892.37 1543.21 Q889.315 1547.79 883.504 1547.79 Q877.694 1547.79 874.616 1543.21 Q871.56 1538.6 871.56 1529.87 Q871.56 1521.12 874.616 1516.54 Q877.694 1511.93 883.504 1511.93 Z\" fill=\"#000000\" fill-rule=\"evenodd\" fill-opacity=\"1\" /><path clip-path=\"url(#clip940)\" d=\"M903.666 1541.24 L908.551 1541.24 L908.551 1547.12 L903.666 1547.12 L903.666 1541.24 Z\" fill=\"#000000\" fill-rule=\"evenodd\" fill-opacity=\"1\" /><path clip-path=\"url(#clip940)\" d=\"M918.782 1512.56 L937.138 1512.56 L937.138 1516.5 L923.064 1516.5 L923.064 1524.97 Q924.083 1524.62 925.101 1524.46 Q926.12 1524.27 927.139 1524.27 Q932.926 1524.27 936.305 1527.44 Q939.685 1530.62 939.685 1536.03 Q939.685 1541.61 936.213 1544.71 Q932.74 1547.79 926.421 1547.79 Q924.245 1547.79 921.977 1547.42 Q919.731 1547.05 917.324 1546.31 L917.324 1541.61 Q919.407 1542.74 921.629 1543.3 Q923.852 1543.86 926.328 1543.86 Q930.333 1543.86 932.671 1541.75 Q935.009 1539.64 935.009 1536.03 Q935.009 1532.42 932.671 1530.31 Q930.333 1528.21 926.328 1528.21 Q924.453 1528.21 922.578 1528.62 Q920.727 1529.04 918.782 1529.92 L918.782 1512.56 Z\" fill=\"#000000\" fill-rule=\"evenodd\" fill-opacity=\"1\" /><path clip-path=\"url(#clip940)\" d=\"M1297.07 1543.18 L1304.71 1543.18 L1304.71 1516.82 L1296.4 1518.49 L1296.4 1514.23 L1304.66 1512.56 L1309.34 1512.56 L1309.34 1543.18 L1316.98 1543.18 L1316.98 1547.12 L1297.07 1547.12 L1297.07 1543.18 Z\" fill=\"#000000\" fill-rule=\"evenodd\" fill-opacity=\"1\" /><path clip-path=\"url(#clip940)\" d=\"M1326.42 1541.24 L1331.31 1541.24 L1331.31 1547.12 L1326.42 1547.12 L1326.42 1541.24 Z\" fill=\"#000000\" fill-rule=\"evenodd\" fill-opacity=\"1\" /><path clip-path=\"url(#clip940)\" d=\"M1351.49 1515.64 Q1347.88 1515.64 1346.05 1519.2 Q1344.25 1522.75 1344.25 1529.87 Q1344.25 1536.98 1346.05 1540.55 Q1347.88 1544.09 1351.49 1544.09 Q1355.13 1544.09 1356.93 1540.55 Q1358.76 1536.98 1358.76 1529.87 Q1358.76 1522.75 1356.93 1519.2 Q1355.13 1515.64 1351.49 1515.64 M1351.49 1511.93 Q1357.3 1511.93 1360.36 1516.54 Q1363.44 1521.12 1363.44 1529.87 Q1363.44 1538.6 1360.36 1543.21 Q1357.3 1547.79 1351.49 1547.79 Q1345.68 1547.79 1342.6 1543.21 Q1339.55 1538.6 1339.55 1529.87 Q1339.55 1521.12 1342.6 1516.54 Q1345.68 1511.93 1351.49 1511.93 Z\" fill=\"#000000\" fill-rule=\"evenodd\" fill-opacity=\"1\" /><path clip-path=\"url(#clip940)\" d=\"M1721.87 1543.18 L1729.5 1543.18 L1729.5 1516.82 L1721.19 1518.49 L1721.19 1514.23 L1729.46 1512.56 L1734.13 1512.56 L1734.13 1543.18 L1741.77 1543.18 L1741.77 1547.12 L1721.87 1547.12 L1721.87 1543.18 Z\" fill=\"#000000\" fill-rule=\"evenodd\" fill-opacity=\"1\" /><path clip-path=\"url(#clip940)\" d=\"M1751.22 1541.24 L1756.1 1541.24 L1756.1 1547.12 L1751.22 1547.12 L1751.22 1541.24 Z\" fill=\"#000000\" fill-rule=\"evenodd\" fill-opacity=\"1\" /><path clip-path=\"url(#clip940)\" d=\"M1766.33 1512.56 L1784.69 1512.56 L1784.69 1516.5 L1770.62 1516.5 L1770.62 1524.97 Q1771.63 1524.62 1772.65 1524.46 Q1773.67 1524.27 1774.69 1524.27 Q1780.48 1524.27 1783.86 1527.44 Q1787.24 1530.62 1787.24 1536.03 Q1787.24 1541.61 1783.76 1544.71 Q1780.29 1547.79 1773.97 1547.79 Q1771.8 1547.79 1769.53 1547.42 Q1767.28 1547.05 1764.87 1546.31 L1764.87 1541.61 Q1766.96 1542.74 1769.18 1543.3 Q1771.4 1543.86 1773.88 1543.86 Q1777.88 1543.86 1780.22 1541.75 Q1782.56 1539.64 1782.56 1536.03 Q1782.56 1532.42 1780.22 1530.31 Q1777.88 1528.21 1773.88 1528.21 Q1772 1528.21 1770.13 1528.62 Q1768.28 1529.04 1766.33 1529.92 L1766.33 1512.56 Z\" fill=\"#000000\" fill-rule=\"evenodd\" fill-opacity=\"1\" /><path clip-path=\"url(#clip940)\" d=\"M2149.75 1543.18 L2166.07 1543.18 L2166.07 1547.12 L2144.13 1547.12 L2144.13 1543.18 Q2146.79 1540.43 2151.37 1535.8 Q2155.98 1531.15 2157.16 1529.81 Q2159.4 1527.28 2160.28 1525.55 Q2161.19 1523.79 2161.19 1522.1 Q2161.19 1519.34 2159.24 1517.61 Q2157.32 1515.87 2154.22 1515.87 Q2152.02 1515.87 2149.56 1516.63 Q2147.13 1517.4 2144.36 1518.95 L2144.36 1514.23 Q2147.18 1513.09 2149.63 1512.51 Q2152.09 1511.93 2154.13 1511.93 Q2159.5 1511.93 2162.69 1514.62 Q2165.88 1517.31 2165.88 1521.8 Q2165.88 1523.93 2165.07 1525.85 Q2164.29 1527.74 2162.18 1530.34 Q2161.6 1531.01 2158.5 1534.23 Q2155.4 1537.42 2149.75 1543.18 Z\" fill=\"#000000\" fill-rule=\"evenodd\" fill-opacity=\"1\" /><path clip-path=\"url(#clip940)\" d=\"M2175.88 1541.24 L2180.77 1541.24 L2180.77 1547.12 L2175.88 1547.12 L2175.88 1541.24 Z\" fill=\"#000000\" fill-rule=\"evenodd\" fill-opacity=\"1\" /><path clip-path=\"url(#clip940)\" d=\"M2200.95 1515.64 Q2197.34 1515.64 2195.51 1519.2 Q2193.71 1522.75 2193.71 1529.87 Q2193.71 1536.98 2195.51 1540.55 Q2197.34 1544.09 2200.95 1544.09 Q2204.59 1544.09 2206.39 1540.55 Q2208.22 1536.98 2208.22 1529.87 Q2208.22 1522.75 2206.39 1519.2 Q2204.59 1515.64 2200.95 1515.64 M2200.95 1511.93 Q2206.76 1511.93 2209.82 1516.54 Q2212.9 1521.12 2212.9 1529.87 Q2212.9 1538.6 2209.82 1543.21 Q2206.76 1547.79 2200.95 1547.79 Q2195.14 1547.79 2192.06 1543.21 Q2189.01 1538.6 2189.01 1529.87 Q2189.01 1521.12 2192.06 1516.54 Q2195.14 1511.93 2200.95 1511.93 Z\" fill=\"#000000\" fill-rule=\"evenodd\" fill-opacity=\"1\" /><polyline clip-path=\"url(#clip942)\" style=\"stroke:#000000; stroke-linecap:butt; stroke-linejoin:round; stroke-width:2; stroke-opacity:0.1; fill:none\" points=\"\n",
       "  193.936,1310.05 2352.76,1310.05 \n",
       "  \"/>\n",
       "<polyline clip-path=\"url(#clip942)\" style=\"stroke:#000000; stroke-linecap:butt; stroke-linejoin:round; stroke-width:2; stroke-opacity:0.1; fill:none\" points=\"\n",
       "  193.936,1038.45 2352.76,1038.45 \n",
       "  \"/>\n",
       "<polyline clip-path=\"url(#clip942)\" style=\"stroke:#000000; stroke-linecap:butt; stroke-linejoin:round; stroke-width:2; stroke-opacity:0.1; fill:none\" points=\"\n",
       "  193.936,766.846 2352.76,766.846 \n",
       "  \"/>\n",
       "<polyline clip-path=\"url(#clip942)\" style=\"stroke:#000000; stroke-linecap:butt; stroke-linejoin:round; stroke-width:2; stroke-opacity:0.1; fill:none\" points=\"\n",
       "  193.936,495.244 2352.76,495.244 \n",
       "  \"/>\n",
       "<polyline clip-path=\"url(#clip942)\" style=\"stroke:#000000; stroke-linecap:butt; stroke-linejoin:round; stroke-width:2; stroke-opacity:0.1; fill:none\" points=\"\n",
       "  193.936,223.643 2352.76,223.643 \n",
       "  \"/>\n",
       "<polyline clip-path=\"url(#clip940)\" style=\"stroke:#000000; stroke-linecap:butt; stroke-linejoin:round; stroke-width:4; stroke-opacity:1; fill:none\" points=\"\n",
       "  193.936,1486.45 193.936,47.2441 \n",
       "  \"/>\n",
       "<polyline clip-path=\"url(#clip940)\" style=\"stroke:#000000; stroke-linecap:butt; stroke-linejoin:round; stroke-width:4; stroke-opacity:1; fill:none\" points=\"\n",
       "  193.936,1310.05 219.842,1310.05 \n",
       "  \"/>\n",
       "<polyline clip-path=\"url(#clip940)\" style=\"stroke:#000000; stroke-linecap:butt; stroke-linejoin:round; stroke-width:4; stroke-opacity:1; fill:none\" points=\"\n",
       "  193.936,1038.45 219.842,1038.45 \n",
       "  \"/>\n",
       "<polyline clip-path=\"url(#clip940)\" style=\"stroke:#000000; stroke-linecap:butt; stroke-linejoin:round; stroke-width:4; stroke-opacity:1; fill:none\" points=\"\n",
       "  193.936,766.846 219.842,766.846 \n",
       "  \"/>\n",
       "<polyline clip-path=\"url(#clip940)\" style=\"stroke:#000000; stroke-linecap:butt; stroke-linejoin:round; stroke-width:4; stroke-opacity:1; fill:none\" points=\"\n",
       "  193.936,495.244 219.842,495.244 \n",
       "  \"/>\n",
       "<polyline clip-path=\"url(#clip940)\" style=\"stroke:#000000; stroke-linecap:butt; stroke-linejoin:round; stroke-width:4; stroke-opacity:1; fill:none\" points=\"\n",
       "  193.936,223.643 219.842,223.643 \n",
       "  \"/>\n",
       "<path clip-path=\"url(#clip940)\" d=\"M50.9921 1310.5 L80.6679 1310.5 L80.6679 1314.44 L50.9921 1314.44 L50.9921 1310.5 Z\" fill=\"#000000\" fill-rule=\"evenodd\" fill-opacity=\"1\" /><path clip-path=\"url(#clip940)\" d=\"M90.8067 1292.77 L109.163 1292.77 L109.163 1296.7 L95.0891 1296.7 L95.0891 1305.18 Q96.1076 1304.83 97.1261 1304.67 Q98.1447 1304.48 99.1632 1304.48 Q104.95 1304.48 108.33 1307.65 Q111.709 1310.82 111.709 1316.24 Q111.709 1321.82 108.237 1324.92 Q104.765 1328 98.4456 1328 Q96.2697 1328 94.0012 1327.63 Q91.7558 1327.26 89.3484 1326.52 L89.3484 1321.82 Q91.4317 1322.95 93.6539 1323.51 Q95.8761 1324.07 98.353 1324.07 Q102.358 1324.07 104.696 1321.96 Q107.033 1319.85 107.033 1316.24 Q107.033 1312.63 104.696 1310.52 Q102.358 1308.42 98.353 1308.42 Q96.478 1308.42 94.603 1308.83 Q92.7512 1309.25 90.8067 1310.13 L90.8067 1292.77 Z\" fill=\"#000000\" fill-rule=\"evenodd\" fill-opacity=\"1\" /><path clip-path=\"url(#clip940)\" d=\"M120.922 1321.45 L125.807 1321.45 L125.807 1327.33 L120.922 1327.33 L120.922 1321.45 Z\" fill=\"#000000\" fill-rule=\"evenodd\" fill-opacity=\"1\" /><path clip-path=\"url(#clip940)\" d=\"M145.992 1295.85 Q142.381 1295.85 140.552 1299.41 Q138.746 1302.95 138.746 1310.08 Q138.746 1317.19 140.552 1320.76 Q142.381 1324.3 145.992 1324.3 Q149.626 1324.3 151.431 1320.76 Q153.26 1317.19 153.26 1310.08 Q153.26 1302.95 151.431 1299.41 Q149.626 1295.85 145.992 1295.85 M145.992 1292.14 Q151.802 1292.14 154.857 1296.75 Q157.936 1301.33 157.936 1310.08 Q157.936 1318.81 154.857 1323.42 Q151.802 1328 145.992 1328 Q140.181 1328 137.103 1323.42 Q134.047 1318.81 134.047 1310.08 Q134.047 1301.33 137.103 1296.75 Q140.181 1292.14 145.992 1292.14 Z\" fill=\"#000000\" fill-rule=\"evenodd\" fill-opacity=\"1\" /><path clip-path=\"url(#clip940)\" d=\"M51.9875 1038.9 L81.6633 1038.9 L81.6633 1042.83 L51.9875 1042.83 L51.9875 1038.9 Z\" fill=\"#000000\" fill-rule=\"evenodd\" fill-opacity=\"1\" /><path clip-path=\"url(#clip940)\" d=\"M95.7836 1051.79 L112.103 1051.79 L112.103 1055.73 L90.1586 1055.73 L90.1586 1051.79 Q92.8206 1049.04 97.4039 1044.41 Q102.01 1039.76 103.191 1038.41 Q105.436 1035.89 106.316 1034.15 Q107.219 1032.39 107.219 1030.7 Q107.219 1027.95 105.274 1026.21 Q103.353 1024.48 100.251 1024.48 Q98.0521 1024.48 95.5984 1025.24 Q93.1678 1026.01 90.3901 1027.56 L90.3901 1022.83 Q93.2141 1021.7 95.6678 1021.12 Q98.1215 1020.54 100.159 1020.54 Q105.529 1020.54 108.723 1023.23 Q111.918 1025.91 111.918 1030.4 Q111.918 1032.53 111.108 1034.45 Q110.321 1036.35 108.214 1038.95 Q107.635 1039.62 104.534 1042.83 Q101.432 1046.03 95.7836 1051.79 Z\" fill=\"#000000\" fill-rule=\"evenodd\" fill-opacity=\"1\" /><path clip-path=\"url(#clip940)\" d=\"M121.918 1049.85 L126.802 1049.85 L126.802 1055.73 L121.918 1055.73 L121.918 1049.85 Z\" fill=\"#000000\" fill-rule=\"evenodd\" fill-opacity=\"1\" /><path clip-path=\"url(#clip940)\" d=\"M137.033 1021.17 L155.39 1021.17 L155.39 1025.1 L141.316 1025.1 L141.316 1033.57 Q142.334 1033.23 143.353 1033.07 Q144.371 1032.88 145.39 1032.88 Q151.177 1032.88 154.556 1036.05 Q157.936 1039.22 157.936 1044.64 Q157.936 1050.22 154.464 1053.32 Q150.992 1056.4 144.672 1056.4 Q142.496 1056.4 140.228 1056.03 Q137.982 1055.66 135.575 1054.92 L135.575 1050.22 Q137.658 1051.35 139.881 1051.91 Q142.103 1052.46 144.58 1052.46 Q148.584 1052.46 150.922 1050.36 Q153.26 1048.25 153.26 1044.64 Q153.26 1041.03 150.922 1038.92 Q148.584 1036.82 144.58 1036.82 Q142.705 1036.82 140.83 1037.23 Q138.978 1037.65 137.033 1038.53 L137.033 1021.17 Z\" fill=\"#000000\" fill-rule=\"evenodd\" fill-opacity=\"1\" /><path clip-path=\"url(#clip940)\" d=\"M100.76 752.645 Q97.1493 752.645 95.3206 756.209 Q93.515 759.751 93.515 766.881 Q93.515 773.987 95.3206 777.552 Q97.1493 781.094 100.76 781.094 Q104.395 781.094 106.2 777.552 Q108.029 773.987 108.029 766.881 Q108.029 759.751 106.2 756.209 Q104.395 752.645 100.76 752.645 M100.76 748.941 Q106.571 748.941 109.626 753.547 Q112.705 758.131 112.705 766.881 Q112.705 775.608 109.626 780.214 Q106.571 784.797 100.76 784.797 Q94.9502 784.797 91.8715 780.214 Q88.816 775.608 88.816 766.881 Q88.816 758.131 91.8715 753.547 Q94.9502 748.941 100.76 748.941 Z\" fill=\"#000000\" fill-rule=\"evenodd\" fill-opacity=\"1\" /><path clip-path=\"url(#clip940)\" d=\"M120.922 778.246 L125.807 778.246 L125.807 784.126 L120.922 784.126 L120.922 778.246 Z\" fill=\"#000000\" fill-rule=\"evenodd\" fill-opacity=\"1\" /><path clip-path=\"url(#clip940)\" d=\"M145.992 752.645 Q142.381 752.645 140.552 756.209 Q138.746 759.751 138.746 766.881 Q138.746 773.987 140.552 777.552 Q142.381 781.094 145.992 781.094 Q149.626 781.094 151.431 777.552 Q153.26 773.987 153.26 766.881 Q153.26 759.751 151.431 756.209 Q149.626 752.645 145.992 752.645 M145.992 748.941 Q151.802 748.941 154.857 753.547 Q157.936 758.131 157.936 766.881 Q157.936 775.608 154.857 780.214 Q151.802 784.797 145.992 784.797 Q140.181 784.797 137.103 780.214 Q134.047 775.608 134.047 766.881 Q134.047 758.131 137.103 753.547 Q140.181 748.941 145.992 748.941 Z\" fill=\"#000000\" fill-rule=\"evenodd\" fill-opacity=\"1\" /><path clip-path=\"url(#clip940)\" d=\"M95.7836 508.589 L112.103 508.589 L112.103 512.524 L90.1586 512.524 L90.1586 508.589 Q92.8206 505.835 97.4039 501.205 Q102.01 496.552 103.191 495.21 Q105.436 492.687 106.316 490.95 Q107.219 489.191 107.219 487.501 Q107.219 484.747 105.274 483.011 Q103.353 481.275 100.251 481.275 Q98.0521 481.275 95.5984 482.039 Q93.1678 482.802 90.3901 484.353 L90.3901 479.631 Q93.2141 478.497 95.6678 477.918 Q98.1215 477.339 100.159 477.339 Q105.529 477.339 108.723 480.025 Q111.918 482.71 111.918 487.201 Q111.918 489.33 111.108 491.251 Q110.321 493.15 108.214 495.742 Q107.635 496.413 104.534 499.631 Q101.432 502.825 95.7836 508.589 Z\" fill=\"#000000\" fill-rule=\"evenodd\" fill-opacity=\"1\" /><path clip-path=\"url(#clip940)\" d=\"M121.918 506.645 L126.802 506.645 L126.802 512.524 L121.918 512.524 L121.918 506.645 Z\" fill=\"#000000\" fill-rule=\"evenodd\" fill-opacity=\"1\" /><path clip-path=\"url(#clip940)\" d=\"M137.033 477.964 L155.39 477.964 L155.39 481.9 L141.316 481.9 L141.316 490.372 Q142.334 490.025 143.353 489.863 Q144.371 489.677 145.39 489.677 Q151.177 489.677 154.556 492.849 Q157.936 496.02 157.936 501.437 Q157.936 507.015 154.464 510.117 Q150.992 513.196 144.672 513.196 Q142.496 513.196 140.228 512.825 Q137.982 512.455 135.575 511.714 L135.575 507.015 Q137.658 508.149 139.881 508.705 Q142.103 509.261 144.58 509.261 Q148.584 509.261 150.922 507.154 Q153.26 505.048 153.26 501.437 Q153.26 497.825 150.922 495.719 Q148.584 493.613 144.58 493.613 Q142.705 493.613 140.83 494.029 Q138.978 494.446 137.033 495.325 L137.033 477.964 Z\" fill=\"#000000\" fill-rule=\"evenodd\" fill-opacity=\"1\" /><path clip-path=\"url(#clip940)\" d=\"M90.8067 206.363 L109.163 206.363 L109.163 210.298 L95.0891 210.298 L95.0891 218.77 Q96.1076 218.423 97.1261 218.261 Q98.1447 218.076 99.1632 218.076 Q104.95 218.076 108.33 221.247 Q111.709 224.418 111.709 229.835 Q111.709 235.414 108.237 238.516 Q104.765 241.594 98.4456 241.594 Q96.2697 241.594 94.0012 241.224 Q91.7558 240.853 89.3484 240.113 L89.3484 235.414 Q91.4317 236.548 93.6539 237.103 Q95.8761 237.659 98.353 237.659 Q102.358 237.659 104.696 235.553 Q107.033 233.446 107.033 229.835 Q107.033 226.224 104.696 224.117 Q102.358 222.011 98.353 222.011 Q96.478 222.011 94.603 222.428 Q92.7512 222.844 90.8067 223.724 L90.8067 206.363 Z\" fill=\"#000000\" fill-rule=\"evenodd\" fill-opacity=\"1\" /><path clip-path=\"url(#clip940)\" d=\"M120.922 235.043 L125.807 235.043 L125.807 240.923 L120.922 240.923 L120.922 235.043 Z\" fill=\"#000000\" fill-rule=\"evenodd\" fill-opacity=\"1\" /><path clip-path=\"url(#clip940)\" d=\"M145.992 209.442 Q142.381 209.442 140.552 213.006 Q138.746 216.548 138.746 223.678 Q138.746 230.784 140.552 234.349 Q142.381 237.891 145.992 237.891 Q149.626 237.891 151.431 234.349 Q153.26 230.784 153.26 223.678 Q153.26 216.548 151.431 213.006 Q149.626 209.442 145.992 209.442 M145.992 205.738 Q151.802 205.738 154.857 210.344 Q157.936 214.928 157.936 223.678 Q157.936 232.404 154.857 237.011 Q151.802 241.594 145.992 241.594 Q140.181 241.594 137.103 237.011 Q134.047 232.404 134.047 223.678 Q134.047 214.928 137.103 210.344 Q140.181 205.738 145.992 205.738 Z\" fill=\"#000000\" fill-rule=\"evenodd\" fill-opacity=\"1\" /><polyline clip-path=\"url(#clip942)\" style=\"stroke:#009af9; stroke-linecap:butt; stroke-linejoin:round; stroke-width:4; stroke-opacity:1; fill:none\" points=\"\n",
       "  255.035,766.846 368.18,766.846 481.326,766.846 594.472,1259.42 707.617,1426.04 820.763,1156.44 933.909,629.038 1047.05,192.825 1160.2,136.465 1273.35,497.252 \n",
       "  1386.49,1036.44 1499.64,1397.23 1612.78,1340.87 1725.93,904.654 1839.07,377.249 1952.22,107.655 2065.37,274.273 2178.51,766.846 2291.66,766.846 \n",
       "  \"/>\n",
       "<circle clip-path=\"url(#clip942)\" cx=\"255.035\" cy=\"766.846\" r=\"14\" fill=\"#009af9\" fill-rule=\"evenodd\" fill-opacity=\"1\" stroke=\"#000000\" stroke-opacity=\"1\" stroke-width=\"3.2\"/>\n",
       "<circle clip-path=\"url(#clip942)\" cx=\"368.18\" cy=\"766.846\" r=\"14\" fill=\"#009af9\" fill-rule=\"evenodd\" fill-opacity=\"1\" stroke=\"#000000\" stroke-opacity=\"1\" stroke-width=\"3.2\"/>\n",
       "<circle clip-path=\"url(#clip942)\" cx=\"481.326\" cy=\"766.846\" r=\"14\" fill=\"#009af9\" fill-rule=\"evenodd\" fill-opacity=\"1\" stroke=\"#000000\" stroke-opacity=\"1\" stroke-width=\"3.2\"/>\n",
       "<circle clip-path=\"url(#clip942)\" cx=\"594.472\" cy=\"1259.42\" r=\"14\" fill=\"#009af9\" fill-rule=\"evenodd\" fill-opacity=\"1\" stroke=\"#000000\" stroke-opacity=\"1\" stroke-width=\"3.2\"/>\n",
       "<circle clip-path=\"url(#clip942)\" cx=\"707.617\" cy=\"1426.04\" r=\"14\" fill=\"#009af9\" fill-rule=\"evenodd\" fill-opacity=\"1\" stroke=\"#000000\" stroke-opacity=\"1\" stroke-width=\"3.2\"/>\n",
       "<circle clip-path=\"url(#clip942)\" cx=\"820.763\" cy=\"1156.44\" r=\"14\" fill=\"#009af9\" fill-rule=\"evenodd\" fill-opacity=\"1\" stroke=\"#000000\" stroke-opacity=\"1\" stroke-width=\"3.2\"/>\n",
       "<circle clip-path=\"url(#clip942)\" cx=\"933.909\" cy=\"629.038\" r=\"14\" fill=\"#009af9\" fill-rule=\"evenodd\" fill-opacity=\"1\" stroke=\"#000000\" stroke-opacity=\"1\" stroke-width=\"3.2\"/>\n",
       "<circle clip-path=\"url(#clip942)\" cx=\"1047.05\" cy=\"192.825\" r=\"14\" fill=\"#009af9\" fill-rule=\"evenodd\" fill-opacity=\"1\" stroke=\"#000000\" stroke-opacity=\"1\" stroke-width=\"3.2\"/>\n",
       "<circle clip-path=\"url(#clip942)\" cx=\"1160.2\" cy=\"136.465\" r=\"14\" fill=\"#009af9\" fill-rule=\"evenodd\" fill-opacity=\"1\" stroke=\"#000000\" stroke-opacity=\"1\" stroke-width=\"3.2\"/>\n",
       "<circle clip-path=\"url(#clip942)\" cx=\"1273.35\" cy=\"497.252\" r=\"14\" fill=\"#009af9\" fill-rule=\"evenodd\" fill-opacity=\"1\" stroke=\"#000000\" stroke-opacity=\"1\" stroke-width=\"3.2\"/>\n",
       "<circle clip-path=\"url(#clip942)\" cx=\"1386.49\" cy=\"1036.44\" r=\"14\" fill=\"#009af9\" fill-rule=\"evenodd\" fill-opacity=\"1\" stroke=\"#000000\" stroke-opacity=\"1\" stroke-width=\"3.2\"/>\n",
       "<circle clip-path=\"url(#clip942)\" cx=\"1499.64\" cy=\"1397.23\" r=\"14\" fill=\"#009af9\" fill-rule=\"evenodd\" fill-opacity=\"1\" stroke=\"#000000\" stroke-opacity=\"1\" stroke-width=\"3.2\"/>\n",
       "<circle clip-path=\"url(#clip942)\" cx=\"1612.78\" cy=\"1340.87\" r=\"14\" fill=\"#009af9\" fill-rule=\"evenodd\" fill-opacity=\"1\" stroke=\"#000000\" stroke-opacity=\"1\" stroke-width=\"3.2\"/>\n",
       "<circle clip-path=\"url(#clip942)\" cx=\"1725.93\" cy=\"904.654\" r=\"14\" fill=\"#009af9\" fill-rule=\"evenodd\" fill-opacity=\"1\" stroke=\"#000000\" stroke-opacity=\"1\" stroke-width=\"3.2\"/>\n",
       "<circle clip-path=\"url(#clip942)\" cx=\"1839.07\" cy=\"377.249\" r=\"14\" fill=\"#009af9\" fill-rule=\"evenodd\" fill-opacity=\"1\" stroke=\"#000000\" stroke-opacity=\"1\" stroke-width=\"3.2\"/>\n",
       "<circle clip-path=\"url(#clip942)\" cx=\"1952.22\" cy=\"107.655\" r=\"14\" fill=\"#009af9\" fill-rule=\"evenodd\" fill-opacity=\"1\" stroke=\"#000000\" stroke-opacity=\"1\" stroke-width=\"3.2\"/>\n",
       "<circle clip-path=\"url(#clip942)\" cx=\"2065.37\" cy=\"274.273\" r=\"14\" fill=\"#009af9\" fill-rule=\"evenodd\" fill-opacity=\"1\" stroke=\"#000000\" stroke-opacity=\"1\" stroke-width=\"3.2\"/>\n",
       "<circle clip-path=\"url(#clip942)\" cx=\"2178.51\" cy=\"766.846\" r=\"14\" fill=\"#009af9\" fill-rule=\"evenodd\" fill-opacity=\"1\" stroke=\"#000000\" stroke-opacity=\"1\" stroke-width=\"3.2\"/>\n",
       "<circle clip-path=\"url(#clip942)\" cx=\"2291.66\" cy=\"766.846\" r=\"14\" fill=\"#009af9\" fill-rule=\"evenodd\" fill-opacity=\"1\" stroke=\"#000000\" stroke-opacity=\"1\" stroke-width=\"3.2\"/>\n",
       "<polyline clip-path=\"url(#clip942)\" style=\"stroke:#e26f46; stroke-linecap:butt; stroke-linejoin:round; stroke-width:4; stroke-opacity:1; fill:none\" points=\"\n",
       "  481.326,766.846 594.472,1274.12 707.617,1445.72 820.763,1168.07 933.909,624.924 1047.05,175.689 1160.2,117.646 1273.35,489.204 1386.49,1044.49 1499.64,1416.05 \n",
       "  1612.78,1358 1725.93,908.768 1839.07,365.618 1952.22,87.9763 2065.37,259.569 \n",
       "  \"/>\n",
       "<path clip-path=\"url(#clip940)\" d=\"\n",
       "M1988.5 276.658 L2280.8 276.658 L2280.8 95.2176 L1988.5 95.2176  Z\n",
       "  \" fill=\"#ffffff\" fill-rule=\"evenodd\" fill-opacity=\"1\"/>\n",
       "<polyline clip-path=\"url(#clip940)\" style=\"stroke:#000000; stroke-linecap:butt; stroke-linejoin:round; stroke-width:4; stroke-opacity:1; fill:none\" points=\"\n",
       "  1988.5,276.658 2280.8,276.658 2280.8,95.2176 1988.5,95.2176 1988.5,276.658 \n",
       "  \"/>\n",
       "<polyline clip-path=\"url(#clip940)\" style=\"stroke:#009af9; stroke-linecap:butt; stroke-linejoin:round; stroke-width:4; stroke-opacity:1; fill:none\" points=\"\n",
       "  2012.48,155.698 2156.4,155.698 \n",
       "  \"/>\n",
       "<circle clip-path=\"url(#clip940)\" cx=\"2084.44\" cy=\"155.698\" r=\"23\" fill=\"#009af9\" fill-rule=\"evenodd\" fill-opacity=\"1\" stroke=\"#000000\" stroke-opacity=\"1\" stroke-width=\"5.12\"/>\n",
       "<path clip-path=\"url(#clip940)\" d=\"M2194.23 175.385 Q2192.43 180.015 2190.72 181.427 Q2189 182.839 2186.13 182.839 L2182.73 182.839 L2182.73 179.274 L2185.23 179.274 Q2186.99 179.274 2187.96 178.44 Q2188.93 177.607 2190.11 174.505 L2190.88 172.561 L2180.39 147.052 L2184.91 147.052 L2193.01 167.329 L2201.11 147.052 L2205.62 147.052 L2194.23 175.385 Z\" fill=\"#000000\" fill-rule=\"evenodd\" fill-opacity=\"1\" /><path clip-path=\"url(#clip940)\" d=\"M2212.91 169.042 L2220.55 169.042 L2220.55 142.677 L2212.24 144.343 L2212.24 140.084 L2220.51 138.418 L2225.18 138.418 L2225.18 169.042 L2232.82 169.042 L2232.82 172.978 L2212.91 172.978 L2212.91 169.042 Z\" fill=\"#000000\" fill-rule=\"evenodd\" fill-opacity=\"1\" /><polyline clip-path=\"url(#clip940)\" style=\"stroke:#e26f46; stroke-linecap:butt; stroke-linejoin:round; stroke-width:4; stroke-opacity:1; fill:none\" points=\"\n",
       "  2012.48,216.178 2156.4,216.178 \n",
       "  \"/>\n",
       "<path clip-path=\"url(#clip940)\" d=\"M2194.23 235.865 Q2192.43 240.495 2190.72 241.907 Q2189 243.319 2186.13 243.319 L2182.73 243.319 L2182.73 239.754 L2185.23 239.754 Q2186.99 239.754 2187.96 238.92 Q2188.93 238.087 2190.11 234.985 L2190.88 233.041 L2180.39 207.532 L2184.91 207.532 L2193.01 227.809 L2201.11 207.532 L2205.62 207.532 L2194.23 235.865 Z\" fill=\"#000000\" fill-rule=\"evenodd\" fill-opacity=\"1\" /><path clip-path=\"url(#clip940)\" d=\"M2216.13 229.522 L2232.45 229.522 L2232.45 233.458 L2210.51 233.458 L2210.51 229.522 Q2213.17 226.768 2217.75 222.138 Q2222.36 217.485 2223.54 216.143 Q2225.78 213.62 2226.66 211.884 Q2227.57 210.124 2227.57 208.435 Q2227.57 205.68 2225.62 203.944 Q2223.7 202.208 2220.6 202.208 Q2218.4 202.208 2215.95 202.972 Q2213.52 203.735 2210.74 205.286 L2210.74 200.564 Q2213.56 199.43 2216.02 198.851 Q2218.47 198.273 2220.51 198.273 Q2225.88 198.273 2229.07 200.958 Q2232.27 203.643 2232.27 208.134 Q2232.27 210.263 2231.46 212.185 Q2230.67 214.083 2228.56 216.675 Q2227.98 217.347 2224.88 220.564 Q2221.78 223.759 2216.13 229.522 Z\" fill=\"#000000\" fill-rule=\"evenodd\" fill-opacity=\"1\" /></svg>\n"
      ]
     },
     "execution_count": 39,
     "metadata": {},
     "output_type": "execute_result"
    }
   ],
   "source": [
    "plot(∂h, marker=:circle)\n",
    "plot!(xᶠ[1:n], ∂hdata_theoretical[1:n])"
   ]
  },
  {
   "cell_type": "markdown",
   "id": "d2c8573c-4618-4236-b003-115085a84996",
   "metadata": {},
   "source": [
    "Can we make it faster?"
   ]
  },
  {
   "cell_type": "code",
   "execution_count": 40,
   "id": "303ecafc-1df0-40a5-951d-ca33233a3103",
   "metadata": {},
   "outputs": [],
   "source": [
    "@inline δᶜ!(δf, i, f) = @inbounds δf[i] = f[i+1] - f[i]\n",
    "@inline δᶠ!(δf, i, f) = @inbounds δf[i] = f[i] - f[i-1]\n",
    "\n",
    "\n",
    "function ∂!(∂f::Field{<:Face}, i, f::Field{<:Cell})\n",
    "    δᶠ!(∂f.data, i, f.data)\n",
    "    @inbounds ∂f.data[i] /= f.grid.dx\n",
    "end\n",
    "\n",
    "function ∂!(∂f::Field{<:Cell}, i, f::Field{<:Face})\n",
    "    δᶜ!(∂f.data, i, f.data)\n",
    "    @inbounds ∂f.data[i] /= f.grid.dx\n",
    "end;"
   ]
  },
  {
   "cell_type": "code",
   "execution_count": 41,
   "id": "c941cf2e-85b4-4a30-81a4-db390cbabdc1",
   "metadata": {},
   "outputs": [],
   "source": [
    "function ∂_better!(∂f::Field, f::Field)\n",
    "    for i in 1:f.grid.n\n",
    "        @inbounds ∂!(∂f, i, f)\n",
    "    end\n",
    "end;"
   ]
  },
  {
   "cell_type": "code",
   "execution_count": 42,
   "id": "04229d82-d87f-40dd-a2a0-911c2d1b23de",
   "metadata": {},
   "outputs": [],
   "source": [
    "∂_better!(∂u, u)\n",
    "∂_better!(∂h, h)"
   ]
  },
  {
   "cell_type": "code",
   "execution_count": 43,
   "id": "9aa0be22-5bee-43d6-879b-3d973f63c783",
   "metadata": {},
   "outputs": [
    {
     "name": "stdout",
     "output_type": "stream",
     "text": [
      "  1.651 μs (76 allocations: 2.84 KiB)\n"
     ]
    }
   ],
   "source": [
    "@btime ∂_better!(∂u, u)"
   ]
  },
  {
   "cell_type": "code",
   "execution_count": 44,
   "id": "059b5974-3755-47b1-9e98-4d95adf54147",
   "metadata": {},
   "outputs": [
    {
     "name": "stdout",
     "output_type": "stream",
     "text": [
      "  1.680 μs (76 allocations: 2.84 KiB)\n"
     ]
    }
   ],
   "source": [
    "@btime ∂_better!(∂h, h)"
   ]
  },
  {
   "cell_type": "code",
   "execution_count": 45,
   "id": "47cb47ff-b579-4eb1-a1d3-857db1862283",
   "metadata": {},
   "outputs": [
    {
     "data": {
      "image/svg+xml": [
       "<?xml version=\"1.0\" encoding=\"utf-8\"?>\n",
       "<svg xmlns=\"http://www.w3.org/2000/svg\" xmlns:xlink=\"http://www.w3.org/1999/xlink\" width=\"600\" height=\"400\" viewBox=\"0 0 2400 1600\">\n",
       "<defs>\n",
       "  <clipPath id=\"clip980\">\n",
       "    <rect x=\"0\" y=\"0\" width=\"2400\" height=\"1600\"/>\n",
       "  </clipPath>\n",
       "</defs>\n",
       "<path clip-path=\"url(#clip980)\" d=\"\n",
       "M0 1600 L2400 1600 L2400 0 L0 0  Z\n",
       "  \" fill=\"#ffffff\" fill-rule=\"evenodd\" fill-opacity=\"1\"/>\n",
       "<defs>\n",
       "  <clipPath id=\"clip981\">\n",
       "    <rect x=\"480\" y=\"0\" width=\"1681\" height=\"1600\"/>\n",
       "  </clipPath>\n",
       "</defs>\n",
       "<path clip-path=\"url(#clip980)\" d=\"\n",
       "M148.057 1486.45 L2352.76 1486.45 L2352.76 47.2441 L148.057 47.2441  Z\n",
       "  \" fill=\"#ffffff\" fill-rule=\"evenodd\" fill-opacity=\"1\"/>\n",
       "<defs>\n",
       "  <clipPath id=\"clip982\">\n",
       "    <rect x=\"148\" y=\"47\" width=\"2206\" height=\"1440\"/>\n",
       "  </clipPath>\n",
       "</defs>\n",
       "<polyline clip-path=\"url(#clip982)\" style=\"stroke:#000000; stroke-linecap:butt; stroke-linejoin:round; stroke-width:2; stroke-opacity:0.1; fill:none\" points=\"\n",
       "  414.73,1486.45 414.73,47.2441 \n",
       "  \"/>\n",
       "<polyline clip-path=\"url(#clip982)\" style=\"stroke:#000000; stroke-linecap:butt; stroke-linejoin:round; stroke-width:2; stroke-opacity:0.1; fill:none\" points=\"\n",
       "  693.289,1486.45 693.289,47.2441 \n",
       "  \"/>\n",
       "<polyline clip-path=\"url(#clip982)\" style=\"stroke:#000000; stroke-linecap:butt; stroke-linejoin:round; stroke-width:2; stroke-opacity:0.1; fill:none\" points=\"\n",
       "  971.848,1486.45 971.848,47.2441 \n",
       "  \"/>\n",
       "<polyline clip-path=\"url(#clip982)\" style=\"stroke:#000000; stroke-linecap:butt; stroke-linejoin:round; stroke-width:2; stroke-opacity:0.1; fill:none\" points=\"\n",
       "  1250.41,1486.45 1250.41,47.2441 \n",
       "  \"/>\n",
       "<polyline clip-path=\"url(#clip982)\" style=\"stroke:#000000; stroke-linecap:butt; stroke-linejoin:round; stroke-width:2; stroke-opacity:0.1; fill:none\" points=\"\n",
       "  1528.96,1486.45 1528.96,47.2441 \n",
       "  \"/>\n",
       "<polyline clip-path=\"url(#clip982)\" style=\"stroke:#000000; stroke-linecap:butt; stroke-linejoin:round; stroke-width:2; stroke-opacity:0.1; fill:none\" points=\"\n",
       "  1807.52,1486.45 1807.52,47.2441 \n",
       "  \"/>\n",
       "<polyline clip-path=\"url(#clip982)\" style=\"stroke:#000000; stroke-linecap:butt; stroke-linejoin:round; stroke-width:2; stroke-opacity:0.1; fill:none\" points=\"\n",
       "  2086.08,1486.45 2086.08,47.2441 \n",
       "  \"/>\n",
       "<polyline clip-path=\"url(#clip980)\" style=\"stroke:#000000; stroke-linecap:butt; stroke-linejoin:round; stroke-width:4; stroke-opacity:1; fill:none\" points=\"\n",
       "  148.057,1486.45 2352.76,1486.45 \n",
       "  \"/>\n",
       "<polyline clip-path=\"url(#clip980)\" style=\"stroke:#000000; stroke-linecap:butt; stroke-linejoin:round; stroke-width:4; stroke-opacity:1; fill:none\" points=\"\n",
       "  414.73,1486.45 414.73,1469.18 \n",
       "  \"/>\n",
       "<polyline clip-path=\"url(#clip980)\" style=\"stroke:#000000; stroke-linecap:butt; stroke-linejoin:round; stroke-width:4; stroke-opacity:1; fill:none\" points=\"\n",
       "  693.289,1486.45 693.289,1469.18 \n",
       "  \"/>\n",
       "<polyline clip-path=\"url(#clip980)\" style=\"stroke:#000000; stroke-linecap:butt; stroke-linejoin:round; stroke-width:4; stroke-opacity:1; fill:none\" points=\"\n",
       "  971.848,1486.45 971.848,1469.18 \n",
       "  \"/>\n",
       "<polyline clip-path=\"url(#clip980)\" style=\"stroke:#000000; stroke-linecap:butt; stroke-linejoin:round; stroke-width:4; stroke-opacity:1; fill:none\" points=\"\n",
       "  1250.41,1486.45 1250.41,1469.18 \n",
       "  \"/>\n",
       "<polyline clip-path=\"url(#clip980)\" style=\"stroke:#000000; stroke-linecap:butt; stroke-linejoin:round; stroke-width:4; stroke-opacity:1; fill:none\" points=\"\n",
       "  1528.96,1486.45 1528.96,1469.18 \n",
       "  \"/>\n",
       "<polyline clip-path=\"url(#clip980)\" style=\"stroke:#000000; stroke-linecap:butt; stroke-linejoin:round; stroke-width:4; stroke-opacity:1; fill:none\" points=\"\n",
       "  1807.52,1486.45 1807.52,1469.18 \n",
       "  \"/>\n",
       "<polyline clip-path=\"url(#clip980)\" style=\"stroke:#000000; stroke-linecap:butt; stroke-linejoin:round; stroke-width:4; stroke-opacity:1; fill:none\" points=\"\n",
       "  2086.08,1486.45 2086.08,1469.18 \n",
       "  \"/>\n",
       "<path clip-path=\"url(#clip980)\" d=\"M377.531 1515.64 Q373.92 1515.64 372.091 1519.2 Q370.286 1522.75 370.286 1529.87 Q370.286 1536.98 372.091 1540.55 Q373.92 1544.09 377.531 1544.09 Q381.166 1544.09 382.971 1540.55 Q384.8 1536.98 384.8 1529.87 Q384.8 1522.75 382.971 1519.2 Q381.166 1515.64 377.531 1515.64 M377.531 1511.93 Q383.341 1511.93 386.397 1516.54 Q389.476 1521.12 389.476 1529.87 Q389.476 1538.6 386.397 1543.21 Q383.341 1547.79 377.531 1547.79 Q371.721 1547.79 368.642 1543.21 Q365.587 1538.6 365.587 1529.87 Q365.587 1521.12 368.642 1516.54 Q371.721 1511.93 377.531 1511.93 Z\" fill=\"#000000\" fill-rule=\"evenodd\" fill-opacity=\"1\" /><path clip-path=\"url(#clip980)\" d=\"M397.693 1541.24 L402.577 1541.24 L402.577 1547.12 L397.693 1547.12 L397.693 1541.24 Z\" fill=\"#000000\" fill-rule=\"evenodd\" fill-opacity=\"1\" /><path clip-path=\"url(#clip980)\" d=\"M416.79 1543.18 L433.11 1543.18 L433.11 1547.12 L411.165 1547.12 L411.165 1543.18 Q413.827 1540.43 418.411 1535.8 Q423.017 1531.15 424.198 1529.81 Q426.443 1527.28 427.323 1525.55 Q428.225 1523.79 428.225 1522.1 Q428.225 1519.34 426.281 1517.61 Q424.36 1515.87 421.258 1515.87 Q419.059 1515.87 416.605 1516.63 Q414.175 1517.4 411.397 1518.95 L411.397 1514.23 Q414.221 1513.09 416.675 1512.51 Q419.128 1511.93 421.165 1511.93 Q426.536 1511.93 429.73 1514.62 Q432.924 1517.31 432.924 1521.8 Q432.924 1523.93 432.114 1525.85 Q431.327 1527.74 429.221 1530.34 Q428.642 1531.01 425.54 1534.23 Q422.438 1537.42 416.79 1543.18 Z\" fill=\"#000000\" fill-rule=\"evenodd\" fill-opacity=\"1\" /><path clip-path=\"url(#clip980)\" d=\"M442.971 1512.56 L461.327 1512.56 L461.327 1516.5 L447.253 1516.5 L447.253 1524.97 Q448.272 1524.62 449.29 1524.46 Q450.309 1524.27 451.327 1524.27 Q457.114 1524.27 460.494 1527.44 Q463.873 1530.62 463.873 1536.03 Q463.873 1541.61 460.401 1544.71 Q456.929 1547.79 450.61 1547.79 Q448.434 1547.79 446.165 1547.42 Q443.92 1547.05 441.512 1546.31 L441.512 1541.61 Q443.596 1542.74 445.818 1543.3 Q448.04 1543.86 450.517 1543.86 Q454.522 1543.86 456.86 1541.75 Q459.198 1539.64 459.198 1536.03 Q459.198 1532.42 456.86 1530.31 Q454.522 1528.21 450.517 1528.21 Q448.642 1528.21 446.767 1528.62 Q444.915 1529.04 442.971 1529.92 L442.971 1512.56 Z\" fill=\"#000000\" fill-rule=\"evenodd\" fill-opacity=\"1\" /><path clip-path=\"url(#clip980)\" d=\"M655.592 1515.64 Q651.981 1515.64 650.153 1519.2 Q648.347 1522.75 648.347 1529.87 Q648.347 1536.98 650.153 1540.55 Q651.981 1544.09 655.592 1544.09 Q659.227 1544.09 661.032 1540.55 Q662.861 1536.98 662.861 1529.87 Q662.861 1522.75 661.032 1519.2 Q659.227 1515.64 655.592 1515.64 M655.592 1511.93 Q661.402 1511.93 664.458 1516.54 Q667.537 1521.12 667.537 1529.87 Q667.537 1538.6 664.458 1543.21 Q661.402 1547.79 655.592 1547.79 Q649.782 1547.79 646.703 1543.21 Q643.648 1538.6 643.648 1529.87 Q643.648 1521.12 646.703 1516.54 Q649.782 1511.93 655.592 1511.93 Z\" fill=\"#000000\" fill-rule=\"evenodd\" fill-opacity=\"1\" /><path clip-path=\"url(#clip980)\" d=\"M675.754 1541.24 L680.638 1541.24 L680.638 1547.12 L675.754 1547.12 L675.754 1541.24 Z\" fill=\"#000000\" fill-rule=\"evenodd\" fill-opacity=\"1\" /><path clip-path=\"url(#clip980)\" d=\"M690.87 1512.56 L709.226 1512.56 L709.226 1516.5 L695.152 1516.5 L695.152 1524.97 Q696.171 1524.62 697.189 1524.46 Q698.208 1524.27 699.226 1524.27 Q705.013 1524.27 708.393 1527.44 Q711.773 1530.62 711.773 1536.03 Q711.773 1541.61 708.3 1544.71 Q704.828 1547.79 698.509 1547.79 Q696.333 1547.79 694.064 1547.42 Q691.819 1547.05 689.412 1546.31 L689.412 1541.61 Q691.495 1542.74 693.717 1543.3 Q695.939 1543.86 698.416 1543.86 Q702.421 1543.86 704.759 1541.75 Q707.097 1539.64 707.097 1536.03 Q707.097 1532.42 704.759 1530.31 Q702.421 1528.21 698.416 1528.21 Q696.541 1528.21 694.666 1528.62 Q692.814 1529.04 690.87 1529.92 L690.87 1512.56 Z\" fill=\"#000000\" fill-rule=\"evenodd\" fill-opacity=\"1\" /><path clip-path=\"url(#clip980)\" d=\"M730.985 1515.64 Q727.374 1515.64 725.546 1519.2 Q723.74 1522.75 723.74 1529.87 Q723.74 1536.98 725.546 1540.55 Q727.374 1544.09 730.985 1544.09 Q734.62 1544.09 736.425 1540.55 Q738.254 1536.98 738.254 1529.87 Q738.254 1522.75 736.425 1519.2 Q734.62 1515.64 730.985 1515.64 M730.985 1511.93 Q736.796 1511.93 739.851 1516.54 Q742.93 1521.12 742.93 1529.87 Q742.93 1538.6 739.851 1543.21 Q736.796 1547.79 730.985 1547.79 Q725.175 1547.79 722.097 1543.21 Q719.041 1538.6 719.041 1529.87 Q719.041 1521.12 722.097 1516.54 Q725.175 1511.93 730.985 1511.93 Z\" fill=\"#000000\" fill-rule=\"evenodd\" fill-opacity=\"1\" /><path clip-path=\"url(#clip980)\" d=\"M934.649 1515.64 Q931.038 1515.64 929.209 1519.2 Q927.403 1522.75 927.403 1529.87 Q927.403 1536.98 929.209 1540.55 Q931.038 1544.09 934.649 1544.09 Q938.283 1544.09 940.088 1540.55 Q941.917 1536.98 941.917 1529.87 Q941.917 1522.75 940.088 1519.2 Q938.283 1515.64 934.649 1515.64 M934.649 1511.93 Q940.459 1511.93 943.514 1516.54 Q946.593 1521.12 946.593 1529.87 Q946.593 1538.6 943.514 1543.21 Q940.459 1547.79 934.649 1547.79 Q928.839 1547.79 925.76 1543.21 Q922.704 1538.6 922.704 1529.87 Q922.704 1521.12 925.76 1516.54 Q928.839 1511.93 934.649 1511.93 Z\" fill=\"#000000\" fill-rule=\"evenodd\" fill-opacity=\"1\" /><path clip-path=\"url(#clip980)\" d=\"M954.811 1541.24 L959.695 1541.24 L959.695 1547.12 L954.811 1547.12 L954.811 1541.24 Z\" fill=\"#000000\" fill-rule=\"evenodd\" fill-opacity=\"1\" /><path clip-path=\"url(#clip980)\" d=\"M968.699 1512.56 L990.922 1512.56 L990.922 1514.55 L978.375 1547.12 L973.491 1547.12 L985.297 1516.5 L968.699 1516.5 L968.699 1512.56 Z\" fill=\"#000000\" fill-rule=\"evenodd\" fill-opacity=\"1\" /><path clip-path=\"url(#clip980)\" d=\"M1000.09 1512.56 L1018.44 1512.56 L1018.44 1516.5 L1004.37 1516.5 L1004.37 1524.97 Q1005.39 1524.62 1006.41 1524.46 Q1007.43 1524.27 1008.44 1524.27 Q1014.23 1524.27 1017.61 1527.44 Q1020.99 1530.62 1020.99 1536.03 Q1020.99 1541.61 1017.52 1544.71 Q1014.05 1547.79 1007.73 1547.79 Q1005.55 1547.79 1003.28 1547.42 Q1001.04 1547.05 998.63 1546.31 L998.63 1541.61 Q1000.71 1542.74 1002.94 1543.3 Q1005.16 1543.86 1007.63 1543.86 Q1011.64 1543.86 1013.98 1541.75 Q1016.31 1539.64 1016.31 1536.03 Q1016.31 1532.42 1013.98 1530.31 Q1011.64 1528.21 1007.63 1528.21 Q1005.76 1528.21 1003.88 1528.62 Q1002.03 1529.04 1000.09 1529.92 L1000.09 1512.56 Z\" fill=\"#000000\" fill-rule=\"evenodd\" fill-opacity=\"1\" /><path clip-path=\"url(#clip980)\" d=\"M1202.48 1543.18 L1210.12 1543.18 L1210.12 1516.82 L1201.81 1518.49 L1201.81 1514.23 L1210.07 1512.56 L1214.75 1512.56 L1214.75 1543.18 L1222.39 1543.18 L1222.39 1547.12 L1202.48 1547.12 L1202.48 1543.18 Z\" fill=\"#000000\" fill-rule=\"evenodd\" fill-opacity=\"1\" /><path clip-path=\"url(#clip980)\" d=\"M1231.83 1541.24 L1236.71 1541.24 L1236.71 1547.12 L1231.83 1547.12 L1231.83 1541.24 Z\" fill=\"#000000\" fill-rule=\"evenodd\" fill-opacity=\"1\" /><path clip-path=\"url(#clip980)\" d=\"M1256.9 1515.64 Q1253.29 1515.64 1251.46 1519.2 Q1249.65 1522.75 1249.65 1529.87 Q1249.65 1536.98 1251.46 1540.55 Q1253.29 1544.09 1256.9 1544.09 Q1260.53 1544.09 1262.34 1540.55 Q1264.17 1536.98 1264.17 1529.87 Q1264.17 1522.75 1262.34 1519.2 Q1260.53 1515.64 1256.9 1515.64 M1256.9 1511.93 Q1262.71 1511.93 1265.76 1516.54 Q1268.84 1521.12 1268.84 1529.87 Q1268.84 1538.6 1265.76 1543.21 Q1262.71 1547.79 1256.9 1547.79 Q1251.09 1547.79 1248.01 1543.21 Q1244.95 1538.6 1244.95 1529.87 Q1244.95 1521.12 1248.01 1516.54 Q1251.09 1511.93 1256.9 1511.93 Z\" fill=\"#000000\" fill-rule=\"evenodd\" fill-opacity=\"1\" /><path clip-path=\"url(#clip980)\" d=\"M1287.06 1515.64 Q1283.45 1515.64 1281.62 1519.2 Q1279.82 1522.75 1279.82 1529.87 Q1279.82 1536.98 1281.62 1540.55 Q1283.45 1544.09 1287.06 1544.09 Q1290.7 1544.09 1292.5 1540.55 Q1294.33 1536.98 1294.33 1529.87 Q1294.33 1522.75 1292.5 1519.2 Q1290.7 1515.64 1287.06 1515.64 M1287.06 1511.93 Q1292.87 1511.93 1295.93 1516.54 Q1299.01 1521.12 1299.01 1529.87 Q1299.01 1538.6 1295.93 1543.21 Q1292.87 1547.79 1287.06 1547.79 Q1281.25 1547.79 1278.17 1543.21 Q1275.12 1538.6 1275.12 1529.87 Q1275.12 1521.12 1278.17 1516.54 Q1281.25 1511.93 1287.06 1511.93 Z\" fill=\"#000000\" fill-rule=\"evenodd\" fill-opacity=\"1\" /><path clip-path=\"url(#clip980)\" d=\"M1481.53 1543.18 L1489.17 1543.18 L1489.17 1516.82 L1480.86 1518.49 L1480.86 1514.23 L1489.13 1512.56 L1493.8 1512.56 L1493.8 1543.18 L1501.44 1543.18 L1501.44 1547.12 L1481.53 1547.12 L1481.53 1543.18 Z\" fill=\"#000000\" fill-rule=\"evenodd\" fill-opacity=\"1\" /><path clip-path=\"url(#clip980)\" d=\"M1510.89 1541.24 L1515.77 1541.24 L1515.77 1547.12 L1510.89 1547.12 L1510.89 1541.24 Z\" fill=\"#000000\" fill-rule=\"evenodd\" fill-opacity=\"1\" /><path clip-path=\"url(#clip980)\" d=\"M1529.98 1543.18 L1546.3 1543.18 L1546.3 1547.12 L1524.36 1547.12 L1524.36 1543.18 Q1527.02 1540.43 1531.6 1535.8 Q1536.21 1531.15 1537.39 1529.81 Q1539.64 1527.28 1540.52 1525.55 Q1541.42 1523.79 1541.42 1522.1 Q1541.42 1519.34 1539.47 1517.61 Q1537.55 1515.87 1534.45 1515.87 Q1532.25 1515.87 1529.8 1516.63 Q1527.37 1517.4 1524.59 1518.95 L1524.59 1514.23 Q1527.41 1513.09 1529.87 1512.51 Q1532.32 1511.93 1534.36 1511.93 Q1539.73 1511.93 1542.92 1514.62 Q1546.12 1517.31 1546.12 1521.8 Q1546.12 1523.93 1545.31 1525.85 Q1544.52 1527.74 1542.41 1530.34 Q1541.84 1531.01 1538.73 1534.23 Q1535.63 1537.42 1529.98 1543.18 Z\" fill=\"#000000\" fill-rule=\"evenodd\" fill-opacity=\"1\" /><path clip-path=\"url(#clip980)\" d=\"M1556.16 1512.56 L1574.52 1512.56 L1574.52 1516.5 L1560.45 1516.5 L1560.45 1524.97 Q1561.46 1524.62 1562.48 1524.46 Q1563.5 1524.27 1564.52 1524.27 Q1570.31 1524.27 1573.69 1527.44 Q1577.07 1530.62 1577.07 1536.03 Q1577.07 1541.61 1573.59 1544.71 Q1570.12 1547.79 1563.8 1547.79 Q1561.63 1547.79 1559.36 1547.42 Q1557.11 1547.05 1554.71 1546.31 L1554.71 1541.61 Q1556.79 1542.74 1559.01 1543.3 Q1561.23 1543.86 1563.71 1543.86 Q1567.71 1543.86 1570.05 1541.75 Q1572.39 1539.64 1572.39 1536.03 Q1572.39 1532.42 1570.05 1530.31 Q1567.71 1528.21 1563.71 1528.21 Q1561.84 1528.21 1559.96 1528.62 Q1558.11 1529.04 1556.16 1529.92 L1556.16 1512.56 Z\" fill=\"#000000\" fill-rule=\"evenodd\" fill-opacity=\"1\" /><path clip-path=\"url(#clip980)\" d=\"M1759.6 1543.18 L1767.23 1543.18 L1767.23 1516.82 L1758.92 1518.49 L1758.92 1514.23 L1767.19 1512.56 L1771.86 1512.56 L1771.86 1543.18 L1779.5 1543.18 L1779.5 1547.12 L1759.6 1547.12 L1759.6 1543.18 Z\" fill=\"#000000\" fill-rule=\"evenodd\" fill-opacity=\"1\" /><path clip-path=\"url(#clip980)\" d=\"M1788.95 1541.24 L1793.83 1541.24 L1793.83 1547.12 L1788.95 1547.12 L1788.95 1541.24 Z\" fill=\"#000000\" fill-rule=\"evenodd\" fill-opacity=\"1\" /><path clip-path=\"url(#clip980)\" d=\"M1804.06 1512.56 L1822.42 1512.56 L1822.42 1516.5 L1808.35 1516.5 L1808.35 1524.97 Q1809.36 1524.62 1810.38 1524.46 Q1811.4 1524.27 1812.42 1524.27 Q1818.21 1524.27 1821.59 1527.44 Q1824.97 1530.62 1824.97 1536.03 Q1824.97 1541.61 1821.49 1544.71 Q1818.02 1547.79 1811.7 1547.79 Q1809.53 1547.79 1807.26 1547.42 Q1805.01 1547.05 1802.6 1546.31 L1802.6 1541.61 Q1804.69 1542.74 1806.91 1543.3 Q1809.13 1543.86 1811.61 1543.86 Q1815.61 1543.86 1817.95 1541.75 Q1820.29 1539.64 1820.29 1536.03 Q1820.29 1532.42 1817.95 1530.31 Q1815.61 1528.21 1811.61 1528.21 Q1809.73 1528.21 1807.86 1528.62 Q1806.01 1529.04 1804.06 1529.92 L1804.06 1512.56 Z\" fill=\"#000000\" fill-rule=\"evenodd\" fill-opacity=\"1\" /><path clip-path=\"url(#clip980)\" d=\"M1844.18 1515.64 Q1840.57 1515.64 1838.74 1519.2 Q1836.93 1522.75 1836.93 1529.87 Q1836.93 1536.98 1838.74 1540.55 Q1840.57 1544.09 1844.18 1544.09 Q1847.81 1544.09 1849.62 1540.55 Q1851.45 1536.98 1851.45 1529.87 Q1851.45 1522.75 1849.62 1519.2 Q1847.81 1515.64 1844.18 1515.64 M1844.18 1511.93 Q1849.99 1511.93 1853.04 1516.54 Q1856.12 1521.12 1856.12 1529.87 Q1856.12 1538.6 1853.04 1543.21 Q1849.99 1547.79 1844.18 1547.79 Q1838.37 1547.79 1835.29 1543.21 Q1832.23 1538.6 1832.23 1529.87 Q1832.23 1521.12 1835.29 1516.54 Q1838.37 1511.93 1844.18 1511.93 Z\" fill=\"#000000\" fill-rule=\"evenodd\" fill-opacity=\"1\" /><path clip-path=\"url(#clip980)\" d=\"M2038.65 1543.18 L2046.29 1543.18 L2046.29 1516.82 L2037.98 1518.49 L2037.98 1514.23 L2046.24 1512.56 L2050.92 1512.56 L2050.92 1543.18 L2058.56 1543.18 L2058.56 1547.12 L2038.65 1547.12 L2038.65 1543.18 Z\" fill=\"#000000\" fill-rule=\"evenodd\" fill-opacity=\"1\" /><path clip-path=\"url(#clip980)\" d=\"M2068 1541.24 L2072.89 1541.24 L2072.89 1547.12 L2068 1547.12 L2068 1541.24 Z\" fill=\"#000000\" fill-rule=\"evenodd\" fill-opacity=\"1\" /><path clip-path=\"url(#clip980)\" d=\"M2081.89 1512.56 L2104.11 1512.56 L2104.11 1514.55 L2091.57 1547.12 L2086.68 1547.12 L2098.49 1516.5 L2081.89 1516.5 L2081.89 1512.56 Z\" fill=\"#000000\" fill-rule=\"evenodd\" fill-opacity=\"1\" /><path clip-path=\"url(#clip980)\" d=\"M2113.28 1512.56 L2131.64 1512.56 L2131.64 1516.5 L2117.56 1516.5 L2117.56 1524.97 Q2118.58 1524.62 2119.6 1524.46 Q2120.62 1524.27 2121.64 1524.27 Q2127.42 1524.27 2130.8 1527.44 Q2134.18 1530.62 2134.18 1536.03 Q2134.18 1541.61 2130.71 1544.71 Q2127.24 1547.79 2120.92 1547.79 Q2118.74 1547.79 2116.48 1547.42 Q2114.23 1547.05 2111.82 1546.31 L2111.82 1541.61 Q2113.91 1542.74 2116.13 1543.3 Q2118.35 1543.86 2120.83 1543.86 Q2124.83 1543.86 2127.17 1541.75 Q2129.51 1539.64 2129.51 1536.03 Q2129.51 1532.42 2127.17 1530.31 Q2124.83 1528.21 2120.83 1528.21 Q2118.95 1528.21 2117.08 1528.62 Q2115.23 1529.04 2113.28 1529.92 L2113.28 1512.56 Z\" fill=\"#000000\" fill-rule=\"evenodd\" fill-opacity=\"1\" /><polyline clip-path=\"url(#clip982)\" style=\"stroke:#000000; stroke-linecap:butt; stroke-linejoin:round; stroke-width:2; stroke-opacity:0.1; fill:none\" points=\"\n",
       "  148.057,1414.78 2352.76,1414.78 \n",
       "  \"/>\n",
       "<polyline clip-path=\"url(#clip982)\" style=\"stroke:#000000; stroke-linecap:butt; stroke-linejoin:round; stroke-width:2; stroke-opacity:0.1; fill:none\" points=\"\n",
       "  148.057,1196.3 2352.76,1196.3 \n",
       "  \"/>\n",
       "<polyline clip-path=\"url(#clip982)\" style=\"stroke:#000000; stroke-linecap:butt; stroke-linejoin:round; stroke-width:2; stroke-opacity:0.1; fill:none\" points=\"\n",
       "  148.057,977.825 2352.76,977.825 \n",
       "  \"/>\n",
       "<polyline clip-path=\"url(#clip982)\" style=\"stroke:#000000; stroke-linecap:butt; stroke-linejoin:round; stroke-width:2; stroke-opacity:0.1; fill:none\" points=\"\n",
       "  148.057,759.347 2352.76,759.347 \n",
       "  \"/>\n",
       "<polyline clip-path=\"url(#clip982)\" style=\"stroke:#000000; stroke-linecap:butt; stroke-linejoin:round; stroke-width:2; stroke-opacity:0.1; fill:none\" points=\"\n",
       "  148.057,540.869 2352.76,540.869 \n",
       "  \"/>\n",
       "<polyline clip-path=\"url(#clip982)\" style=\"stroke:#000000; stroke-linecap:butt; stroke-linejoin:round; stroke-width:2; stroke-opacity:0.1; fill:none\" points=\"\n",
       "  148.057,322.39 2352.76,322.39 \n",
       "  \"/>\n",
       "<polyline clip-path=\"url(#clip982)\" style=\"stroke:#000000; stroke-linecap:butt; stroke-linejoin:round; stroke-width:2; stroke-opacity:0.1; fill:none\" points=\"\n",
       "  148.057,103.912 2352.76,103.912 \n",
       "  \"/>\n",
       "<polyline clip-path=\"url(#clip980)\" style=\"stroke:#000000; stroke-linecap:butt; stroke-linejoin:round; stroke-width:4; stroke-opacity:1; fill:none\" points=\"\n",
       "  148.057,1486.45 148.057,47.2441 \n",
       "  \"/>\n",
       "<polyline clip-path=\"url(#clip980)\" style=\"stroke:#000000; stroke-linecap:butt; stroke-linejoin:round; stroke-width:4; stroke-opacity:1; fill:none\" points=\"\n",
       "  148.057,1414.78 174.513,1414.78 \n",
       "  \"/>\n",
       "<polyline clip-path=\"url(#clip980)\" style=\"stroke:#000000; stroke-linecap:butt; stroke-linejoin:round; stroke-width:4; stroke-opacity:1; fill:none\" points=\"\n",
       "  148.057,1196.3 174.513,1196.3 \n",
       "  \"/>\n",
       "<polyline clip-path=\"url(#clip980)\" style=\"stroke:#000000; stroke-linecap:butt; stroke-linejoin:round; stroke-width:4; stroke-opacity:1; fill:none\" points=\"\n",
       "  148.057,977.825 174.513,977.825 \n",
       "  \"/>\n",
       "<polyline clip-path=\"url(#clip980)\" style=\"stroke:#000000; stroke-linecap:butt; stroke-linejoin:round; stroke-width:4; stroke-opacity:1; fill:none\" points=\"\n",
       "  148.057,759.347 174.513,759.347 \n",
       "  \"/>\n",
       "<polyline clip-path=\"url(#clip980)\" style=\"stroke:#000000; stroke-linecap:butt; stroke-linejoin:round; stroke-width:4; stroke-opacity:1; fill:none\" points=\"\n",
       "  148.057,540.869 174.513,540.869 \n",
       "  \"/>\n",
       "<polyline clip-path=\"url(#clip980)\" style=\"stroke:#000000; stroke-linecap:butt; stroke-linejoin:round; stroke-width:4; stroke-opacity:1; fill:none\" points=\"\n",
       "  148.057,322.39 174.513,322.39 \n",
       "  \"/>\n",
       "<polyline clip-path=\"url(#clip980)\" style=\"stroke:#000000; stroke-linecap:butt; stroke-linejoin:round; stroke-width:4; stroke-opacity:1; fill:none\" points=\"\n",
       "  148.057,103.912 174.513,103.912 \n",
       "  \"/>\n",
       "<path clip-path=\"url(#clip980)\" d=\"M50.9921 1415.23 L80.6679 1415.23 L80.6679 1419.17 L50.9921 1419.17 L50.9921 1415.23 Z\" fill=\"#000000\" fill-rule=\"evenodd\" fill-opacity=\"1\" /><path clip-path=\"url(#clip980)\" d=\"M104.927 1413.43 Q108.283 1414.14 110.158 1416.41 Q112.057 1418.68 112.057 1422.01 Q112.057 1427.13 108.538 1429.93 Q105.02 1432.73 98.5382 1432.73 Q96.3623 1432.73 94.0475 1432.29 Q91.7558 1431.88 89.3021 1431.02 L89.3021 1426.51 Q91.2465 1427.64 93.5613 1428.22 Q95.8761 1428.8 98.3993 1428.8 Q102.797 1428.8 105.089 1427.06 Q107.404 1425.32 107.404 1422.01 Q107.404 1418.96 105.251 1417.25 Q103.121 1415.51 99.3021 1415.51 L95.2743 1415.51 L95.2743 1411.67 L99.4872 1411.67 Q102.936 1411.67 104.765 1410.3 Q106.594 1408.91 106.594 1406.32 Q106.594 1403.66 104.696 1402.25 Q102.821 1400.81 99.3021 1400.81 Q97.3808 1400.81 95.1817 1401.23 Q92.9826 1401.64 90.3438 1402.52 L90.3438 1398.36 Q93.0058 1397.62 95.3206 1397.25 Q97.6585 1396.88 99.7187 1396.88 Q105.043 1396.88 108.145 1399.31 Q111.246 1401.71 111.246 1405.83 Q111.246 1408.7 109.603 1410.7 Q107.959 1412.66 104.927 1413.43 Z\" fill=\"#000000\" fill-rule=\"evenodd\" fill-opacity=\"1\" /><path clip-path=\"url(#clip980)\" d=\"M51.9412 1196.75 L81.617 1196.75 L81.617 1200.69 L51.9412 1200.69 L51.9412 1196.75 Z\" fill=\"#000000\" fill-rule=\"evenodd\" fill-opacity=\"1\" /><path clip-path=\"url(#clip980)\" d=\"M95.7373 1209.65 L112.057 1209.65 L112.057 1213.58 L90.1123 1213.58 L90.1123 1209.65 Q92.7743 1206.89 97.3576 1202.26 Q101.964 1197.61 103.145 1196.27 Q105.39 1193.74 106.27 1192.01 Q107.172 1190.25 107.172 1188.56 Q107.172 1185.81 105.228 1184.07 Q103.307 1182.33 100.205 1182.33 Q98.0058 1182.33 95.5521 1183.1 Q93.1215 1183.86 90.3438 1185.41 L90.3438 1180.69 Q93.1678 1179.56 95.6215 1178.98 Q98.0752 1178.4 100.112 1178.4 Q105.483 1178.4 108.677 1181.08 Q111.871 1183.77 111.871 1188.26 Q111.871 1190.39 111.061 1192.31 Q110.274 1194.21 108.168 1196.8 Q107.589 1197.47 104.487 1200.69 Q101.385 1203.88 95.7373 1209.65 Z\" fill=\"#000000\" fill-rule=\"evenodd\" fill-opacity=\"1\" /><path clip-path=\"url(#clip980)\" d=\"M51.5708 978.276 L81.2466 978.276 L81.2466 982.211 L51.5708 982.211 L51.5708 978.276 Z\" fill=\"#000000\" fill-rule=\"evenodd\" fill-opacity=\"1\" /><path clip-path=\"url(#clip980)\" d=\"M92.1493 991.169 L99.7882 991.169 L99.7882 964.804 L91.478 966.471 L91.478 962.211 L99.7419 960.545 L104.418 960.545 L104.418 991.169 L112.057 991.169 L112.057 995.105 L92.1493 995.105 L92.1493 991.169 Z\" fill=\"#000000\" fill-rule=\"evenodd\" fill-opacity=\"1\" /><path clip-path=\"url(#clip980)\" d=\"M100.112 745.145 Q96.5011 745.145 94.6724 748.71 Q92.8669 752.252 92.8669 759.381 Q92.8669 766.488 94.6724 770.053 Q96.5011 773.594 100.112 773.594 Q103.746 773.594 105.552 770.053 Q107.381 766.488 107.381 759.381 Q107.381 752.252 105.552 748.71 Q103.746 745.145 100.112 745.145 M100.112 741.442 Q105.922 741.442 108.978 746.048 Q112.057 750.631 112.057 759.381 Q112.057 768.108 108.978 772.715 Q105.922 777.298 100.112 777.298 Q94.3021 777.298 91.2234 772.715 Q88.1679 768.108 88.1679 759.381 Q88.1679 750.631 91.2234 746.048 Q94.3021 741.442 100.112 741.442 Z\" fill=\"#000000\" fill-rule=\"evenodd\" fill-opacity=\"1\" /><path clip-path=\"url(#clip980)\" d=\"M92.1493 554.213 L99.7882 554.213 L99.7882 527.848 L91.478 529.514 L91.478 525.255 L99.7419 523.589 L104.418 523.589 L104.418 554.213 L112.057 554.213 L112.057 558.149 L92.1493 558.149 L92.1493 554.213 Z\" fill=\"#000000\" fill-rule=\"evenodd\" fill-opacity=\"1\" /><path clip-path=\"url(#clip980)\" d=\"M95.7373 335.735 L112.057 335.735 L112.057 339.67 L90.1123 339.67 L90.1123 335.735 Q92.7743 332.981 97.3576 328.351 Q101.964 323.698 103.145 322.356 Q105.39 319.833 106.27 318.096 Q107.172 316.337 107.172 314.647 Q107.172 311.893 105.228 310.157 Q103.307 308.421 100.205 308.421 Q98.0058 308.421 95.5521 309.184 Q93.1215 309.948 90.3438 311.499 L90.3438 306.777 Q93.1678 305.643 95.6215 305.064 Q98.0752 304.485 100.112 304.485 Q105.483 304.485 108.677 307.171 Q111.871 309.856 111.871 314.346 Q111.871 316.476 111.061 318.397 Q110.274 320.296 108.168 322.888 Q107.589 323.559 104.487 326.777 Q101.385 329.971 95.7373 335.735 Z\" fill=\"#000000\" fill-rule=\"evenodd\" fill-opacity=\"1\" /><path clip-path=\"url(#clip980)\" d=\"M104.927 102.558 Q108.283 103.276 110.158 105.544 Q112.057 107.813 112.057 111.146 Q112.057 116.262 108.538 119.063 Q105.02 121.864 98.5382 121.864 Q96.3623 121.864 94.0475 121.424 Q91.7558 121.007 89.3021 120.151 L89.3021 115.637 Q91.2465 116.771 93.5613 117.35 Q95.8761 117.928 98.3993 117.928 Q102.797 117.928 105.089 116.192 Q107.404 114.456 107.404 111.146 Q107.404 108.091 105.251 106.378 Q103.121 104.642 99.3021 104.642 L95.2743 104.642 L95.2743 100.799 L99.4872 100.799 Q102.936 100.799 104.765 99.4332 Q106.594 98.0443 106.594 95.4518 Q106.594 92.7897 104.696 91.3777 Q102.821 89.9425 99.3021 89.9425 Q97.3808 89.9425 95.1817 90.3592 Q92.9826 90.7759 90.3438 91.6555 L90.3438 87.4888 Q93.0058 86.7481 95.3206 86.3777 Q97.6585 86.0074 99.7187 86.0074 Q105.043 86.0074 108.145 88.4379 Q111.246 90.8453 111.246 94.9656 Q111.246 97.836 109.603 99.8267 Q107.959 101.794 104.927 102.558 Z\" fill=\"#000000\" fill-rule=\"evenodd\" fill-opacity=\"1\" /><polyline clip-path=\"url(#clip982)\" style=\"stroke:#009af9; stroke-linecap:butt; stroke-linejoin:round; stroke-width:4; stroke-opacity:1; fill:none\" points=\"\n",
       "  210.454,92.8738 359.018,208.113 507.583,418.665 656.148,688.125 804.712,969.899 953.277,1215.27 1101.84,1381.8 1250.41,1440.71 1398.97,1381.8 1547.54,1215.27 \n",
       "  1696.1,969.899 1844.66,688.125 1993.23,418.665 2141.79,208.113 2290.36,92.8738 \n",
       "  \"/>\n",
       "<circle clip-path=\"url(#clip982)\" cx=\"210.454\" cy=\"92.8738\" r=\"14\" fill=\"#009af9\" fill-rule=\"evenodd\" fill-opacity=\"1\" stroke=\"#000000\" stroke-opacity=\"1\" stroke-width=\"3.2\"/>\n",
       "<circle clip-path=\"url(#clip982)\" cx=\"359.018\" cy=\"208.113\" r=\"14\" fill=\"#009af9\" fill-rule=\"evenodd\" fill-opacity=\"1\" stroke=\"#000000\" stroke-opacity=\"1\" stroke-width=\"3.2\"/>\n",
       "<circle clip-path=\"url(#clip982)\" cx=\"507.583\" cy=\"418.665\" r=\"14\" fill=\"#009af9\" fill-rule=\"evenodd\" fill-opacity=\"1\" stroke=\"#000000\" stroke-opacity=\"1\" stroke-width=\"3.2\"/>\n",
       "<circle clip-path=\"url(#clip982)\" cx=\"656.148\" cy=\"688.125\" r=\"14\" fill=\"#009af9\" fill-rule=\"evenodd\" fill-opacity=\"1\" stroke=\"#000000\" stroke-opacity=\"1\" stroke-width=\"3.2\"/>\n",
       "<circle clip-path=\"url(#clip982)\" cx=\"804.712\" cy=\"969.899\" r=\"14\" fill=\"#009af9\" fill-rule=\"evenodd\" fill-opacity=\"1\" stroke=\"#000000\" stroke-opacity=\"1\" stroke-width=\"3.2\"/>\n",
       "<circle clip-path=\"url(#clip982)\" cx=\"953.277\" cy=\"1215.27\" r=\"14\" fill=\"#009af9\" fill-rule=\"evenodd\" fill-opacity=\"1\" stroke=\"#000000\" stroke-opacity=\"1\" stroke-width=\"3.2\"/>\n",
       "<circle clip-path=\"url(#clip982)\" cx=\"1101.84\" cy=\"1381.8\" r=\"14\" fill=\"#009af9\" fill-rule=\"evenodd\" fill-opacity=\"1\" stroke=\"#000000\" stroke-opacity=\"1\" stroke-width=\"3.2\"/>\n",
       "<circle clip-path=\"url(#clip982)\" cx=\"1250.41\" cy=\"1440.71\" r=\"14\" fill=\"#009af9\" fill-rule=\"evenodd\" fill-opacity=\"1\" stroke=\"#000000\" stroke-opacity=\"1\" stroke-width=\"3.2\"/>\n",
       "<circle clip-path=\"url(#clip982)\" cx=\"1398.97\" cy=\"1381.8\" r=\"14\" fill=\"#009af9\" fill-rule=\"evenodd\" fill-opacity=\"1\" stroke=\"#000000\" stroke-opacity=\"1\" stroke-width=\"3.2\"/>\n",
       "<circle clip-path=\"url(#clip982)\" cx=\"1547.54\" cy=\"1215.27\" r=\"14\" fill=\"#009af9\" fill-rule=\"evenodd\" fill-opacity=\"1\" stroke=\"#000000\" stroke-opacity=\"1\" stroke-width=\"3.2\"/>\n",
       "<circle clip-path=\"url(#clip982)\" cx=\"1696.1\" cy=\"969.899\" r=\"14\" fill=\"#009af9\" fill-rule=\"evenodd\" fill-opacity=\"1\" stroke=\"#000000\" stroke-opacity=\"1\" stroke-width=\"3.2\"/>\n",
       "<circle clip-path=\"url(#clip982)\" cx=\"1844.66\" cy=\"688.125\" r=\"14\" fill=\"#009af9\" fill-rule=\"evenodd\" fill-opacity=\"1\" stroke=\"#000000\" stroke-opacity=\"1\" stroke-width=\"3.2\"/>\n",
       "<circle clip-path=\"url(#clip982)\" cx=\"1993.23\" cy=\"418.665\" r=\"14\" fill=\"#009af9\" fill-rule=\"evenodd\" fill-opacity=\"1\" stroke=\"#000000\" stroke-opacity=\"1\" stroke-width=\"3.2\"/>\n",
       "<circle clip-path=\"url(#clip982)\" cx=\"2141.79\" cy=\"208.113\" r=\"14\" fill=\"#009af9\" fill-rule=\"evenodd\" fill-opacity=\"1\" stroke=\"#000000\" stroke-opacity=\"1\" stroke-width=\"3.2\"/>\n",
       "<circle clip-path=\"url(#clip982)\" cx=\"2290.36\" cy=\"92.8738\" r=\"14\" fill=\"#009af9\" fill-rule=\"evenodd\" fill-opacity=\"1\" stroke=\"#000000\" stroke-opacity=\"1\" stroke-width=\"3.2\"/>\n",
       "<polyline clip-path=\"url(#clip982)\" style=\"stroke:#e26f46; stroke-linecap:butt; stroke-linejoin:round; stroke-width:4; stroke-opacity:1; fill:none\" points=\"\n",
       "  210.454,87.9763 359.018,204.062 507.583,416.162 656.148,687.601 804.712,971.446 953.277,1218.62 1101.84,1386.38 1250.41,1445.72 1398.97,1386.38 1547.54,1218.62 \n",
       "  1696.1,971.446 1844.66,687.601 1993.23,416.162 2141.79,204.062 2290.36,87.9763 \n",
       "  \"/>\n",
       "<path clip-path=\"url(#clip980)\" d=\"\n",
       "M1981.87 276.658 L2279.27 276.658 L2279.27 95.2176 L1981.87 95.2176  Z\n",
       "  \" fill=\"#ffffff\" fill-rule=\"evenodd\" fill-opacity=\"1\"/>\n",
       "<polyline clip-path=\"url(#clip980)\" style=\"stroke:#000000; stroke-linecap:butt; stroke-linejoin:round; stroke-width:4; stroke-opacity:1; fill:none\" points=\"\n",
       "  1981.87,276.658 2279.27,276.658 2279.27,95.2176 1981.87,95.2176 1981.87,276.658 \n",
       "  \"/>\n",
       "<polyline clip-path=\"url(#clip980)\" style=\"stroke:#009af9; stroke-linecap:butt; stroke-linejoin:round; stroke-width:4; stroke-opacity:1; fill:none\" points=\"\n",
       "  2006.37,155.698 2153.35,155.698 \n",
       "  \"/>\n",
       "<circle clip-path=\"url(#clip980)\" cx=\"2079.86\" cy=\"155.698\" r=\"23\" fill=\"#009af9\" fill-rule=\"evenodd\" fill-opacity=\"1\" stroke=\"#000000\" stroke-opacity=\"1\" stroke-width=\"5.12\"/>\n",
       "<path clip-path=\"url(#clip980)\" d=\"M2191.68 175.385 Q2189.88 180.015 2188.17 181.427 Q2186.45 182.839 2183.58 182.839 L2180.18 182.839 L2180.18 179.274 L2182.68 179.274 Q2184.44 179.274 2185.41 178.44 Q2186.38 177.607 2187.56 174.505 L2188.33 172.561 L2177.84 147.052 L2182.36 147.052 L2190.46 167.329 L2198.56 147.052 L2203.07 147.052 L2191.68 175.385 Z\" fill=\"#000000\" fill-rule=\"evenodd\" fill-opacity=\"1\" /><path clip-path=\"url(#clip980)\" d=\"M2210.37 169.042 L2218 169.042 L2218 142.677 L2209.69 144.343 L2209.69 140.084 L2217.96 138.418 L2222.63 138.418 L2222.63 169.042 L2230.27 169.042 L2230.27 172.978 L2210.37 172.978 L2210.37 169.042 Z\" fill=\"#000000\" fill-rule=\"evenodd\" fill-opacity=\"1\" /><polyline clip-path=\"url(#clip980)\" style=\"stroke:#e26f46; stroke-linecap:butt; stroke-linejoin:round; stroke-width:4; stroke-opacity:1; fill:none\" points=\"\n",
       "  2006.37,216.178 2153.35,216.178 \n",
       "  \"/>\n",
       "<path clip-path=\"url(#clip980)\" d=\"M2191.68 235.865 Q2189.88 240.495 2188.17 241.907 Q2186.45 243.319 2183.58 243.319 L2180.18 243.319 L2180.18 239.754 L2182.68 239.754 Q2184.44 239.754 2185.41 238.92 Q2186.38 238.087 2187.56 234.985 L2188.33 233.041 L2177.84 207.532 L2182.36 207.532 L2190.46 227.809 L2198.56 207.532 L2203.07 207.532 L2191.68 235.865 Z\" fill=\"#000000\" fill-rule=\"evenodd\" fill-opacity=\"1\" /><path clip-path=\"url(#clip980)\" d=\"M2213.58 229.522 L2229.9 229.522 L2229.9 233.458 L2207.96 233.458 L2207.96 229.522 Q2210.62 226.768 2215.2 222.138 Q2219.81 217.485 2220.99 216.143 Q2223.24 213.62 2224.12 211.884 Q2225.02 210.124 2225.02 208.435 Q2225.02 205.68 2223.07 203.944 Q2221.15 202.208 2218.05 202.208 Q2215.85 202.208 2213.4 202.972 Q2210.97 203.735 2208.19 205.286 L2208.19 200.564 Q2211.01 199.43 2213.47 198.851 Q2215.92 198.273 2217.96 198.273 Q2223.33 198.273 2226.52 200.958 Q2229.72 203.643 2229.72 208.134 Q2229.72 210.263 2228.91 212.185 Q2228.12 214.083 2226.01 216.675 Q2225.43 217.347 2222.33 220.564 Q2219.23 223.759 2213.58 229.522 Z\" fill=\"#000000\" fill-rule=\"evenodd\" fill-opacity=\"1\" /></svg>\n"
      ]
     },
     "execution_count": 45,
     "metadata": {},
     "output_type": "execute_result"
    }
   ],
   "source": [
    "plot(∂u.grid.xᶜ[1:n], ∂u.data[1:n], marker=:circle)\n",
    "plot!(xᶜ[1:n], ∂udata_theoretical[1:n])"
   ]
  },
  {
   "cell_type": "code",
   "execution_count": 46,
   "id": "7cef9995-1a09-466d-99ec-f42f5e104dd8",
   "metadata": {},
   "outputs": [
    {
     "data": {
      "image/svg+xml": [
       "<?xml version=\"1.0\" encoding=\"utf-8\"?>\n",
       "<svg xmlns=\"http://www.w3.org/2000/svg\" xmlns:xlink=\"http://www.w3.org/1999/xlink\" width=\"600\" height=\"400\" viewBox=\"0 0 2400 1600\">\n",
       "<defs>\n",
       "  <clipPath id=\"clip020\">\n",
       "    <rect x=\"0\" y=\"0\" width=\"2400\" height=\"1600\"/>\n",
       "  </clipPath>\n",
       "</defs>\n",
       "<path clip-path=\"url(#clip020)\" d=\"\n",
       "M0 1600 L2400 1600 L2400 0 L0 0  Z\n",
       "  \" fill=\"#ffffff\" fill-rule=\"evenodd\" fill-opacity=\"1\"/>\n",
       "<defs>\n",
       "  <clipPath id=\"clip021\">\n",
       "    <rect x=\"480\" y=\"0\" width=\"1681\" height=\"1600\"/>\n",
       "  </clipPath>\n",
       "</defs>\n",
       "<path clip-path=\"url(#clip020)\" d=\"\n",
       "M193.936 1486.45 L2352.76 1486.45 L2352.76 47.2441 L193.936 47.2441  Z\n",
       "  \" fill=\"#ffffff\" fill-rule=\"evenodd\" fill-opacity=\"1\"/>\n",
       "<defs>\n",
       "  <clipPath id=\"clip022\">\n",
       "    <rect x=\"193\" y=\"47\" width=\"2160\" height=\"1440\"/>\n",
       "  </clipPath>\n",
       "</defs>\n",
       "<polyline clip-path=\"url(#clip022)\" style=\"stroke:#000000; stroke-linecap:butt; stroke-linejoin:round; stroke-width:2; stroke-opacity:0.1; fill:none\" points=\"\n",
       "  455.06,1486.45 455.06,47.2441 \n",
       "  \"/>\n",
       "<polyline clip-path=\"url(#clip022)\" style=\"stroke:#000000; stroke-linecap:butt; stroke-linejoin:round; stroke-width:2; stroke-opacity:0.1; fill:none\" points=\"\n",
       "  727.822,1486.45 727.822,47.2441 \n",
       "  \"/>\n",
       "<polyline clip-path=\"url(#clip022)\" style=\"stroke:#000000; stroke-linecap:butt; stroke-linejoin:round; stroke-width:2; stroke-opacity:0.1; fill:none\" points=\"\n",
       "  1000.58,1486.45 1000.58,47.2441 \n",
       "  \"/>\n",
       "<polyline clip-path=\"url(#clip022)\" style=\"stroke:#000000; stroke-linecap:butt; stroke-linejoin:round; stroke-width:2; stroke-opacity:0.1; fill:none\" points=\"\n",
       "  1273.35,1486.45 1273.35,47.2441 \n",
       "  \"/>\n",
       "<polyline clip-path=\"url(#clip022)\" style=\"stroke:#000000; stroke-linecap:butt; stroke-linejoin:round; stroke-width:2; stroke-opacity:0.1; fill:none\" points=\"\n",
       "  1546.11,1486.45 1546.11,47.2441 \n",
       "  \"/>\n",
       "<polyline clip-path=\"url(#clip022)\" style=\"stroke:#000000; stroke-linecap:butt; stroke-linejoin:round; stroke-width:2; stroke-opacity:0.1; fill:none\" points=\"\n",
       "  1818.87,1486.45 1818.87,47.2441 \n",
       "  \"/>\n",
       "<polyline clip-path=\"url(#clip022)\" style=\"stroke:#000000; stroke-linecap:butt; stroke-linejoin:round; stroke-width:2; stroke-opacity:0.1; fill:none\" points=\"\n",
       "  2091.63,1486.45 2091.63,47.2441 \n",
       "  \"/>\n",
       "<polyline clip-path=\"url(#clip020)\" style=\"stroke:#000000; stroke-linecap:butt; stroke-linejoin:round; stroke-width:4; stroke-opacity:1; fill:none\" points=\"\n",
       "  193.936,1486.45 2352.76,1486.45 \n",
       "  \"/>\n",
       "<polyline clip-path=\"url(#clip020)\" style=\"stroke:#000000; stroke-linecap:butt; stroke-linejoin:round; stroke-width:4; stroke-opacity:1; fill:none\" points=\"\n",
       "  455.06,1486.45 455.06,1469.18 \n",
       "  \"/>\n",
       "<polyline clip-path=\"url(#clip020)\" style=\"stroke:#000000; stroke-linecap:butt; stroke-linejoin:round; stroke-width:4; stroke-opacity:1; fill:none\" points=\"\n",
       "  727.822,1486.45 727.822,1469.18 \n",
       "  \"/>\n",
       "<polyline clip-path=\"url(#clip020)\" style=\"stroke:#000000; stroke-linecap:butt; stroke-linejoin:round; stroke-width:4; stroke-opacity:1; fill:none\" points=\"\n",
       "  1000.58,1486.45 1000.58,1469.18 \n",
       "  \"/>\n",
       "<polyline clip-path=\"url(#clip020)\" style=\"stroke:#000000; stroke-linecap:butt; stroke-linejoin:round; stroke-width:4; stroke-opacity:1; fill:none\" points=\"\n",
       "  1273.35,1486.45 1273.35,1469.18 \n",
       "  \"/>\n",
       "<polyline clip-path=\"url(#clip020)\" style=\"stroke:#000000; stroke-linecap:butt; stroke-linejoin:round; stroke-width:4; stroke-opacity:1; fill:none\" points=\"\n",
       "  1546.11,1486.45 1546.11,1469.18 \n",
       "  \"/>\n",
       "<polyline clip-path=\"url(#clip020)\" style=\"stroke:#000000; stroke-linecap:butt; stroke-linejoin:round; stroke-width:4; stroke-opacity:1; fill:none\" points=\"\n",
       "  1818.87,1486.45 1818.87,1469.18 \n",
       "  \"/>\n",
       "<polyline clip-path=\"url(#clip020)\" style=\"stroke:#000000; stroke-linecap:butt; stroke-linejoin:round; stroke-width:4; stroke-opacity:1; fill:none\" points=\"\n",
       "  2091.63,1486.45 2091.63,1469.18 \n",
       "  \"/>\n",
       "<path clip-path=\"url(#clip020)\" d=\"M417.861 1515.64 Q414.25 1515.64 412.421 1519.2 Q410.616 1522.75 410.616 1529.87 Q410.616 1536.98 412.421 1540.55 Q414.25 1544.09 417.861 1544.09 Q421.495 1544.09 423.301 1540.55 Q425.13 1536.98 425.13 1529.87 Q425.13 1522.75 423.301 1519.2 Q421.495 1515.64 417.861 1515.64 M417.861 1511.93 Q423.671 1511.93 426.727 1516.54 Q429.806 1521.12 429.806 1529.87 Q429.806 1538.6 426.727 1543.21 Q423.671 1547.79 417.861 1547.79 Q412.051 1547.79 408.972 1543.21 Q405.917 1538.6 405.917 1529.87 Q405.917 1521.12 408.972 1516.54 Q412.051 1511.93 417.861 1511.93 Z\" fill=\"#000000\" fill-rule=\"evenodd\" fill-opacity=\"1\" /><path clip-path=\"url(#clip020)\" d=\"M438.023 1541.24 L442.907 1541.24 L442.907 1547.12 L438.023 1547.12 L438.023 1541.24 Z\" fill=\"#000000\" fill-rule=\"evenodd\" fill-opacity=\"1\" /><path clip-path=\"url(#clip020)\" d=\"M457.12 1543.18 L473.44 1543.18 L473.44 1547.12 L451.495 1547.12 L451.495 1543.18 Q454.157 1540.43 458.741 1535.8 Q463.347 1531.15 464.528 1529.81 Q466.773 1527.28 467.653 1525.55 Q468.555 1523.79 468.555 1522.1 Q468.555 1519.34 466.611 1517.61 Q464.69 1515.87 461.588 1515.87 Q459.389 1515.87 456.935 1516.63 Q454.505 1517.4 451.727 1518.95 L451.727 1514.23 Q454.551 1513.09 457.005 1512.51 Q459.458 1511.93 461.495 1511.93 Q466.866 1511.93 470.06 1514.62 Q473.254 1517.31 473.254 1521.8 Q473.254 1523.93 472.444 1525.85 Q471.657 1527.74 469.551 1530.34 Q468.972 1531.01 465.87 1534.23 Q462.768 1537.42 457.12 1543.18 Z\" fill=\"#000000\" fill-rule=\"evenodd\" fill-opacity=\"1\" /><path clip-path=\"url(#clip020)\" d=\"M483.301 1512.56 L501.657 1512.56 L501.657 1516.5 L487.583 1516.5 L487.583 1524.97 Q488.602 1524.62 489.62 1524.46 Q490.639 1524.27 491.657 1524.27 Q497.444 1524.27 500.824 1527.44 Q504.203 1530.62 504.203 1536.03 Q504.203 1541.61 500.731 1544.71 Q497.259 1547.79 490.94 1547.79 Q488.764 1547.79 486.495 1547.42 Q484.25 1547.05 481.842 1546.31 L481.842 1541.61 Q483.926 1542.74 486.148 1543.3 Q488.37 1543.86 490.847 1543.86 Q494.852 1543.86 497.19 1541.75 Q499.527 1539.64 499.527 1536.03 Q499.527 1532.42 497.19 1530.31 Q494.852 1528.21 490.847 1528.21 Q488.972 1528.21 487.097 1528.62 Q485.245 1529.04 483.301 1529.92 L483.301 1512.56 Z\" fill=\"#000000\" fill-rule=\"evenodd\" fill-opacity=\"1\" /><path clip-path=\"url(#clip020)\" d=\"M690.125 1515.64 Q686.514 1515.64 684.686 1519.2 Q682.88 1522.75 682.88 1529.87 Q682.88 1536.98 684.686 1540.55 Q686.514 1544.09 690.125 1544.09 Q693.76 1544.09 695.565 1540.55 Q697.394 1536.98 697.394 1529.87 Q697.394 1522.75 695.565 1519.2 Q693.76 1515.64 690.125 1515.64 M690.125 1511.93 Q695.936 1511.93 698.991 1516.54 Q702.07 1521.12 702.07 1529.87 Q702.07 1538.6 698.991 1543.21 Q695.936 1547.79 690.125 1547.79 Q684.315 1547.79 681.237 1543.21 Q678.181 1538.6 678.181 1529.87 Q678.181 1521.12 681.237 1516.54 Q684.315 1511.93 690.125 1511.93 Z\" fill=\"#000000\" fill-rule=\"evenodd\" fill-opacity=\"1\" /><path clip-path=\"url(#clip020)\" d=\"M710.287 1541.24 L715.172 1541.24 L715.172 1547.12 L710.287 1547.12 L710.287 1541.24 Z\" fill=\"#000000\" fill-rule=\"evenodd\" fill-opacity=\"1\" /><path clip-path=\"url(#clip020)\" d=\"M725.403 1512.56 L743.759 1512.56 L743.759 1516.5 L729.685 1516.5 L729.685 1524.97 Q730.704 1524.62 731.722 1524.46 Q732.741 1524.27 733.76 1524.27 Q739.547 1524.27 742.926 1527.44 Q746.306 1530.62 746.306 1536.03 Q746.306 1541.61 742.834 1544.71 Q739.361 1547.79 733.042 1547.79 Q730.866 1547.79 728.598 1547.42 Q726.352 1547.05 723.945 1546.31 L723.945 1541.61 Q726.028 1542.74 728.25 1543.3 Q730.473 1543.86 732.949 1543.86 Q736.954 1543.86 739.292 1541.75 Q741.63 1539.64 741.63 1536.03 Q741.63 1532.42 739.292 1530.31 Q736.954 1528.21 732.949 1528.21 Q731.074 1528.21 729.199 1528.62 Q727.348 1529.04 725.403 1529.92 L725.403 1512.56 Z\" fill=\"#000000\" fill-rule=\"evenodd\" fill-opacity=\"1\" /><path clip-path=\"url(#clip020)\" d=\"M765.519 1515.64 Q761.908 1515.64 760.079 1519.2 Q758.273 1522.75 758.273 1529.87 Q758.273 1536.98 760.079 1540.55 Q761.908 1544.09 765.519 1544.09 Q769.153 1544.09 770.958 1540.55 Q772.787 1536.98 772.787 1529.87 Q772.787 1522.75 770.958 1519.2 Q769.153 1515.64 765.519 1515.64 M765.519 1511.93 Q771.329 1511.93 774.384 1516.54 Q777.463 1521.12 777.463 1529.87 Q777.463 1538.6 774.384 1543.21 Q771.329 1547.79 765.519 1547.79 Q759.708 1547.79 756.63 1543.21 Q753.574 1538.6 753.574 1529.87 Q753.574 1521.12 756.63 1516.54 Q759.708 1511.93 765.519 1511.93 Z\" fill=\"#000000\" fill-rule=\"evenodd\" fill-opacity=\"1\" /><path clip-path=\"url(#clip020)\" d=\"M963.385 1515.64 Q959.774 1515.64 957.945 1519.2 Q956.14 1522.75 956.14 1529.87 Q956.14 1536.98 957.945 1540.55 Q959.774 1544.09 963.385 1544.09 Q967.019 1544.09 968.825 1540.55 Q970.654 1536.98 970.654 1529.87 Q970.654 1522.75 968.825 1519.2 Q967.019 1515.64 963.385 1515.64 M963.385 1511.93 Q969.195 1511.93 972.251 1516.54 Q975.33 1521.12 975.33 1529.87 Q975.33 1538.6 972.251 1543.21 Q969.195 1547.79 963.385 1547.79 Q957.575 1547.79 954.496 1543.21 Q951.441 1538.6 951.441 1529.87 Q951.441 1521.12 954.496 1516.54 Q957.575 1511.93 963.385 1511.93 Z\" fill=\"#000000\" fill-rule=\"evenodd\" fill-opacity=\"1\" /><path clip-path=\"url(#clip020)\" d=\"M983.547 1541.24 L988.431 1541.24 L988.431 1547.12 L983.547 1547.12 L983.547 1541.24 Z\" fill=\"#000000\" fill-rule=\"evenodd\" fill-opacity=\"1\" /><path clip-path=\"url(#clip020)\" d=\"M997.436 1512.56 L1019.66 1512.56 L1019.66 1514.55 L1007.11 1547.12 L1002.23 1547.12 L1014.03 1516.5 L997.436 1516.5 L997.436 1512.56 Z\" fill=\"#000000\" fill-rule=\"evenodd\" fill-opacity=\"1\" /><path clip-path=\"url(#clip020)\" d=\"M1028.82 1512.56 L1047.18 1512.56 L1047.18 1516.5 L1033.11 1516.5 L1033.11 1524.97 Q1034.13 1524.62 1035.14 1524.46 Q1036.16 1524.27 1037.18 1524.27 Q1042.97 1524.27 1046.35 1527.44 Q1049.73 1530.62 1049.73 1536.03 Q1049.73 1541.61 1046.26 1544.71 Q1042.78 1547.79 1036.46 1547.79 Q1034.29 1547.79 1032.02 1547.42 Q1029.77 1547.05 1027.37 1546.31 L1027.37 1541.61 Q1029.45 1542.74 1031.67 1543.3 Q1033.89 1543.86 1036.37 1543.86 Q1040.38 1543.86 1042.71 1541.75 Q1045.05 1539.64 1045.05 1536.03 Q1045.05 1532.42 1042.71 1530.31 Q1040.38 1528.21 1036.37 1528.21 Q1034.5 1528.21 1032.62 1528.62 Q1030.77 1529.04 1028.82 1529.92 L1028.82 1512.56 Z\" fill=\"#000000\" fill-rule=\"evenodd\" fill-opacity=\"1\" /><path clip-path=\"url(#clip020)\" d=\"M1225.42 1543.18 L1233.06 1543.18 L1233.06 1516.82 L1224.75 1518.49 L1224.75 1514.23 L1233.01 1512.56 L1237.69 1512.56 L1237.69 1543.18 L1245.33 1543.18 L1245.33 1547.12 L1225.42 1547.12 L1225.42 1543.18 Z\" fill=\"#000000\" fill-rule=\"evenodd\" fill-opacity=\"1\" /><path clip-path=\"url(#clip020)\" d=\"M1254.77 1541.24 L1259.65 1541.24 L1259.65 1547.12 L1254.77 1547.12 L1254.77 1541.24 Z\" fill=\"#000000\" fill-rule=\"evenodd\" fill-opacity=\"1\" /><path clip-path=\"url(#clip020)\" d=\"M1279.84 1515.64 Q1276.23 1515.64 1274.4 1519.2 Q1272.59 1522.75 1272.59 1529.87 Q1272.59 1536.98 1274.4 1540.55 Q1276.23 1544.09 1279.84 1544.09 Q1283.47 1544.09 1285.28 1540.55 Q1287.11 1536.98 1287.11 1529.87 Q1287.11 1522.75 1285.28 1519.2 Q1283.47 1515.64 1279.84 1515.64 M1279.84 1511.93 Q1285.65 1511.93 1288.7 1516.54 Q1291.78 1521.12 1291.78 1529.87 Q1291.78 1538.6 1288.7 1543.21 Q1285.65 1547.79 1279.84 1547.79 Q1274.03 1547.79 1270.95 1543.21 Q1267.89 1538.6 1267.89 1529.87 Q1267.89 1521.12 1270.95 1516.54 Q1274.03 1511.93 1279.84 1511.93 Z\" fill=\"#000000\" fill-rule=\"evenodd\" fill-opacity=\"1\" /><path clip-path=\"url(#clip020)\" d=\"M1310 1515.64 Q1306.39 1515.64 1304.56 1519.2 Q1302.76 1522.75 1302.76 1529.87 Q1302.76 1536.98 1304.56 1540.55 Q1306.39 1544.09 1310 1544.09 Q1313.64 1544.09 1315.44 1540.55 Q1317.27 1536.98 1317.27 1529.87 Q1317.27 1522.75 1315.44 1519.2 Q1313.64 1515.64 1310 1515.64 M1310 1511.93 Q1315.81 1511.93 1318.87 1516.54 Q1321.95 1521.12 1321.95 1529.87 Q1321.95 1538.6 1318.87 1543.21 Q1315.81 1547.79 1310 1547.79 Q1304.19 1547.79 1301.11 1543.21 Q1298.06 1538.6 1298.06 1529.87 Q1298.06 1521.12 1301.11 1516.54 Q1304.19 1511.93 1310 1511.93 Z\" fill=\"#000000\" fill-rule=\"evenodd\" fill-opacity=\"1\" /><path clip-path=\"url(#clip020)\" d=\"M1498.68 1543.18 L1506.32 1543.18 L1506.32 1516.82 L1498.01 1518.49 L1498.01 1514.23 L1506.27 1512.56 L1510.95 1512.56 L1510.95 1543.18 L1518.58 1543.18 L1518.58 1547.12 L1498.68 1547.12 L1498.68 1543.18 Z\" fill=\"#000000\" fill-rule=\"evenodd\" fill-opacity=\"1\" /><path clip-path=\"url(#clip020)\" d=\"M1528.03 1541.24 L1532.91 1541.24 L1532.91 1547.12 L1528.03 1547.12 L1528.03 1541.24 Z\" fill=\"#000000\" fill-rule=\"evenodd\" fill-opacity=\"1\" /><path clip-path=\"url(#clip020)\" d=\"M1547.13 1543.18 L1563.45 1543.18 L1563.45 1547.12 L1541.5 1547.12 L1541.5 1543.18 Q1544.16 1540.43 1548.75 1535.8 Q1553.35 1531.15 1554.53 1529.81 Q1556.78 1527.28 1557.66 1525.55 Q1558.56 1523.79 1558.56 1522.1 Q1558.56 1519.34 1556.62 1517.61 Q1554.7 1515.87 1551.59 1515.87 Q1549.39 1515.87 1546.94 1516.63 Q1544.51 1517.4 1541.73 1518.95 L1541.73 1514.23 Q1544.56 1513.09 1547.01 1512.51 Q1549.46 1511.93 1551.5 1511.93 Q1556.87 1511.93 1560.07 1514.62 Q1563.26 1517.31 1563.26 1521.8 Q1563.26 1523.93 1562.45 1525.85 Q1561.66 1527.74 1559.56 1530.34 Q1558.98 1531.01 1555.88 1534.23 Q1552.77 1537.42 1547.13 1543.18 Z\" fill=\"#000000\" fill-rule=\"evenodd\" fill-opacity=\"1\" /><path clip-path=\"url(#clip020)\" d=\"M1573.31 1512.56 L1591.66 1512.56 L1591.66 1516.5 L1577.59 1516.5 L1577.59 1524.97 Q1578.61 1524.62 1579.63 1524.46 Q1580.64 1524.27 1581.66 1524.27 Q1587.45 1524.27 1590.83 1527.44 Q1594.21 1530.62 1594.21 1536.03 Q1594.21 1541.61 1590.74 1544.71 Q1587.27 1547.79 1580.95 1547.79 Q1578.77 1547.79 1576.5 1547.42 Q1574.26 1547.05 1571.85 1546.31 L1571.85 1541.61 Q1573.93 1542.74 1576.15 1543.3 Q1578.38 1543.86 1580.85 1543.86 Q1584.86 1543.86 1587.2 1541.75 Q1589.53 1539.64 1589.53 1536.03 Q1589.53 1532.42 1587.2 1530.31 Q1584.86 1528.21 1580.85 1528.21 Q1578.98 1528.21 1577.1 1528.62 Q1575.25 1529.04 1573.31 1529.92 L1573.31 1512.56 Z\" fill=\"#000000\" fill-rule=\"evenodd\" fill-opacity=\"1\" /><path clip-path=\"url(#clip020)\" d=\"M1770.94 1543.18 L1778.58 1543.18 L1778.58 1516.82 L1770.27 1518.49 L1770.27 1514.23 L1778.53 1512.56 L1783.21 1512.56 L1783.21 1543.18 L1790.85 1543.18 L1790.85 1547.12 L1770.94 1547.12 L1770.94 1543.18 Z\" fill=\"#000000\" fill-rule=\"evenodd\" fill-opacity=\"1\" /><path clip-path=\"url(#clip020)\" d=\"M1800.29 1541.24 L1805.18 1541.24 L1805.18 1547.12 L1800.29 1547.12 L1800.29 1541.24 Z\" fill=\"#000000\" fill-rule=\"evenodd\" fill-opacity=\"1\" /><path clip-path=\"url(#clip020)\" d=\"M1815.41 1512.56 L1833.77 1512.56 L1833.77 1516.5 L1819.69 1516.5 L1819.69 1524.97 Q1820.71 1524.62 1821.73 1524.46 Q1822.75 1524.27 1823.77 1524.27 Q1829.55 1524.27 1832.93 1527.44 Q1836.31 1530.62 1836.31 1536.03 Q1836.31 1541.61 1832.84 1544.71 Q1829.37 1547.79 1823.05 1547.79 Q1820.87 1547.79 1818.6 1547.42 Q1816.36 1547.05 1813.95 1546.31 L1813.95 1541.61 Q1816.03 1542.74 1818.26 1543.3 Q1820.48 1543.86 1822.96 1543.86 Q1826.96 1543.86 1829.3 1541.75 Q1831.64 1539.64 1831.64 1536.03 Q1831.64 1532.42 1829.3 1530.31 Q1826.96 1528.21 1822.96 1528.21 Q1821.08 1528.21 1819.21 1528.62 Q1817.35 1529.04 1815.41 1529.92 L1815.41 1512.56 Z\" fill=\"#000000\" fill-rule=\"evenodd\" fill-opacity=\"1\" /><path clip-path=\"url(#clip020)\" d=\"M1855.52 1515.64 Q1851.91 1515.64 1850.08 1519.2 Q1848.28 1522.75 1848.28 1529.87 Q1848.28 1536.98 1850.08 1540.55 Q1851.91 1544.09 1855.52 1544.09 Q1859.16 1544.09 1860.96 1540.55 Q1862.79 1536.98 1862.79 1529.87 Q1862.79 1522.75 1860.96 1519.2 Q1859.16 1515.64 1855.52 1515.64 M1855.52 1511.93 Q1861.33 1511.93 1864.39 1516.54 Q1867.47 1521.12 1867.47 1529.87 Q1867.47 1538.6 1864.39 1543.21 Q1861.33 1547.79 1855.52 1547.79 Q1849.71 1547.79 1846.64 1543.21 Q1843.58 1538.6 1843.58 1529.87 Q1843.58 1521.12 1846.64 1516.54 Q1849.71 1511.93 1855.52 1511.93 Z\" fill=\"#000000\" fill-rule=\"evenodd\" fill-opacity=\"1\" /><path clip-path=\"url(#clip020)\" d=\"M2044.2 1543.18 L2051.84 1543.18 L2051.84 1516.82 L2043.53 1518.49 L2043.53 1514.23 L2051.79 1512.56 L2056.47 1512.56 L2056.47 1543.18 L2064.11 1543.18 L2064.11 1547.12 L2044.2 1547.12 L2044.2 1543.18 Z\" fill=\"#000000\" fill-rule=\"evenodd\" fill-opacity=\"1\" /><path clip-path=\"url(#clip020)\" d=\"M2073.55 1541.24 L2078.44 1541.24 L2078.44 1547.12 L2073.55 1547.12 L2073.55 1541.24 Z\" fill=\"#000000\" fill-rule=\"evenodd\" fill-opacity=\"1\" /><path clip-path=\"url(#clip020)\" d=\"M2087.44 1512.56 L2109.66 1512.56 L2109.66 1514.55 L2097.12 1547.12 L2092.23 1547.12 L2104.04 1516.5 L2087.44 1516.5 L2087.44 1512.56 Z\" fill=\"#000000\" fill-rule=\"evenodd\" fill-opacity=\"1\" /><path clip-path=\"url(#clip020)\" d=\"M2118.83 1512.56 L2137.19 1512.56 L2137.19 1516.5 L2123.11 1516.5 L2123.11 1524.97 Q2124.13 1524.62 2125.15 1524.46 Q2126.17 1524.27 2127.19 1524.27 Q2132.97 1524.27 2136.35 1527.44 Q2139.73 1530.62 2139.73 1536.03 Q2139.73 1541.61 2136.26 1544.71 Q2132.79 1547.79 2126.47 1547.79 Q2124.29 1547.79 2122.03 1547.42 Q2119.78 1547.05 2117.37 1546.31 L2117.37 1541.61 Q2119.46 1542.74 2121.68 1543.3 Q2123.9 1543.86 2126.38 1543.86 Q2130.38 1543.86 2132.72 1541.75 Q2135.06 1539.64 2135.06 1536.03 Q2135.06 1532.42 2132.72 1530.31 Q2130.38 1528.21 2126.38 1528.21 Q2124.5 1528.21 2122.63 1528.62 Q2120.78 1529.04 2118.83 1529.92 L2118.83 1512.56 Z\" fill=\"#000000\" fill-rule=\"evenodd\" fill-opacity=\"1\" /><polyline clip-path=\"url(#clip022)\" style=\"stroke:#000000; stroke-linecap:butt; stroke-linejoin:round; stroke-width:2; stroke-opacity:0.1; fill:none\" points=\"\n",
       "  193.936,1310.05 2352.76,1310.05 \n",
       "  \"/>\n",
       "<polyline clip-path=\"url(#clip022)\" style=\"stroke:#000000; stroke-linecap:butt; stroke-linejoin:round; stroke-width:2; stroke-opacity:0.1; fill:none\" points=\"\n",
       "  193.936,1038.45 2352.76,1038.45 \n",
       "  \"/>\n",
       "<polyline clip-path=\"url(#clip022)\" style=\"stroke:#000000; stroke-linecap:butt; stroke-linejoin:round; stroke-width:2; stroke-opacity:0.1; fill:none\" points=\"\n",
       "  193.936,766.846 2352.76,766.846 \n",
       "  \"/>\n",
       "<polyline clip-path=\"url(#clip022)\" style=\"stroke:#000000; stroke-linecap:butt; stroke-linejoin:round; stroke-width:2; stroke-opacity:0.1; fill:none\" points=\"\n",
       "  193.936,495.244 2352.76,495.244 \n",
       "  \"/>\n",
       "<polyline clip-path=\"url(#clip022)\" style=\"stroke:#000000; stroke-linecap:butt; stroke-linejoin:round; stroke-width:2; stroke-opacity:0.1; fill:none\" points=\"\n",
       "  193.936,223.643 2352.76,223.643 \n",
       "  \"/>\n",
       "<polyline clip-path=\"url(#clip020)\" style=\"stroke:#000000; stroke-linecap:butt; stroke-linejoin:round; stroke-width:4; stroke-opacity:1; fill:none\" points=\"\n",
       "  193.936,1486.45 193.936,47.2441 \n",
       "  \"/>\n",
       "<polyline clip-path=\"url(#clip020)\" style=\"stroke:#000000; stroke-linecap:butt; stroke-linejoin:round; stroke-width:4; stroke-opacity:1; fill:none\" points=\"\n",
       "  193.936,1310.05 219.842,1310.05 \n",
       "  \"/>\n",
       "<polyline clip-path=\"url(#clip020)\" style=\"stroke:#000000; stroke-linecap:butt; stroke-linejoin:round; stroke-width:4; stroke-opacity:1; fill:none\" points=\"\n",
       "  193.936,1038.45 219.842,1038.45 \n",
       "  \"/>\n",
       "<polyline clip-path=\"url(#clip020)\" style=\"stroke:#000000; stroke-linecap:butt; stroke-linejoin:round; stroke-width:4; stroke-opacity:1; fill:none\" points=\"\n",
       "  193.936,766.846 219.842,766.846 \n",
       "  \"/>\n",
       "<polyline clip-path=\"url(#clip020)\" style=\"stroke:#000000; stroke-linecap:butt; stroke-linejoin:round; stroke-width:4; stroke-opacity:1; fill:none\" points=\"\n",
       "  193.936,495.244 219.842,495.244 \n",
       "  \"/>\n",
       "<polyline clip-path=\"url(#clip020)\" style=\"stroke:#000000; stroke-linecap:butt; stroke-linejoin:round; stroke-width:4; stroke-opacity:1; fill:none\" points=\"\n",
       "  193.936,223.643 219.842,223.643 \n",
       "  \"/>\n",
       "<path clip-path=\"url(#clip020)\" d=\"M50.9921 1310.5 L80.6679 1310.5 L80.6679 1314.44 L50.9921 1314.44 L50.9921 1310.5 Z\" fill=\"#000000\" fill-rule=\"evenodd\" fill-opacity=\"1\" /><path clip-path=\"url(#clip020)\" d=\"M90.8067 1292.77 L109.163 1292.77 L109.163 1296.7 L95.0891 1296.7 L95.0891 1305.18 Q96.1076 1304.83 97.1261 1304.67 Q98.1447 1304.48 99.1632 1304.48 Q104.95 1304.48 108.33 1307.65 Q111.709 1310.82 111.709 1316.24 Q111.709 1321.82 108.237 1324.92 Q104.765 1328 98.4456 1328 Q96.2697 1328 94.0012 1327.63 Q91.7558 1327.26 89.3484 1326.52 L89.3484 1321.82 Q91.4317 1322.95 93.6539 1323.51 Q95.8761 1324.07 98.353 1324.07 Q102.358 1324.07 104.696 1321.96 Q107.033 1319.85 107.033 1316.24 Q107.033 1312.63 104.696 1310.52 Q102.358 1308.42 98.353 1308.42 Q96.478 1308.42 94.603 1308.83 Q92.7512 1309.25 90.8067 1310.13 L90.8067 1292.77 Z\" fill=\"#000000\" fill-rule=\"evenodd\" fill-opacity=\"1\" /><path clip-path=\"url(#clip020)\" d=\"M120.922 1321.45 L125.807 1321.45 L125.807 1327.33 L120.922 1327.33 L120.922 1321.45 Z\" fill=\"#000000\" fill-rule=\"evenodd\" fill-opacity=\"1\" /><path clip-path=\"url(#clip020)\" d=\"M145.992 1295.85 Q142.381 1295.85 140.552 1299.41 Q138.746 1302.95 138.746 1310.08 Q138.746 1317.19 140.552 1320.76 Q142.381 1324.3 145.992 1324.3 Q149.626 1324.3 151.431 1320.76 Q153.26 1317.19 153.26 1310.08 Q153.26 1302.95 151.431 1299.41 Q149.626 1295.85 145.992 1295.85 M145.992 1292.14 Q151.802 1292.14 154.857 1296.75 Q157.936 1301.33 157.936 1310.08 Q157.936 1318.81 154.857 1323.42 Q151.802 1328 145.992 1328 Q140.181 1328 137.103 1323.42 Q134.047 1318.81 134.047 1310.08 Q134.047 1301.33 137.103 1296.75 Q140.181 1292.14 145.992 1292.14 Z\" fill=\"#000000\" fill-rule=\"evenodd\" fill-opacity=\"1\" /><path clip-path=\"url(#clip020)\" d=\"M51.9875 1038.9 L81.6633 1038.9 L81.6633 1042.83 L51.9875 1042.83 L51.9875 1038.9 Z\" fill=\"#000000\" fill-rule=\"evenodd\" fill-opacity=\"1\" /><path clip-path=\"url(#clip020)\" d=\"M95.7836 1051.79 L112.103 1051.79 L112.103 1055.73 L90.1586 1055.73 L90.1586 1051.79 Q92.8206 1049.04 97.4039 1044.41 Q102.01 1039.76 103.191 1038.41 Q105.436 1035.89 106.316 1034.15 Q107.219 1032.39 107.219 1030.7 Q107.219 1027.95 105.274 1026.21 Q103.353 1024.48 100.251 1024.48 Q98.0521 1024.48 95.5984 1025.24 Q93.1678 1026.01 90.3901 1027.56 L90.3901 1022.83 Q93.2141 1021.7 95.6678 1021.12 Q98.1215 1020.54 100.159 1020.54 Q105.529 1020.54 108.723 1023.23 Q111.918 1025.91 111.918 1030.4 Q111.918 1032.53 111.108 1034.45 Q110.321 1036.35 108.214 1038.95 Q107.635 1039.62 104.534 1042.83 Q101.432 1046.03 95.7836 1051.79 Z\" fill=\"#000000\" fill-rule=\"evenodd\" fill-opacity=\"1\" /><path clip-path=\"url(#clip020)\" d=\"M121.918 1049.85 L126.802 1049.85 L126.802 1055.73 L121.918 1055.73 L121.918 1049.85 Z\" fill=\"#000000\" fill-rule=\"evenodd\" fill-opacity=\"1\" /><path clip-path=\"url(#clip020)\" d=\"M137.033 1021.17 L155.39 1021.17 L155.39 1025.1 L141.316 1025.1 L141.316 1033.57 Q142.334 1033.23 143.353 1033.07 Q144.371 1032.88 145.39 1032.88 Q151.177 1032.88 154.556 1036.05 Q157.936 1039.22 157.936 1044.64 Q157.936 1050.22 154.464 1053.32 Q150.992 1056.4 144.672 1056.4 Q142.496 1056.4 140.228 1056.03 Q137.982 1055.66 135.575 1054.92 L135.575 1050.22 Q137.658 1051.35 139.881 1051.91 Q142.103 1052.46 144.58 1052.46 Q148.584 1052.46 150.922 1050.36 Q153.26 1048.25 153.26 1044.64 Q153.26 1041.03 150.922 1038.92 Q148.584 1036.82 144.58 1036.82 Q142.705 1036.82 140.83 1037.23 Q138.978 1037.65 137.033 1038.53 L137.033 1021.17 Z\" fill=\"#000000\" fill-rule=\"evenodd\" fill-opacity=\"1\" /><path clip-path=\"url(#clip020)\" d=\"M100.76 752.645 Q97.1493 752.645 95.3206 756.209 Q93.515 759.751 93.515 766.881 Q93.515 773.987 95.3206 777.552 Q97.1493 781.094 100.76 781.094 Q104.395 781.094 106.2 777.552 Q108.029 773.987 108.029 766.881 Q108.029 759.751 106.2 756.209 Q104.395 752.645 100.76 752.645 M100.76 748.941 Q106.571 748.941 109.626 753.547 Q112.705 758.131 112.705 766.881 Q112.705 775.608 109.626 780.214 Q106.571 784.797 100.76 784.797 Q94.9502 784.797 91.8715 780.214 Q88.816 775.608 88.816 766.881 Q88.816 758.131 91.8715 753.547 Q94.9502 748.941 100.76 748.941 Z\" fill=\"#000000\" fill-rule=\"evenodd\" fill-opacity=\"1\" /><path clip-path=\"url(#clip020)\" d=\"M120.922 778.246 L125.807 778.246 L125.807 784.126 L120.922 784.126 L120.922 778.246 Z\" fill=\"#000000\" fill-rule=\"evenodd\" fill-opacity=\"1\" /><path clip-path=\"url(#clip020)\" d=\"M145.992 752.645 Q142.381 752.645 140.552 756.209 Q138.746 759.751 138.746 766.881 Q138.746 773.987 140.552 777.552 Q142.381 781.094 145.992 781.094 Q149.626 781.094 151.431 777.552 Q153.26 773.987 153.26 766.881 Q153.26 759.751 151.431 756.209 Q149.626 752.645 145.992 752.645 M145.992 748.941 Q151.802 748.941 154.857 753.547 Q157.936 758.131 157.936 766.881 Q157.936 775.608 154.857 780.214 Q151.802 784.797 145.992 784.797 Q140.181 784.797 137.103 780.214 Q134.047 775.608 134.047 766.881 Q134.047 758.131 137.103 753.547 Q140.181 748.941 145.992 748.941 Z\" fill=\"#000000\" fill-rule=\"evenodd\" fill-opacity=\"1\" /><path clip-path=\"url(#clip020)\" d=\"M95.7836 508.589 L112.103 508.589 L112.103 512.524 L90.1586 512.524 L90.1586 508.589 Q92.8206 505.835 97.4039 501.205 Q102.01 496.552 103.191 495.21 Q105.436 492.687 106.316 490.95 Q107.219 489.191 107.219 487.501 Q107.219 484.747 105.274 483.011 Q103.353 481.275 100.251 481.275 Q98.0521 481.275 95.5984 482.039 Q93.1678 482.802 90.3901 484.353 L90.3901 479.631 Q93.2141 478.497 95.6678 477.918 Q98.1215 477.339 100.159 477.339 Q105.529 477.339 108.723 480.025 Q111.918 482.71 111.918 487.201 Q111.918 489.33 111.108 491.251 Q110.321 493.15 108.214 495.742 Q107.635 496.413 104.534 499.631 Q101.432 502.825 95.7836 508.589 Z\" fill=\"#000000\" fill-rule=\"evenodd\" fill-opacity=\"1\" /><path clip-path=\"url(#clip020)\" d=\"M121.918 506.645 L126.802 506.645 L126.802 512.524 L121.918 512.524 L121.918 506.645 Z\" fill=\"#000000\" fill-rule=\"evenodd\" fill-opacity=\"1\" /><path clip-path=\"url(#clip020)\" d=\"M137.033 477.964 L155.39 477.964 L155.39 481.9 L141.316 481.9 L141.316 490.372 Q142.334 490.025 143.353 489.863 Q144.371 489.677 145.39 489.677 Q151.177 489.677 154.556 492.849 Q157.936 496.02 157.936 501.437 Q157.936 507.015 154.464 510.117 Q150.992 513.196 144.672 513.196 Q142.496 513.196 140.228 512.825 Q137.982 512.455 135.575 511.714 L135.575 507.015 Q137.658 508.149 139.881 508.705 Q142.103 509.261 144.58 509.261 Q148.584 509.261 150.922 507.154 Q153.26 505.048 153.26 501.437 Q153.26 497.825 150.922 495.719 Q148.584 493.613 144.58 493.613 Q142.705 493.613 140.83 494.029 Q138.978 494.446 137.033 495.325 L137.033 477.964 Z\" fill=\"#000000\" fill-rule=\"evenodd\" fill-opacity=\"1\" /><path clip-path=\"url(#clip020)\" d=\"M90.8067 206.363 L109.163 206.363 L109.163 210.298 L95.0891 210.298 L95.0891 218.77 Q96.1076 218.423 97.1261 218.261 Q98.1447 218.076 99.1632 218.076 Q104.95 218.076 108.33 221.247 Q111.709 224.418 111.709 229.835 Q111.709 235.414 108.237 238.516 Q104.765 241.594 98.4456 241.594 Q96.2697 241.594 94.0012 241.224 Q91.7558 240.853 89.3484 240.113 L89.3484 235.414 Q91.4317 236.548 93.6539 237.103 Q95.8761 237.659 98.353 237.659 Q102.358 237.659 104.696 235.553 Q107.033 233.446 107.033 229.835 Q107.033 226.224 104.696 224.117 Q102.358 222.011 98.353 222.011 Q96.478 222.011 94.603 222.428 Q92.7512 222.844 90.8067 223.724 L90.8067 206.363 Z\" fill=\"#000000\" fill-rule=\"evenodd\" fill-opacity=\"1\" /><path clip-path=\"url(#clip020)\" d=\"M120.922 235.043 L125.807 235.043 L125.807 240.923 L120.922 240.923 L120.922 235.043 Z\" fill=\"#000000\" fill-rule=\"evenodd\" fill-opacity=\"1\" /><path clip-path=\"url(#clip020)\" d=\"M145.992 209.442 Q142.381 209.442 140.552 213.006 Q138.746 216.548 138.746 223.678 Q138.746 230.784 140.552 234.349 Q142.381 237.891 145.992 237.891 Q149.626 237.891 151.431 234.349 Q153.26 230.784 153.26 223.678 Q153.26 216.548 151.431 213.006 Q149.626 209.442 145.992 209.442 M145.992 205.738 Q151.802 205.738 154.857 210.344 Q157.936 214.928 157.936 223.678 Q157.936 232.404 154.857 237.011 Q151.802 241.594 145.992 241.594 Q140.181 241.594 137.103 237.011 Q134.047 232.404 134.047 223.678 Q134.047 214.928 137.103 210.344 Q140.181 205.738 145.992 205.738 Z\" fill=\"#000000\" fill-rule=\"evenodd\" fill-opacity=\"1\" /><polyline clip-path=\"url(#clip022)\" style=\"stroke:#009af9; stroke-linecap:butt; stroke-linejoin:round; stroke-width:4; stroke-opacity:1; fill:none\" points=\"\n",
       "  255.035,766.846 400.508,1259.42 545.981,1426.04 691.454,1156.44 836.927,629.038 982.4,192.825 1127.87,136.465 1273.35,497.252 1418.82,1036.44 1564.29,1397.23 \n",
       "  1709.77,1340.87 1855.24,904.654 2000.71,377.249 2146.18,107.655 2291.66,274.273 \n",
       "  \"/>\n",
       "<circle clip-path=\"url(#clip022)\" cx=\"255.035\" cy=\"766.846\" r=\"14\" fill=\"#009af9\" fill-rule=\"evenodd\" fill-opacity=\"1\" stroke=\"#000000\" stroke-opacity=\"1\" stroke-width=\"3.2\"/>\n",
       "<circle clip-path=\"url(#clip022)\" cx=\"400.508\" cy=\"1259.42\" r=\"14\" fill=\"#009af9\" fill-rule=\"evenodd\" fill-opacity=\"1\" stroke=\"#000000\" stroke-opacity=\"1\" stroke-width=\"3.2\"/>\n",
       "<circle clip-path=\"url(#clip022)\" cx=\"545.981\" cy=\"1426.04\" r=\"14\" fill=\"#009af9\" fill-rule=\"evenodd\" fill-opacity=\"1\" stroke=\"#000000\" stroke-opacity=\"1\" stroke-width=\"3.2\"/>\n",
       "<circle clip-path=\"url(#clip022)\" cx=\"691.454\" cy=\"1156.44\" r=\"14\" fill=\"#009af9\" fill-rule=\"evenodd\" fill-opacity=\"1\" stroke=\"#000000\" stroke-opacity=\"1\" stroke-width=\"3.2\"/>\n",
       "<circle clip-path=\"url(#clip022)\" cx=\"836.927\" cy=\"629.038\" r=\"14\" fill=\"#009af9\" fill-rule=\"evenodd\" fill-opacity=\"1\" stroke=\"#000000\" stroke-opacity=\"1\" stroke-width=\"3.2\"/>\n",
       "<circle clip-path=\"url(#clip022)\" cx=\"982.4\" cy=\"192.825\" r=\"14\" fill=\"#009af9\" fill-rule=\"evenodd\" fill-opacity=\"1\" stroke=\"#000000\" stroke-opacity=\"1\" stroke-width=\"3.2\"/>\n",
       "<circle clip-path=\"url(#clip022)\" cx=\"1127.87\" cy=\"136.465\" r=\"14\" fill=\"#009af9\" fill-rule=\"evenodd\" fill-opacity=\"1\" stroke=\"#000000\" stroke-opacity=\"1\" stroke-width=\"3.2\"/>\n",
       "<circle clip-path=\"url(#clip022)\" cx=\"1273.35\" cy=\"497.252\" r=\"14\" fill=\"#009af9\" fill-rule=\"evenodd\" fill-opacity=\"1\" stroke=\"#000000\" stroke-opacity=\"1\" stroke-width=\"3.2\"/>\n",
       "<circle clip-path=\"url(#clip022)\" cx=\"1418.82\" cy=\"1036.44\" r=\"14\" fill=\"#009af9\" fill-rule=\"evenodd\" fill-opacity=\"1\" stroke=\"#000000\" stroke-opacity=\"1\" stroke-width=\"3.2\"/>\n",
       "<circle clip-path=\"url(#clip022)\" cx=\"1564.29\" cy=\"1397.23\" r=\"14\" fill=\"#009af9\" fill-rule=\"evenodd\" fill-opacity=\"1\" stroke=\"#000000\" stroke-opacity=\"1\" stroke-width=\"3.2\"/>\n",
       "<circle clip-path=\"url(#clip022)\" cx=\"1709.77\" cy=\"1340.87\" r=\"14\" fill=\"#009af9\" fill-rule=\"evenodd\" fill-opacity=\"1\" stroke=\"#000000\" stroke-opacity=\"1\" stroke-width=\"3.2\"/>\n",
       "<circle clip-path=\"url(#clip022)\" cx=\"1855.24\" cy=\"904.654\" r=\"14\" fill=\"#009af9\" fill-rule=\"evenodd\" fill-opacity=\"1\" stroke=\"#000000\" stroke-opacity=\"1\" stroke-width=\"3.2\"/>\n",
       "<circle clip-path=\"url(#clip022)\" cx=\"2000.71\" cy=\"377.249\" r=\"14\" fill=\"#009af9\" fill-rule=\"evenodd\" fill-opacity=\"1\" stroke=\"#000000\" stroke-opacity=\"1\" stroke-width=\"3.2\"/>\n",
       "<circle clip-path=\"url(#clip022)\" cx=\"2146.18\" cy=\"107.655\" r=\"14\" fill=\"#009af9\" fill-rule=\"evenodd\" fill-opacity=\"1\" stroke=\"#000000\" stroke-opacity=\"1\" stroke-width=\"3.2\"/>\n",
       "<circle clip-path=\"url(#clip022)\" cx=\"2291.66\" cy=\"274.273\" r=\"14\" fill=\"#009af9\" fill-rule=\"evenodd\" fill-opacity=\"1\" stroke=\"#000000\" stroke-opacity=\"1\" stroke-width=\"3.2\"/>\n",
       "<polyline clip-path=\"url(#clip022)\" style=\"stroke:#e26f46; stroke-linecap:butt; stroke-linejoin:round; stroke-width:4; stroke-opacity:1; fill:none\" points=\"\n",
       "  255.035,766.846 400.508,1274.12 545.981,1445.72 691.454,1168.07 836.927,624.924 982.4,175.689 1127.87,117.646 1273.35,489.204 1418.82,1044.49 1564.29,1416.05 \n",
       "  1709.77,1358 1855.24,908.768 2000.71,365.618 2146.18,87.9763 2291.66,259.569 \n",
       "  \"/>\n",
       "<path clip-path=\"url(#clip020)\" d=\"\n",
       "M1988.5 276.658 L2280.8 276.658 L2280.8 95.2176 L1988.5 95.2176  Z\n",
       "  \" fill=\"#ffffff\" fill-rule=\"evenodd\" fill-opacity=\"1\"/>\n",
       "<polyline clip-path=\"url(#clip020)\" style=\"stroke:#000000; stroke-linecap:butt; stroke-linejoin:round; stroke-width:4; stroke-opacity:1; fill:none\" points=\"\n",
       "  1988.5,276.658 2280.8,276.658 2280.8,95.2176 1988.5,95.2176 1988.5,276.658 \n",
       "  \"/>\n",
       "<polyline clip-path=\"url(#clip020)\" style=\"stroke:#009af9; stroke-linecap:butt; stroke-linejoin:round; stroke-width:4; stroke-opacity:1; fill:none\" points=\"\n",
       "  2012.48,155.698 2156.4,155.698 \n",
       "  \"/>\n",
       "<circle clip-path=\"url(#clip020)\" cx=\"2084.44\" cy=\"155.698\" r=\"23\" fill=\"#009af9\" fill-rule=\"evenodd\" fill-opacity=\"1\" stroke=\"#000000\" stroke-opacity=\"1\" stroke-width=\"5.12\"/>\n",
       "<path clip-path=\"url(#clip020)\" d=\"M2194.23 175.385 Q2192.43 180.015 2190.72 181.427 Q2189 182.839 2186.13 182.839 L2182.73 182.839 L2182.73 179.274 L2185.23 179.274 Q2186.99 179.274 2187.96 178.44 Q2188.93 177.607 2190.11 174.505 L2190.88 172.561 L2180.39 147.052 L2184.91 147.052 L2193.01 167.329 L2201.11 147.052 L2205.62 147.052 L2194.23 175.385 Z\" fill=\"#000000\" fill-rule=\"evenodd\" fill-opacity=\"1\" /><path clip-path=\"url(#clip020)\" d=\"M2212.91 169.042 L2220.55 169.042 L2220.55 142.677 L2212.24 144.343 L2212.24 140.084 L2220.51 138.418 L2225.18 138.418 L2225.18 169.042 L2232.82 169.042 L2232.82 172.978 L2212.91 172.978 L2212.91 169.042 Z\" fill=\"#000000\" fill-rule=\"evenodd\" fill-opacity=\"1\" /><polyline clip-path=\"url(#clip020)\" style=\"stroke:#e26f46; stroke-linecap:butt; stroke-linejoin:round; stroke-width:4; stroke-opacity:1; fill:none\" points=\"\n",
       "  2012.48,216.178 2156.4,216.178 \n",
       "  \"/>\n",
       "<path clip-path=\"url(#clip020)\" d=\"M2194.23 235.865 Q2192.43 240.495 2190.72 241.907 Q2189 243.319 2186.13 243.319 L2182.73 243.319 L2182.73 239.754 L2185.23 239.754 Q2186.99 239.754 2187.96 238.92 Q2188.93 238.087 2190.11 234.985 L2190.88 233.041 L2180.39 207.532 L2184.91 207.532 L2193.01 227.809 L2201.11 207.532 L2205.62 207.532 L2194.23 235.865 Z\" fill=\"#000000\" fill-rule=\"evenodd\" fill-opacity=\"1\" /><path clip-path=\"url(#clip020)\" d=\"M2216.13 229.522 L2232.45 229.522 L2232.45 233.458 L2210.51 233.458 L2210.51 229.522 Q2213.17 226.768 2217.75 222.138 Q2222.36 217.485 2223.54 216.143 Q2225.78 213.62 2226.66 211.884 Q2227.57 210.124 2227.57 208.435 Q2227.57 205.68 2225.62 203.944 Q2223.7 202.208 2220.6 202.208 Q2218.4 202.208 2215.95 202.972 Q2213.52 203.735 2210.74 205.286 L2210.74 200.564 Q2213.56 199.43 2216.02 198.851 Q2218.47 198.273 2220.51 198.273 Q2225.88 198.273 2229.07 200.958 Q2232.27 203.643 2232.27 208.134 Q2232.27 210.263 2231.46 212.185 Q2230.67 214.083 2228.56 216.675 Q2227.98 217.347 2224.88 220.564 Q2221.78 223.759 2216.13 229.522 Z\" fill=\"#000000\" fill-rule=\"evenodd\" fill-opacity=\"1\" /></svg>\n"
      ]
     },
     "execution_count": 46,
     "metadata": {},
     "output_type": "execute_result"
    }
   ],
   "source": [
    "plot(∂h.grid.xᶜ[1:n], ∂h.data[1:n], marker=:circle)\n",
    "plot!(xᶜ[1:n], ∂hdata_theoretical[1:n])"
   ]
  },
  {
   "cell_type": "code",
   "execution_count": null,
   "id": "5b6c05c3-76e1-49b2-b6ed-e4c6b0b47a31",
   "metadata": {},
   "outputs": [],
   "source": []
  }
 ],
 "metadata": {
  "kernelspec": {
   "display_name": "Julia 1.6.0",
   "language": "julia",
   "name": "julia-1.6"
  },
  "language_info": {
   "file_extension": ".jl",
   "mimetype": "application/julia",
   "name": "julia",
   "version": "1.6.1"
  }
 },
 "nbformat": 4,
 "nbformat_minor": 5
}
